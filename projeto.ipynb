{
 "cells": [
  {
   "cell_type": "markdown",
   "metadata": {},
   "source": [
    "# Imports"
   ]
  },
  {
   "cell_type": "code",
   "execution_count": 1,
   "metadata": {},
   "outputs": [],
   "source": [
    "import pandas as pd\n",
    "import numpy as np\n",
    "import seaborn as sns\n",
    "import warnings\n",
    "warnings.filterwarnings('ignore')\n",
    "from itertools import product\n",
    "from sklearn   import metrics as mt\n",
    "from sklearn.neighbors import KNeighborsClassifier\n",
    "from sklearn.exceptions import ConvergenceWarning\n",
    "from matplotlib import pyplot as plt\n",
    "import re\n",
    "\n",
    "from sklearn.tree import DecisionTreeClassifier, DecisionTreeRegressor\n",
    "from sklearn import linear_model as lm\n",
    "from sklearn.ensemble import RandomForestClassifier, RandomForestRegressor\n",
    "from sklearn.linear_model import LogisticRegression\n",
    "from sklearn.preprocessing  import RobustScaler, MinMaxScaler, PolynomialFeatures\n",
    "from sklearn.pipeline import Pipeline\n",
    "from sklearn.base import clone\n",
    "from sklearn    import cluster  as ct\n"
   ]
  },
  {
   "cell_type": "markdown",
   "metadata": {},
   "source": [
    "# Helper Functions"
   ]
  },
  {
   "cell_type": "code",
   "execution_count": 2,
   "metadata": {},
   "outputs": [],
   "source": [
    "def get_descriptive_statistics(X):\n",
    "    # Central Tendency - mean, median\n",
    "    X.describe().T\n",
    "    ct1 = pd.DataFrame(X.mean()).T\n",
    "    ct2 = pd.DataFrame(X.median()).T\n",
    "\n",
    "    # Dispersion - sdt, min, max, range, skew, kurtosis\n",
    "    d1 = pd.DataFrame(X.std()).T\n",
    "    d2 = pd.DataFrame(X.min()).T\n",
    "    d3 = pd.DataFrame(X.max()).T\n",
    "    d4 = pd.DataFrame(X.apply(lambda x: x.max() - x.min())).T\n",
    "    d5 = pd.DataFrame(X.skew()).T\n",
    "    d6 = pd.DataFrame(X.kurtosis()).T\n",
    "\n",
    "    # concatenate\n",
    "    m = pd.concat([d2, d3, d4, ct1, ct2, d1, d5, d6]).T.reset_index()\n",
    "    m.columns = ['attributes', 'min', 'max', 'range', 'mean', 'median', 'std', 'skew', 'kurtosis']\n",
    "    return m\n",
    "\n",
    "def grid_search(model, param_grid, X_train, y_train, X_val, y_val, classification=True):\n",
    "    \"\"\"\n",
    "    Realiza uma busca em grade (grid search) para encontrar os melhores hiperparâmetros para um modelo.\n",
    "\n",
    "    Args:\n",
    "        model (sklearn.base.BaseEstimator): Instância do modelo a ser ajustado.\n",
    "        param_grid (dict): Dicionário de hiperparâmetros a serem testados.\n",
    "        X_train (pd.DataFrame or np.ndarray): Dados de treinamento (features).\n",
    "        y_train (pd.Series or np.ndarray): Rótulos de treinamento.\n",
    "        X_val (pd.DataFrame or np.ndarray): Dados de validação (features).\n",
    "        y_val (pd.Series or np.ndarray): Rótulos de validação.\n",
    "        classification (bool): Indica se o problema é de classificação (True) ou regressão (False).\n",
    "\n",
    "    Returns:\n",
    "        tuple: Contendo o melhor modelo, os melhores hiperparâmetros e o melhor score.\n",
    "    \"\"\"\n",
    "\n",
    "    # Gera todas as combinações de hiperparâmetros\n",
    "    param_combinations = list(product(*param_grid.values()))\n",
    "    param_names = list(param_grid.keys())\n",
    "\n",
    "    best_score = -np.inf if classification else np.inf\n",
    "    best_params = None\n",
    "    best_model = None\n",
    "\n",
    "    # Loop sobre todas as combinações de hiperparâmetros\n",
    "    for params in param_combinations:\n",
    "        # Cria um dicionário de hiperparâmetros para o modelo\n",
    "        param_dict = {param_names[i]: params[i] for i in range(len(params))}\n",
    "        \n",
    "        # Instanciar e treinar o modelo\n",
    "        model_instance = clone(model)\n",
    "        model_instance.set_params(**param_dict)\n",
    "\n",
    "        # Ignorar warnings temporariamente\n",
    "        with warnings.catch_warnings():\n",
    "            warnings.simplefilter(\"ignore\", category=ConvergenceWarning)\n",
    "            model_instance.fit(X_train, y_train)\n",
    "\n",
    "        # Avaliar o modelo nos dados de validação\n",
    "        y_val_pred = model_instance.predict(X_val)\n",
    "        if classification:\n",
    "            score = mt.f1_score(y_val, y_val_pred)\n",
    "            if score > best_score:\n",
    "                best_score = score\n",
    "                best_params = param_dict\n",
    "                best_model = model_instance\n",
    "        else:\n",
    "            score = np.sqrt(mt.mean_squared_error(y_val, y_val_pred))\n",
    "            if score < best_score:\n",
    "                best_score = score\n",
    "                best_params = param_dict\n",
    "                best_model = model_instance\n",
    "\n",
    "    # Inicializar o best_model novamente para garantir que não há parâmetros internos remanescentes\n",
    "    best_model = clone(model)\n",
    "    best_model.set_params(**best_params)\n",
    "\n",
    "    # Retreinar o melhor modelo encontrado com a união dos dados de treino e validação\n",
    "    X_combined = np.concatenate((X_train, X_val), axis=0)\n",
    "    y_combined = np.concatenate((y_train, y_val), axis=0)\n",
    "    best_model.fit(X_combined, y_combined)\n",
    "\n",
    "    return best_model, best_params, best_score\n",
    "\n",
    "def get_ml_performance(model, X, y, classification=True):\n",
    "    \"\"\"\n",
    "    Realiza uma busca em grade (grid search) para encontrar os melhores hiperparâmetros para um modelo.\n",
    "\n",
    "    Args:\n",
    "        model (sklearn.base.BaseEstimator): Instância do modelo a ser ajustado.\n",
    "        param_grid (dict): Dicionário com hiperparâmetros e listas de valores para testar.\n",
    "        X_train (array-like): Dados de treinamento.\n",
    "        y_train (array-like): Rótulos de treinamento.\n",
    "        X_val (array-like): Dados de validação.\n",
    "        y_val (array-like): Rótulos de validação.\n",
    "        classification (bool): Se True, usa métricas de classificação; se False, usa métricas de regressão.\n",
    "\n",
    "    Returns:\n",
    "        best_model: O melhor modelo treinado com os melhores hiperparâmetros.\n",
    "        best_params: Os melhores hiperparâmetros encontrados.\n",
    "        best_score: A melhor pontuação obtida com os hiperparâmetros.\n",
    "    \"\"\"\n",
    "    # Obter o nome do modelo formatado\n",
    "    splitted = re.sub('([A-Z][a-z]+)', r' \\1', re.sub('([A-Z]+)', r' \\1', model.__class__.__name__)).split()\n",
    "    model_name = \" \".join(n for n in splitted)\n",
    "\n",
    "    # Prever os valores\n",
    "    y_hat = model.predict(X)\n",
    "\n",
    "    if classification:\n",
    "        # Calcular as métricas\n",
    "        accuracy = mt.accuracy_score(y, y_hat)\n",
    "        precision = mt.precision_score(y, y_hat)\n",
    "        recall = mt.recall_score(y, y_hat)\n",
    "        f1 = mt.f1_score(y, y_hat)\n",
    "\n",
    "        return pd.DataFrame({'Algoritmo': model_name,\n",
    "                            'Accuracy': accuracy,\n",
    "                            'Precision': precision,\n",
    "                            'Recall': recall,\n",
    "                            'F1-Score': f1}, index=[0]).round(3)\n",
    "\n",
    "    else:\n",
    "        # Calcular as métricas\n",
    "        r2 = mt.r2_score(y, y_hat)\n",
    "        mse = mt.mean_squared_error(y, y_hat)\n",
    "        rmse = mt.root_mean_squared_error(y, y_hat)\n",
    "        mae = mt.mean_absolute_error(y, y_hat)\n",
    "        mape = mt.mean_absolute_percentage_error(y, y_hat)\n",
    "\n",
    "        return pd.DataFrame({'Algoritmo': model_name,\n",
    "                             'R2': r2,\n",
    "                             'MSE': mse,\n",
    "                             'RMSE': rmse,\n",
    "                             'MAE': mae,\n",
    "                             'MAPE': mape}, index=[0]).round(3)"
   ]
  },
  {
   "cell_type": "markdown",
   "metadata": {},
   "source": [
    "# 1.0 Classificação"
   ]
  },
  {
   "cell_type": "markdown",
   "metadata": {},
   "source": [
    "## 1.1 Load Data"
   ]
  },
  {
   "cell_type": "code",
   "execution_count": 3,
   "metadata": {},
   "outputs": [],
   "source": [
    "X_train_c = pd.read_csv('./datasets/classification/X_training.csv', usecols=lambda column: column != 'id')\n",
    "y_train_c = pd.read_csv('./datasets/classification/y_training.csv').squeeze(\"columns\")\n",
    "\n",
    "X_val_c = pd.read_csv('./datasets/classification/X_validation.csv', usecols=lambda column: column != 'id')\n",
    "y_val_c = pd.read_csv('./datasets/classification/y_validation.csv').squeeze(\"columns\")\n",
    "\n",
    "X_test_c = pd.read_csv('./datasets/classification/X_test.csv', usecols=lambda column: column != 'id')\n",
    "y_test_c = pd.read_csv('./datasets/classification/y_test.csv').squeeze(\"columns\")"
   ]
  },
  {
   "cell_type": "code",
   "execution_count": 4,
   "metadata": {},
   "outputs": [
    {
     "data": {
      "text/html": [
       "<div>\n",
       "<style scoped>\n",
       "    .dataframe tbody tr th:only-of-type {\n",
       "        vertical-align: middle;\n",
       "    }\n",
       "\n",
       "    .dataframe tbody tr th {\n",
       "        vertical-align: top;\n",
       "    }\n",
       "\n",
       "    .dataframe thead th {\n",
       "        text-align: right;\n",
       "    }\n",
       "</style>\n",
       "<table border=\"1\" class=\"dataframe\">\n",
       "  <thead>\n",
       "    <tr style=\"text-align: right;\">\n",
       "      <th></th>\n",
       "      <th>customer_type</th>\n",
       "      <th>age</th>\n",
       "      <th>class</th>\n",
       "      <th>flight_distance</th>\n",
       "      <th>inflight_wifi_service</th>\n",
       "      <th>departure_arrival_time_convenient</th>\n",
       "      <th>ease_of_online_booking</th>\n",
       "      <th>gate_location</th>\n",
       "      <th>food_and_drink</th>\n",
       "      <th>online_boarding</th>\n",
       "      <th>...</th>\n",
       "      <th>baggage_handling</th>\n",
       "      <th>checkin_service</th>\n",
       "      <th>inflight_service</th>\n",
       "      <th>cleanliness</th>\n",
       "      <th>departure_delay_in_minutes</th>\n",
       "      <th>arrival_delay_in_minutes</th>\n",
       "      <th>gender_Female</th>\n",
       "      <th>gender_Male</th>\n",
       "      <th>type_of_travel_business_travel</th>\n",
       "      <th>type_of_travel_personal_travel</th>\n",
       "    </tr>\n",
       "  </thead>\n",
       "  <tbody>\n",
       "    <tr>\n",
       "      <th>0</th>\n",
       "      <td>1</td>\n",
       "      <td>0.500000</td>\n",
       "      <td>0.0</td>\n",
       "      <td>0.039580</td>\n",
       "      <td>0.6</td>\n",
       "      <td>0.6</td>\n",
       "      <td>0.6</td>\n",
       "      <td>0.6</td>\n",
       "      <td>1.0</td>\n",
       "      <td>1.0</td>\n",
       "      <td>...</td>\n",
       "      <td>0.5</td>\n",
       "      <td>1.00</td>\n",
       "      <td>0.6</td>\n",
       "      <td>0.4</td>\n",
       "      <td>0.000000</td>\n",
       "      <td>0.013848</td>\n",
       "      <td>1.0</td>\n",
       "      <td>0.0</td>\n",
       "      <td>1.0</td>\n",
       "      <td>0.0</td>\n",
       "    </tr>\n",
       "    <tr>\n",
       "      <th>1</th>\n",
       "      <td>1</td>\n",
       "      <td>0.243590</td>\n",
       "      <td>0.0</td>\n",
       "      <td>0.205775</td>\n",
       "      <td>0.6</td>\n",
       "      <td>0.4</td>\n",
       "      <td>0.4</td>\n",
       "      <td>0.4</td>\n",
       "      <td>0.6</td>\n",
       "      <td>0.8</td>\n",
       "      <td>...</td>\n",
       "      <td>0.5</td>\n",
       "      <td>0.50</td>\n",
       "      <td>0.2</td>\n",
       "      <td>0.6</td>\n",
       "      <td>0.000000</td>\n",
       "      <td>0.000000</td>\n",
       "      <td>0.0</td>\n",
       "      <td>1.0</td>\n",
       "      <td>1.0</td>\n",
       "      <td>0.0</td>\n",
       "    </tr>\n",
       "    <tr>\n",
       "      <th>2</th>\n",
       "      <td>0</td>\n",
       "      <td>0.435897</td>\n",
       "      <td>1.0</td>\n",
       "      <td>0.026858</td>\n",
       "      <td>0.6</td>\n",
       "      <td>0.6</td>\n",
       "      <td>0.6</td>\n",
       "      <td>0.2</td>\n",
       "      <td>1.0</td>\n",
       "      <td>0.6</td>\n",
       "      <td>...</td>\n",
       "      <td>0.0</td>\n",
       "      <td>1.00</td>\n",
       "      <td>0.6</td>\n",
       "      <td>1.0</td>\n",
       "      <td>0.000000</td>\n",
       "      <td>0.000000</td>\n",
       "      <td>1.0</td>\n",
       "      <td>0.0</td>\n",
       "      <td>1.0</td>\n",
       "      <td>0.0</td>\n",
       "    </tr>\n",
       "    <tr>\n",
       "      <th>3</th>\n",
       "      <td>1</td>\n",
       "      <td>0.589744</td>\n",
       "      <td>0.5</td>\n",
       "      <td>0.041397</td>\n",
       "      <td>0.6</td>\n",
       "      <td>1.0</td>\n",
       "      <td>0.6</td>\n",
       "      <td>0.6</td>\n",
       "      <td>0.8</td>\n",
       "      <td>1.0</td>\n",
       "      <td>...</td>\n",
       "      <td>0.0</td>\n",
       "      <td>1.00</td>\n",
       "      <td>0.4</td>\n",
       "      <td>0.4</td>\n",
       "      <td>0.029499</td>\n",
       "      <td>0.020772</td>\n",
       "      <td>1.0</td>\n",
       "      <td>0.0</td>\n",
       "      <td>0.0</td>\n",
       "      <td>1.0</td>\n",
       "    </tr>\n",
       "    <tr>\n",
       "      <th>4</th>\n",
       "      <td>0</td>\n",
       "      <td>0.423077</td>\n",
       "      <td>1.0</td>\n",
       "      <td>0.016559</td>\n",
       "      <td>0.2</td>\n",
       "      <td>0.2</td>\n",
       "      <td>0.2</td>\n",
       "      <td>0.8</td>\n",
       "      <td>0.6</td>\n",
       "      <td>0.2</td>\n",
       "      <td>...</td>\n",
       "      <td>1.0</td>\n",
       "      <td>0.75</td>\n",
       "      <td>0.8</td>\n",
       "      <td>0.6</td>\n",
       "      <td>0.021632</td>\n",
       "      <td>0.019782</td>\n",
       "      <td>0.0</td>\n",
       "      <td>1.0</td>\n",
       "      <td>1.0</td>\n",
       "      <td>0.0</td>\n",
       "    </tr>\n",
       "  </tbody>\n",
       "</table>\n",
       "<p>5 rows × 24 columns</p>\n",
       "</div>"
      ],
      "text/plain": [
       "   customer_type       age  class  flight_distance  inflight_wifi_service  \\\n",
       "0              1  0.500000    0.0         0.039580                    0.6   \n",
       "1              1  0.243590    0.0         0.205775                    0.6   \n",
       "2              0  0.435897    1.0         0.026858                    0.6   \n",
       "3              1  0.589744    0.5         0.041397                    0.6   \n",
       "4              0  0.423077    1.0         0.016559                    0.2   \n",
       "\n",
       "   departure_arrival_time_convenient  ease_of_online_booking  gate_location  \\\n",
       "0                                0.6                     0.6            0.6   \n",
       "1                                0.4                     0.4            0.4   \n",
       "2                                0.6                     0.6            0.2   \n",
       "3                                1.0                     0.6            0.6   \n",
       "4                                0.2                     0.2            0.8   \n",
       "\n",
       "   food_and_drink  online_boarding  ...  baggage_handling  checkin_service  \\\n",
       "0             1.0              1.0  ...               0.5             1.00   \n",
       "1             0.6              0.8  ...               0.5             0.50   \n",
       "2             1.0              0.6  ...               0.0             1.00   \n",
       "3             0.8              1.0  ...               0.0             1.00   \n",
       "4             0.6              0.2  ...               1.0             0.75   \n",
       "\n",
       "   inflight_service  cleanliness  departure_delay_in_minutes  \\\n",
       "0               0.6          0.4                    0.000000   \n",
       "1               0.2          0.6                    0.000000   \n",
       "2               0.6          1.0                    0.000000   \n",
       "3               0.4          0.4                    0.029499   \n",
       "4               0.8          0.6                    0.021632   \n",
       "\n",
       "   arrival_delay_in_minutes  gender_Female  gender_Male  \\\n",
       "0                  0.013848            1.0          0.0   \n",
       "1                  0.000000            0.0          1.0   \n",
       "2                  0.000000            1.0          0.0   \n",
       "3                  0.020772            1.0          0.0   \n",
       "4                  0.019782            0.0          1.0   \n",
       "\n",
       "   type_of_travel_business_travel  type_of_travel_personal_travel  \n",
       "0                             1.0                             0.0  \n",
       "1                             1.0                             0.0  \n",
       "2                             1.0                             0.0  \n",
       "3                             0.0                             1.0  \n",
       "4                             1.0                             0.0  \n",
       "\n",
       "[5 rows x 24 columns]"
      ]
     },
     "execution_count": 4,
     "metadata": {},
     "output_type": "execute_result"
    }
   ],
   "source": [
    "X_train_c.head()"
   ]
  },
  {
   "cell_type": "code",
   "execution_count": 5,
   "metadata": {},
   "outputs": [
    {
     "data": {
      "text/plain": [
       "0\n",
       "0    56.660001\n",
       "1    43.339999\n",
       "Name: proportion, dtype: float64"
      ]
     },
     "execution_count": 5,
     "metadata": {},
     "output_type": "execute_result"
    }
   ],
   "source": [
    "# Verifica o balanceamento da classe\n",
    "y_train_c.value_counts(normalize=True) *100"
   ]
  },
  {
   "cell_type": "markdown",
   "metadata": {},
   "source": [
    "## 1.2 Data Dimension"
   ]
  },
  {
   "cell_type": "code",
   "execution_count": 6,
   "metadata": {},
   "outputs": [
    {
     "name": "stdout",
     "output_type": "stream",
     "text": [
      "Number of rows in X_train_c: 72515\n",
      "Number of cols in X_train_c: 24\n",
      "Number of rows in X_val_c: 31079\n",
      "Number of cols in X_val_c: 24\n",
      "Number of rows in X_test_c: 25893\n",
      "Number of cols in X_test_c: 24\n"
     ]
    }
   ],
   "source": [
    "print('Number of rows in X_train_c:', X_train_c.shape[0])\n",
    "print('Number of cols in X_train_c:', X_train_c.shape[1])\n",
    "\n",
    "print('Number of rows in X_val_c:', X_val_c.shape[0])\n",
    "print('Number of cols in X_val_c:', X_val_c.shape[1])\n",
    "\n",
    "print('Number of rows in X_test_c:', X_test_c.shape[0])\n",
    "print('Number of cols in X_test_c:', X_test_c.shape[1])"
   ]
  },
  {
   "cell_type": "markdown",
   "metadata": {},
   "source": [
    "## 1.3 Data Types"
   ]
  },
  {
   "cell_type": "code",
   "execution_count": 7,
   "metadata": {},
   "outputs": [
    {
     "data": {
      "text/plain": [
       "customer_type                          int64\n",
       "age                                  float64\n",
       "class                                float64\n",
       "flight_distance                      float64\n",
       "inflight_wifi_service                float64\n",
       "departure_arrival_time_convenient    float64\n",
       "ease_of_online_booking               float64\n",
       "gate_location                        float64\n",
       "food_and_drink                       float64\n",
       "online_boarding                      float64\n",
       "seat_comfort                         float64\n",
       "inflight_entertainment               float64\n",
       "on_board_service                     float64\n",
       "leg_room_service                     float64\n",
       "baggage_handling                     float64\n",
       "checkin_service                      float64\n",
       "inflight_service                     float64\n",
       "cleanliness                          float64\n",
       "departure_delay_in_minutes           float64\n",
       "arrival_delay_in_minutes             float64\n",
       "gender_Female                        float64\n",
       "gender_Male                          float64\n",
       "type_of_travel_business_travel       float64\n",
       "type_of_travel_personal_travel       float64\n",
       "dtype: object"
      ]
     },
     "execution_count": 7,
     "metadata": {},
     "output_type": "execute_result"
    }
   ],
   "source": [
    "# Verifica os tipos de mtodas as colunas de X_train_c\n",
    "X_train_c.dtypes"
   ]
  },
  {
   "cell_type": "markdown",
   "metadata": {},
   "source": [
    "## 1.4 Check NA"
   ]
  },
  {
   "cell_type": "code",
   "execution_count": 8,
   "metadata": {},
   "outputs": [
    {
     "name": "stdout",
     "output_type": "stream",
     "text": [
      "Quantidade valores nulos em X_train_c: 0\n",
      "Quantidade valores nulos em y_train_c: 0\n",
      "Quantidade valores nulos em X_val_c: 0\n",
      "Quantidade valores nulos em y_val_c: 0\n",
      "Quantidade valores nulos em X_test_c: 0\n",
      "Quantidade valores nulos em y_test_c: 0\n"
     ]
    }
   ],
   "source": [
    "print('Quantidade valores nulos em X_train_c:',X_train_c.isna().sum().sum())\n",
    "print('Quantidade valores nulos em y_train_c:', y_train_c.isna().sum())\n",
    "print('Quantidade valores nulos em X_val_c:',X_val_c.isna().sum().sum())\n",
    "print('Quantidade valores nulos em y_val_c:', y_val_c.isna().sum())\n",
    "print('Quantidade valores nulos em X_test_c:',X_test_c.isna().sum().sum())\n",
    "print('Quantidade valores nulos em y_test_c:', y_test_c.isna().sum())\n"
   ]
  },
  {
   "cell_type": "markdown",
   "metadata": {},
   "source": [
    "## 1.5 Estatística Descritiva"
   ]
  },
  {
   "cell_type": "code",
   "execution_count": 9,
   "metadata": {},
   "outputs": [
    {
     "data": {
      "text/html": [
       "<div>\n",
       "<style scoped>\n",
       "    .dataframe tbody tr th:only-of-type {\n",
       "        vertical-align: middle;\n",
       "    }\n",
       "\n",
       "    .dataframe tbody tr th {\n",
       "        vertical-align: top;\n",
       "    }\n",
       "\n",
       "    .dataframe thead th {\n",
       "        text-align: right;\n",
       "    }\n",
       "</style>\n",
       "<table border=\"1\" class=\"dataframe\">\n",
       "  <thead>\n",
       "    <tr style=\"text-align: right;\">\n",
       "      <th></th>\n",
       "      <th>attributes</th>\n",
       "      <th>min</th>\n",
       "      <th>max</th>\n",
       "      <th>range</th>\n",
       "      <th>mean</th>\n",
       "      <th>median</th>\n",
       "      <th>std</th>\n",
       "      <th>skew</th>\n",
       "      <th>kurtosis</th>\n",
       "    </tr>\n",
       "  </thead>\n",
       "  <tbody>\n",
       "    <tr>\n",
       "      <th>0</th>\n",
       "      <td>customer_type</td>\n",
       "      <td>0.0</td>\n",
       "      <td>1.0</td>\n",
       "      <td>1.0</td>\n",
       "      <td>0.817141</td>\n",
       "      <td>1.000000</td>\n",
       "      <td>0.386553</td>\n",
       "      <td>-1.640912</td>\n",
       "      <td>0.692612</td>\n",
       "    </tr>\n",
       "    <tr>\n",
       "      <th>1</th>\n",
       "      <td>age</td>\n",
       "      <td>0.0</td>\n",
       "      <td>1.0</td>\n",
       "      <td>1.0</td>\n",
       "      <td>0.415721</td>\n",
       "      <td>0.423077</td>\n",
       "      <td>0.193586</td>\n",
       "      <td>-0.004312</td>\n",
       "      <td>-0.712876</td>\n",
       "    </tr>\n",
       "    <tr>\n",
       "      <th>2</th>\n",
       "      <td>class</td>\n",
       "      <td>0.0</td>\n",
       "      <td>1.0</td>\n",
       "      <td>1.0</td>\n",
       "      <td>0.514176</td>\n",
       "      <td>0.500000</td>\n",
       "      <td>0.481459</td>\n",
       "      <td>-0.056604</td>\n",
       "      <td>-1.919131</td>\n",
       "    </tr>\n",
       "    <tr>\n",
       "      <th>3</th>\n",
       "      <td>flight_distance</td>\n",
       "      <td>0.0</td>\n",
       "      <td>1.0</td>\n",
       "      <td>1.0</td>\n",
       "      <td>0.234290</td>\n",
       "      <td>0.163772</td>\n",
       "      <td>0.201790</td>\n",
       "      <td>1.107990</td>\n",
       "      <td>0.258393</td>\n",
       "    </tr>\n",
       "    <tr>\n",
       "      <th>4</th>\n",
       "      <td>inflight_wifi_service</td>\n",
       "      <td>0.0</td>\n",
       "      <td>1.0</td>\n",
       "      <td>1.0</td>\n",
       "      <td>0.546646</td>\n",
       "      <td>0.600000</td>\n",
       "      <td>0.265402</td>\n",
       "      <td>0.042277</td>\n",
       "      <td>-0.847620</td>\n",
       "    </tr>\n",
       "    <tr>\n",
       "      <th>5</th>\n",
       "      <td>departure_arrival_time_convenient</td>\n",
       "      <td>0.0</td>\n",
       "      <td>1.0</td>\n",
       "      <td>1.0</td>\n",
       "      <td>0.611898</td>\n",
       "      <td>0.600000</td>\n",
       "      <td>0.304934</td>\n",
       "      <td>-0.335546</td>\n",
       "      <td>-1.035477</td>\n",
       "    </tr>\n",
       "    <tr>\n",
       "      <th>6</th>\n",
       "      <td>ease_of_online_booking</td>\n",
       "      <td>0.0</td>\n",
       "      <td>1.0</td>\n",
       "      <td>1.0</td>\n",
       "      <td>0.551673</td>\n",
       "      <td>0.600000</td>\n",
       "      <td>0.279502</td>\n",
       "      <td>-0.016266</td>\n",
       "      <td>-0.910030</td>\n",
       "    </tr>\n",
       "    <tr>\n",
       "      <th>7</th>\n",
       "      <td>gate_location</td>\n",
       "      <td>0.0</td>\n",
       "      <td>1.0</td>\n",
       "      <td>1.0</td>\n",
       "      <td>0.595620</td>\n",
       "      <td>0.600000</td>\n",
       "      <td>0.255791</td>\n",
       "      <td>-0.057738</td>\n",
       "      <td>-1.034322</td>\n",
       "    </tr>\n",
       "    <tr>\n",
       "      <th>8</th>\n",
       "      <td>food_and_drink</td>\n",
       "      <td>0.0</td>\n",
       "      <td>1.0</td>\n",
       "      <td>1.0</td>\n",
       "      <td>0.640496</td>\n",
       "      <td>0.600000</td>\n",
       "      <td>0.266112</td>\n",
       "      <td>-0.151055</td>\n",
       "      <td>-1.148983</td>\n",
       "    </tr>\n",
       "    <tr>\n",
       "      <th>9</th>\n",
       "      <td>online_boarding</td>\n",
       "      <td>0.0</td>\n",
       "      <td>1.0</td>\n",
       "      <td>1.0</td>\n",
       "      <td>0.650748</td>\n",
       "      <td>0.600000</td>\n",
       "      <td>0.269845</td>\n",
       "      <td>-0.452555</td>\n",
       "      <td>-0.705382</td>\n",
       "    </tr>\n",
       "    <tr>\n",
       "      <th>10</th>\n",
       "      <td>seat_comfort</td>\n",
       "      <td>0.0</td>\n",
       "      <td>1.0</td>\n",
       "      <td>1.0</td>\n",
       "      <td>0.609477</td>\n",
       "      <td>0.750000</td>\n",
       "      <td>0.329774</td>\n",
       "      <td>-0.483225</td>\n",
       "      <td>-0.923829</td>\n",
       "    </tr>\n",
       "    <tr>\n",
       "      <th>11</th>\n",
       "      <td>inflight_entertainment</td>\n",
       "      <td>0.0</td>\n",
       "      <td>1.0</td>\n",
       "      <td>1.0</td>\n",
       "      <td>0.672076</td>\n",
       "      <td>0.800000</td>\n",
       "      <td>0.266792</td>\n",
       "      <td>-0.368389</td>\n",
       "      <td>-1.058913</td>\n",
       "    </tr>\n",
       "    <tr>\n",
       "      <th>12</th>\n",
       "      <td>on_board_service</td>\n",
       "      <td>0.0</td>\n",
       "      <td>1.0</td>\n",
       "      <td>1.0</td>\n",
       "      <td>0.676026</td>\n",
       "      <td>0.800000</td>\n",
       "      <td>0.257857</td>\n",
       "      <td>-0.419006</td>\n",
       "      <td>-0.894607</td>\n",
       "    </tr>\n",
       "    <tr>\n",
       "      <th>13</th>\n",
       "      <td>leg_room_service</td>\n",
       "      <td>0.0</td>\n",
       "      <td>1.0</td>\n",
       "      <td>1.0</td>\n",
       "      <td>0.669147</td>\n",
       "      <td>0.800000</td>\n",
       "      <td>0.263262</td>\n",
       "      <td>-0.344536</td>\n",
       "      <td>-0.982508</td>\n",
       "    </tr>\n",
       "    <tr>\n",
       "      <th>14</th>\n",
       "      <td>baggage_handling</td>\n",
       "      <td>0.0</td>\n",
       "      <td>1.0</td>\n",
       "      <td>1.0</td>\n",
       "      <td>0.657447</td>\n",
       "      <td>0.750000</td>\n",
       "      <td>0.295952</td>\n",
       "      <td>-0.676943</td>\n",
       "      <td>-0.392841</td>\n",
       "    </tr>\n",
       "    <tr>\n",
       "      <th>15</th>\n",
       "      <td>checkin_service</td>\n",
       "      <td>0.0</td>\n",
       "      <td>1.0</td>\n",
       "      <td>1.0</td>\n",
       "      <td>0.575395</td>\n",
       "      <td>0.500000</td>\n",
       "      <td>0.316940</td>\n",
       "      <td>-0.360961</td>\n",
       "      <td>-0.838507</td>\n",
       "    </tr>\n",
       "    <tr>\n",
       "      <th>16</th>\n",
       "      <td>inflight_service</td>\n",
       "      <td>0.0</td>\n",
       "      <td>1.0</td>\n",
       "      <td>1.0</td>\n",
       "      <td>0.727918</td>\n",
       "      <td>0.800000</td>\n",
       "      <td>0.235470</td>\n",
       "      <td>-0.690694</td>\n",
       "      <td>-0.361377</td>\n",
       "    </tr>\n",
       "    <tr>\n",
       "      <th>17</th>\n",
       "      <td>cleanliness</td>\n",
       "      <td>0.0</td>\n",
       "      <td>1.0</td>\n",
       "      <td>1.0</td>\n",
       "      <td>0.657991</td>\n",
       "      <td>0.600000</td>\n",
       "      <td>0.262654</td>\n",
       "      <td>-0.303935</td>\n",
       "      <td>-1.011777</td>\n",
       "    </tr>\n",
       "    <tr>\n",
       "      <th>18</th>\n",
       "      <td>departure_delay_in_minutes</td>\n",
       "      <td>0.0</td>\n",
       "      <td>1.0</td>\n",
       "      <td>1.0</td>\n",
       "      <td>0.014429</td>\n",
       "      <td>0.000000</td>\n",
       "      <td>0.037280</td>\n",
       "      <td>6.287394</td>\n",
       "      <td>72.591725</td>\n",
       "    </tr>\n",
       "    <tr>\n",
       "      <th>19</th>\n",
       "      <td>arrival_delay_in_minutes</td>\n",
       "      <td>0.0</td>\n",
       "      <td>1.0</td>\n",
       "      <td>1.0</td>\n",
       "      <td>0.014973</td>\n",
       "      <td>0.000000</td>\n",
       "      <td>0.038022</td>\n",
       "      <td>6.132868</td>\n",
       "      <td>68.329911</td>\n",
       "    </tr>\n",
       "    <tr>\n",
       "      <th>20</th>\n",
       "      <td>gender_Female</td>\n",
       "      <td>0.0</td>\n",
       "      <td>1.0</td>\n",
       "      <td>1.0</td>\n",
       "      <td>0.506943</td>\n",
       "      <td>1.000000</td>\n",
       "      <td>0.499955</td>\n",
       "      <td>-0.027777</td>\n",
       "      <td>-1.999284</td>\n",
       "    </tr>\n",
       "    <tr>\n",
       "      <th>21</th>\n",
       "      <td>gender_Male</td>\n",
       "      <td>0.0</td>\n",
       "      <td>1.0</td>\n",
       "      <td>1.0</td>\n",
       "      <td>0.493057</td>\n",
       "      <td>0.000000</td>\n",
       "      <td>0.499955</td>\n",
       "      <td>0.027777</td>\n",
       "      <td>-1.999284</td>\n",
       "    </tr>\n",
       "    <tr>\n",
       "      <th>22</th>\n",
       "      <td>type_of_travel_business_travel</td>\n",
       "      <td>0.0</td>\n",
       "      <td>1.0</td>\n",
       "      <td>1.0</td>\n",
       "      <td>0.690078</td>\n",
       "      <td>1.000000</td>\n",
       "      <td>0.462464</td>\n",
       "      <td>-0.822044</td>\n",
       "      <td>-1.324279</td>\n",
       "    </tr>\n",
       "    <tr>\n",
       "      <th>23</th>\n",
       "      <td>type_of_travel_personal_travel</td>\n",
       "      <td>0.0</td>\n",
       "      <td>1.0</td>\n",
       "      <td>1.0</td>\n",
       "      <td>0.309922</td>\n",
       "      <td>0.000000</td>\n",
       "      <td>0.462464</td>\n",
       "      <td>0.822044</td>\n",
       "      <td>-1.324279</td>\n",
       "    </tr>\n",
       "  </tbody>\n",
       "</table>\n",
       "</div>"
      ],
      "text/plain": [
       "                           attributes  min  max  range      mean    median  \\\n",
       "0                       customer_type  0.0  1.0    1.0  0.817141  1.000000   \n",
       "1                                 age  0.0  1.0    1.0  0.415721  0.423077   \n",
       "2                               class  0.0  1.0    1.0  0.514176  0.500000   \n",
       "3                     flight_distance  0.0  1.0    1.0  0.234290  0.163772   \n",
       "4               inflight_wifi_service  0.0  1.0    1.0  0.546646  0.600000   \n",
       "5   departure_arrival_time_convenient  0.0  1.0    1.0  0.611898  0.600000   \n",
       "6              ease_of_online_booking  0.0  1.0    1.0  0.551673  0.600000   \n",
       "7                       gate_location  0.0  1.0    1.0  0.595620  0.600000   \n",
       "8                      food_and_drink  0.0  1.0    1.0  0.640496  0.600000   \n",
       "9                     online_boarding  0.0  1.0    1.0  0.650748  0.600000   \n",
       "10                       seat_comfort  0.0  1.0    1.0  0.609477  0.750000   \n",
       "11             inflight_entertainment  0.0  1.0    1.0  0.672076  0.800000   \n",
       "12                   on_board_service  0.0  1.0    1.0  0.676026  0.800000   \n",
       "13                   leg_room_service  0.0  1.0    1.0  0.669147  0.800000   \n",
       "14                   baggage_handling  0.0  1.0    1.0  0.657447  0.750000   \n",
       "15                    checkin_service  0.0  1.0    1.0  0.575395  0.500000   \n",
       "16                   inflight_service  0.0  1.0    1.0  0.727918  0.800000   \n",
       "17                        cleanliness  0.0  1.0    1.0  0.657991  0.600000   \n",
       "18         departure_delay_in_minutes  0.0  1.0    1.0  0.014429  0.000000   \n",
       "19           arrival_delay_in_minutes  0.0  1.0    1.0  0.014973  0.000000   \n",
       "20                      gender_Female  0.0  1.0    1.0  0.506943  1.000000   \n",
       "21                        gender_Male  0.0  1.0    1.0  0.493057  0.000000   \n",
       "22     type_of_travel_business_travel  0.0  1.0    1.0  0.690078  1.000000   \n",
       "23     type_of_travel_personal_travel  0.0  1.0    1.0  0.309922  0.000000   \n",
       "\n",
       "         std      skew   kurtosis  \n",
       "0   0.386553 -1.640912   0.692612  \n",
       "1   0.193586 -0.004312  -0.712876  \n",
       "2   0.481459 -0.056604  -1.919131  \n",
       "3   0.201790  1.107990   0.258393  \n",
       "4   0.265402  0.042277  -0.847620  \n",
       "5   0.304934 -0.335546  -1.035477  \n",
       "6   0.279502 -0.016266  -0.910030  \n",
       "7   0.255791 -0.057738  -1.034322  \n",
       "8   0.266112 -0.151055  -1.148983  \n",
       "9   0.269845 -0.452555  -0.705382  \n",
       "10  0.329774 -0.483225  -0.923829  \n",
       "11  0.266792 -0.368389  -1.058913  \n",
       "12  0.257857 -0.419006  -0.894607  \n",
       "13  0.263262 -0.344536  -0.982508  \n",
       "14  0.295952 -0.676943  -0.392841  \n",
       "15  0.316940 -0.360961  -0.838507  \n",
       "16  0.235470 -0.690694  -0.361377  \n",
       "17  0.262654 -0.303935  -1.011777  \n",
       "18  0.037280  6.287394  72.591725  \n",
       "19  0.038022  6.132868  68.329911  \n",
       "20  0.499955 -0.027777  -1.999284  \n",
       "21  0.499955  0.027777  -1.999284  \n",
       "22  0.462464 -0.822044  -1.324279  \n",
       "23  0.462464  0.822044  -1.324279  "
      ]
     },
     "execution_count": 9,
     "metadata": {},
     "output_type": "execute_result"
    }
   ],
   "source": [
    "get_descriptive_statistics(X_train_c)"
   ]
  },
  {
   "cell_type": "markdown",
   "metadata": {},
   "source": [
    "## 1.6 O Ensaio de Machine Learning - Classificação"
   ]
  },
  {
   "cell_type": "markdown",
   "metadata": {},
   "source": [
    "### 1.6.1 K-Neighbors Classifier"
   ]
  },
  {
   "cell_type": "code",
   "execution_count": 10,
   "metadata": {},
   "outputs": [
    {
     "name": "stdout",
     "output_type": "stream",
     "text": [
      "{'n_neighbors': 9}\n"
     ]
    }
   ],
   "source": [
    "# Defina a grade de hiperparâmetros a serem testados\n",
    "param_grid = {\n",
    "    'n_neighbors': [2, 3, 4, 5, 6, 7, 8, 9, 10, 11, 12],\n",
    "}\n",
    "\n",
    "best_model, best_params, _ = grid_search(KNeighborsClassifier(), param_grid, X_train_c, y_train_c, X_val_c, y_val_c)\n",
    "print(best_params)"
   ]
  },
  {
   "cell_type": "markdown",
   "metadata": {},
   "source": [
    "#### Performance sobre os dados de treino"
   ]
  },
  {
   "cell_type": "code",
   "execution_count": 11,
   "metadata": {},
   "outputs": [
    {
     "data": {
      "text/html": [
       "<div>\n",
       "<style scoped>\n",
       "    .dataframe tbody tr th:only-of-type {\n",
       "        vertical-align: middle;\n",
       "    }\n",
       "\n",
       "    .dataframe tbody tr th {\n",
       "        vertical-align: top;\n",
       "    }\n",
       "\n",
       "    .dataframe thead th {\n",
       "        text-align: right;\n",
       "    }\n",
       "</style>\n",
       "<table border=\"1\" class=\"dataframe\">\n",
       "  <thead>\n",
       "    <tr style=\"text-align: right;\">\n",
       "      <th></th>\n",
       "      <th>Algoritmo</th>\n",
       "      <th>Accuracy</th>\n",
       "      <th>Precision</th>\n",
       "      <th>Recall</th>\n",
       "      <th>F1-Score</th>\n",
       "    </tr>\n",
       "  </thead>\n",
       "  <tbody>\n",
       "    <tr>\n",
       "      <th>0</th>\n",
       "      <td>K Neighbors Classifier</td>\n",
       "      <td>0.941</td>\n",
       "      <td>0.967</td>\n",
       "      <td>0.894</td>\n",
       "      <td>0.929</td>\n",
       "    </tr>\n",
       "  </tbody>\n",
       "</table>\n",
       "</div>"
      ],
      "text/plain": [
       "                Algoritmo  Accuracy  Precision  Recall  F1-Score\n",
       "0  K Neighbors Classifier     0.941      0.967   0.894     0.929"
      ]
     },
     "execution_count": 11,
     "metadata": {},
     "output_type": "execute_result"
    }
   ],
   "source": [
    "knn_result_train = get_ml_performance(best_model, X_train_c, y_train_c)\n",
    "knn_result_train"
   ]
  },
  {
   "cell_type": "markdown",
   "metadata": {},
   "source": [
    "#### Performance sobre os dados de validação"
   ]
  },
  {
   "cell_type": "code",
   "execution_count": 12,
   "metadata": {},
   "outputs": [
    {
     "data": {
      "text/html": [
       "<div>\n",
       "<style scoped>\n",
       "    .dataframe tbody tr th:only-of-type {\n",
       "        vertical-align: middle;\n",
       "    }\n",
       "\n",
       "    .dataframe tbody tr th {\n",
       "        vertical-align: top;\n",
       "    }\n",
       "\n",
       "    .dataframe thead th {\n",
       "        text-align: right;\n",
       "    }\n",
       "</style>\n",
       "<table border=\"1\" class=\"dataframe\">\n",
       "  <thead>\n",
       "    <tr style=\"text-align: right;\">\n",
       "      <th></th>\n",
       "      <th>Algoritmo</th>\n",
       "      <th>Accuracy</th>\n",
       "      <th>Precision</th>\n",
       "      <th>Recall</th>\n",
       "      <th>F1-Score</th>\n",
       "    </tr>\n",
       "  </thead>\n",
       "  <tbody>\n",
       "    <tr>\n",
       "      <th>0</th>\n",
       "      <td>K Neighbors Classifier</td>\n",
       "      <td>0.939</td>\n",
       "      <td>0.966</td>\n",
       "      <td>0.891</td>\n",
       "      <td>0.927</td>\n",
       "    </tr>\n",
       "  </tbody>\n",
       "</table>\n",
       "</div>"
      ],
      "text/plain": [
       "                Algoritmo  Accuracy  Precision  Recall  F1-Score\n",
       "0  K Neighbors Classifier     0.939      0.966   0.891     0.927"
      ]
     },
     "execution_count": 12,
     "metadata": {},
     "output_type": "execute_result"
    }
   ],
   "source": [
    "knn_result_val = get_ml_performance(best_model, X_val_c, y_val_c)\n",
    "knn_result_val"
   ]
  },
  {
   "cell_type": "markdown",
   "metadata": {},
   "source": [
    "#### Performance sobre os dados de teste"
   ]
  },
  {
   "cell_type": "code",
   "execution_count": 13,
   "metadata": {},
   "outputs": [
    {
     "data": {
      "text/html": [
       "<div>\n",
       "<style scoped>\n",
       "    .dataframe tbody tr th:only-of-type {\n",
       "        vertical-align: middle;\n",
       "    }\n",
       "\n",
       "    .dataframe tbody tr th {\n",
       "        vertical-align: top;\n",
       "    }\n",
       "\n",
       "    .dataframe thead th {\n",
       "        text-align: right;\n",
       "    }\n",
       "</style>\n",
       "<table border=\"1\" class=\"dataframe\">\n",
       "  <thead>\n",
       "    <tr style=\"text-align: right;\">\n",
       "      <th></th>\n",
       "      <th>Algoritmo</th>\n",
       "      <th>Accuracy</th>\n",
       "      <th>Precision</th>\n",
       "      <th>Recall</th>\n",
       "      <th>F1-Score</th>\n",
       "    </tr>\n",
       "  </thead>\n",
       "  <tbody>\n",
       "    <tr>\n",
       "      <th>0</th>\n",
       "      <td>K Neighbors Classifier</td>\n",
       "      <td>0.929</td>\n",
       "      <td>0.957</td>\n",
       "      <td>0.879</td>\n",
       "      <td>0.916</td>\n",
       "    </tr>\n",
       "  </tbody>\n",
       "</table>\n",
       "</div>"
      ],
      "text/plain": [
       "                Algoritmo  Accuracy  Precision  Recall  F1-Score\n",
       "0  K Neighbors Classifier     0.929      0.957   0.879     0.916"
      ]
     },
     "execution_count": 13,
     "metadata": {},
     "output_type": "execute_result"
    }
   ],
   "source": [
    "knn_result_test = get_ml_performance(best_model, X_test_c, y_test_c)\n",
    "knn_result_test"
   ]
  },
  {
   "cell_type": "markdown",
   "metadata": {},
   "source": [
    "### 1.6.2 Decision Tree"
   ]
  },
  {
   "cell_type": "code",
   "execution_count": 14,
   "metadata": {},
   "outputs": [
    {
     "name": "stdout",
     "output_type": "stream",
     "text": [
      "{'max_depth': 14, 'random_state': 42}\n"
     ]
    }
   ],
   "source": [
    "# Defina a grade de hiperparâmetros a serem testados\n",
    "param_grid = {\n",
    "    'max_depth': [3, 4, 5, 6, 5, 10, 12, 13, 14, 15, 16, 17, 18, 19, 20, 25, 30],\n",
    "    'random_state': [42]\n",
    "}\n",
    "\n",
    "best_model, best_params, _ = grid_search(DecisionTreeClassifier(), param_grid, X_train_c, y_train_c, X_val_c, y_val_c)\n",
    "print(best_params)"
   ]
  },
  {
   "cell_type": "markdown",
   "metadata": {},
   "source": [
    "#### Performance sobre os dados de treino"
   ]
  },
  {
   "cell_type": "code",
   "execution_count": 15,
   "metadata": {},
   "outputs": [
    {
     "data": {
      "text/html": [
       "<div>\n",
       "<style scoped>\n",
       "    .dataframe tbody tr th:only-of-type {\n",
       "        vertical-align: middle;\n",
       "    }\n",
       "\n",
       "    .dataframe tbody tr th {\n",
       "        vertical-align: top;\n",
       "    }\n",
       "\n",
       "    .dataframe thead th {\n",
       "        text-align: right;\n",
       "    }\n",
       "</style>\n",
       "<table border=\"1\" class=\"dataframe\">\n",
       "  <thead>\n",
       "    <tr style=\"text-align: right;\">\n",
       "      <th></th>\n",
       "      <th>Algoritmo</th>\n",
       "      <th>Accuracy</th>\n",
       "      <th>Precision</th>\n",
       "      <th>Recall</th>\n",
       "      <th>F1-Score</th>\n",
       "    </tr>\n",
       "  </thead>\n",
       "  <tbody>\n",
       "    <tr>\n",
       "      <th>0</th>\n",
       "      <td>Decision Tree Classifier</td>\n",
       "      <td>0.971</td>\n",
       "      <td>0.979</td>\n",
       "      <td>0.953</td>\n",
       "      <td>0.966</td>\n",
       "    </tr>\n",
       "  </tbody>\n",
       "</table>\n",
       "</div>"
      ],
      "text/plain": [
       "                  Algoritmo  Accuracy  Precision  Recall  F1-Score\n",
       "0  Decision Tree Classifier     0.971      0.979   0.953     0.966"
      ]
     },
     "execution_count": 15,
     "metadata": {},
     "output_type": "execute_result"
    }
   ],
   "source": [
    "dt_result_train = get_ml_performance(best_model, X_train_c, y_train_c)\n",
    "dt_result_train"
   ]
  },
  {
   "cell_type": "markdown",
   "metadata": {},
   "source": [
    "#### Performance sobre os dados de validação"
   ]
  },
  {
   "cell_type": "code",
   "execution_count": 16,
   "metadata": {},
   "outputs": [
    {
     "data": {
      "text/html": [
       "<div>\n",
       "<style scoped>\n",
       "    .dataframe tbody tr th:only-of-type {\n",
       "        vertical-align: middle;\n",
       "    }\n",
       "\n",
       "    .dataframe tbody tr th {\n",
       "        vertical-align: top;\n",
       "    }\n",
       "\n",
       "    .dataframe thead th {\n",
       "        text-align: right;\n",
       "    }\n",
       "</style>\n",
       "<table border=\"1\" class=\"dataframe\">\n",
       "  <thead>\n",
       "    <tr style=\"text-align: right;\">\n",
       "      <th></th>\n",
       "      <th>Algoritmo</th>\n",
       "      <th>Accuracy</th>\n",
       "      <th>Precision</th>\n",
       "      <th>Recall</th>\n",
       "      <th>F1-Score</th>\n",
       "    </tr>\n",
       "  </thead>\n",
       "  <tbody>\n",
       "    <tr>\n",
       "      <th>0</th>\n",
       "      <td>Decision Tree Classifier</td>\n",
       "      <td>0.971</td>\n",
       "      <td>0.979</td>\n",
       "      <td>0.953</td>\n",
       "      <td>0.966</td>\n",
       "    </tr>\n",
       "  </tbody>\n",
       "</table>\n",
       "</div>"
      ],
      "text/plain": [
       "                  Algoritmo  Accuracy  Precision  Recall  F1-Score\n",
       "0  Decision Tree Classifier     0.971      0.979   0.953     0.966"
      ]
     },
     "execution_count": 16,
     "metadata": {},
     "output_type": "execute_result"
    }
   ],
   "source": [
    "dt_result_val = get_ml_performance(best_model, X_val_c, y_val_c)\n",
    "dt_result_val"
   ]
  },
  {
   "cell_type": "markdown",
   "metadata": {},
   "source": [
    "#### Performance sobre os dados de teste"
   ]
  },
  {
   "cell_type": "code",
   "execution_count": 17,
   "metadata": {},
   "outputs": [
    {
     "data": {
      "text/html": [
       "<div>\n",
       "<style scoped>\n",
       "    .dataframe tbody tr th:only-of-type {\n",
       "        vertical-align: middle;\n",
       "    }\n",
       "\n",
       "    .dataframe tbody tr th {\n",
       "        vertical-align: top;\n",
       "    }\n",
       "\n",
       "    .dataframe thead th {\n",
       "        text-align: right;\n",
       "    }\n",
       "</style>\n",
       "<table border=\"1\" class=\"dataframe\">\n",
       "  <thead>\n",
       "    <tr style=\"text-align: right;\">\n",
       "      <th></th>\n",
       "      <th>Algoritmo</th>\n",
       "      <th>Accuracy</th>\n",
       "      <th>Precision</th>\n",
       "      <th>Recall</th>\n",
       "      <th>F1-Score</th>\n",
       "    </tr>\n",
       "  </thead>\n",
       "  <tbody>\n",
       "    <tr>\n",
       "      <th>0</th>\n",
       "      <td>Decision Tree Classifier</td>\n",
       "      <td>0.956</td>\n",
       "      <td>0.961</td>\n",
       "      <td>0.937</td>\n",
       "      <td>0.949</td>\n",
       "    </tr>\n",
       "  </tbody>\n",
       "</table>\n",
       "</div>"
      ],
      "text/plain": [
       "                  Algoritmo  Accuracy  Precision  Recall  F1-Score\n",
       "0  Decision Tree Classifier     0.956      0.961   0.937     0.949"
      ]
     },
     "execution_count": 17,
     "metadata": {},
     "output_type": "execute_result"
    }
   ],
   "source": [
    "dt_result_test = get_ml_performance(best_model, X_test_c, y_test_c)\n",
    "dt_result_test"
   ]
  },
  {
   "cell_type": "markdown",
   "metadata": {},
   "source": [
    "### 1.6.3 Random Forest"
   ]
  },
  {
   "cell_type": "code",
   "execution_count": 18,
   "metadata": {},
   "outputs": [
    {
     "name": "stdout",
     "output_type": "stream",
     "text": [
      "{'n_estimators': 100, 'max_depth': 25, 'random_state': 42}\n"
     ]
    }
   ],
   "source": [
    "# Defina a grade de hiperparâmetros a serem testados\n",
    "param_grid = {\n",
    "    'n_estimators': [10, 25, 50, 75, 100, 125, 150],\n",
    "    'max_depth': [3, 5, 10, 15, 20, 25, 30],\n",
    "    'random_state': [42]\n",
    "}\n",
    "\n",
    "best_model, best_params, _ = grid_search(RandomForestClassifier(), param_grid, X_train_c, y_train_c, X_val_c, y_val_c)\n",
    "print(best_params)"
   ]
  },
  {
   "cell_type": "markdown",
   "metadata": {},
   "source": [
    "#### Performance sobre os dados de treino"
   ]
  },
  {
   "cell_type": "code",
   "execution_count": 19,
   "metadata": {},
   "outputs": [
    {
     "data": {
      "text/html": [
       "<div>\n",
       "<style scoped>\n",
       "    .dataframe tbody tr th:only-of-type {\n",
       "        vertical-align: middle;\n",
       "    }\n",
       "\n",
       "    .dataframe tbody tr th {\n",
       "        vertical-align: top;\n",
       "    }\n",
       "\n",
       "    .dataframe thead th {\n",
       "        text-align: right;\n",
       "    }\n",
       "</style>\n",
       "<table border=\"1\" class=\"dataframe\">\n",
       "  <thead>\n",
       "    <tr style=\"text-align: right;\">\n",
       "      <th></th>\n",
       "      <th>Algoritmo</th>\n",
       "      <th>Accuracy</th>\n",
       "      <th>Precision</th>\n",
       "      <th>Recall</th>\n",
       "      <th>F1-Score</th>\n",
       "    </tr>\n",
       "  </thead>\n",
       "  <tbody>\n",
       "    <tr>\n",
       "      <th>0</th>\n",
       "      <td>Random Forest Classifier</td>\n",
       "      <td>0.999</td>\n",
       "      <td>1.0</td>\n",
       "      <td>0.998</td>\n",
       "      <td>0.999</td>\n",
       "    </tr>\n",
       "  </tbody>\n",
       "</table>\n",
       "</div>"
      ],
      "text/plain": [
       "                  Algoritmo  Accuracy  Precision  Recall  F1-Score\n",
       "0  Random Forest Classifier     0.999        1.0   0.998     0.999"
      ]
     },
     "execution_count": 19,
     "metadata": {},
     "output_type": "execute_result"
    }
   ],
   "source": [
    "rf_result_train = get_ml_performance(best_model, X_train_c, y_train_c)\n",
    "rf_result_train"
   ]
  },
  {
   "cell_type": "markdown",
   "metadata": {},
   "source": [
    "#### Performance sobre os dados de validação"
   ]
  },
  {
   "cell_type": "code",
   "execution_count": 20,
   "metadata": {},
   "outputs": [
    {
     "data": {
      "text/html": [
       "<div>\n",
       "<style scoped>\n",
       "    .dataframe tbody tr th:only-of-type {\n",
       "        vertical-align: middle;\n",
       "    }\n",
       "\n",
       "    .dataframe tbody tr th {\n",
       "        vertical-align: top;\n",
       "    }\n",
       "\n",
       "    .dataframe thead th {\n",
       "        text-align: right;\n",
       "    }\n",
       "</style>\n",
       "<table border=\"1\" class=\"dataframe\">\n",
       "  <thead>\n",
       "    <tr style=\"text-align: right;\">\n",
       "      <th></th>\n",
       "      <th>Algoritmo</th>\n",
       "      <th>Accuracy</th>\n",
       "      <th>Precision</th>\n",
       "      <th>Recall</th>\n",
       "      <th>F1-Score</th>\n",
       "    </tr>\n",
       "  </thead>\n",
       "  <tbody>\n",
       "    <tr>\n",
       "      <th>0</th>\n",
       "      <td>Random Forest Classifier</td>\n",
       "      <td>0.999</td>\n",
       "      <td>1.0</td>\n",
       "      <td>0.998</td>\n",
       "      <td>0.999</td>\n",
       "    </tr>\n",
       "  </tbody>\n",
       "</table>\n",
       "</div>"
      ],
      "text/plain": [
       "                  Algoritmo  Accuracy  Precision  Recall  F1-Score\n",
       "0  Random Forest Classifier     0.999        1.0   0.998     0.999"
      ]
     },
     "execution_count": 20,
     "metadata": {},
     "output_type": "execute_result"
    }
   ],
   "source": [
    "rf_result_val = get_ml_performance(best_model, X_val_c, y_val_c)\n",
    "rf_result_val"
   ]
  },
  {
   "cell_type": "markdown",
   "metadata": {},
   "source": [
    "#### Performance sobre os dados de teste"
   ]
  },
  {
   "cell_type": "code",
   "execution_count": 21,
   "metadata": {},
   "outputs": [
    {
     "data": {
      "text/html": [
       "<div>\n",
       "<style scoped>\n",
       "    .dataframe tbody tr th:only-of-type {\n",
       "        vertical-align: middle;\n",
       "    }\n",
       "\n",
       "    .dataframe tbody tr th {\n",
       "        vertical-align: top;\n",
       "    }\n",
       "\n",
       "    .dataframe thead th {\n",
       "        text-align: right;\n",
       "    }\n",
       "</style>\n",
       "<table border=\"1\" class=\"dataframe\">\n",
       "  <thead>\n",
       "    <tr style=\"text-align: right;\">\n",
       "      <th></th>\n",
       "      <th>Algoritmo</th>\n",
       "      <th>Accuracy</th>\n",
       "      <th>Precision</th>\n",
       "      <th>Recall</th>\n",
       "      <th>F1-Score</th>\n",
       "    </tr>\n",
       "  </thead>\n",
       "  <tbody>\n",
       "    <tr>\n",
       "      <th>0</th>\n",
       "      <td>Random Forest Classifier</td>\n",
       "      <td>0.963</td>\n",
       "      <td>0.972</td>\n",
       "      <td>0.942</td>\n",
       "      <td>0.957</td>\n",
       "    </tr>\n",
       "  </tbody>\n",
       "</table>\n",
       "</div>"
      ],
      "text/plain": [
       "                  Algoritmo  Accuracy  Precision  Recall  F1-Score\n",
       "0  Random Forest Classifier     0.963      0.972   0.942     0.957"
      ]
     },
     "execution_count": 21,
     "metadata": {},
     "output_type": "execute_result"
    }
   ],
   "source": [
    "rf_result_test = get_ml_performance(best_model, X_test_c, y_test_c)\n",
    "rf_result_test"
   ]
  },
  {
   "cell_type": "markdown",
   "metadata": {},
   "source": [
    "### 1.6.4 Logistic Regression"
   ]
  },
  {
   "cell_type": "code",
   "execution_count": 22,
   "metadata": {},
   "outputs": [
    {
     "name": "stdout",
     "output_type": "stream",
     "text": [
      "{'C': 1.0, 'solver': 'lbfgs', 'max_iter': 100, 'random_state': 42}\n"
     ]
    }
   ],
   "source": [
    "# Defina a grade de hiperparâmetros a serem testados\n",
    "param_grid = {\n",
    "    'C': [0.01, 1.0, 10],\n",
    "    'solver': ['liblinear', 'newton-cg', 'lbfgs', 'saga'],\n",
    "    'max_iter': [100, 200, 300, 500],\n",
    "    'random_state': [42]\n",
    "}\n",
    "\n",
    "best_model, best_params, _ = grid_search(LogisticRegression(), param_grid, X_train_c, y_train_c, X_val_c, y_val_c);\n",
    "print(best_params)"
   ]
  },
  {
   "cell_type": "markdown",
   "metadata": {},
   "source": [
    "#### Performance sobre os dados de treino"
   ]
  },
  {
   "cell_type": "code",
   "execution_count": 23,
   "metadata": {},
   "outputs": [
    {
     "data": {
      "text/html": [
       "<div>\n",
       "<style scoped>\n",
       "    .dataframe tbody tr th:only-of-type {\n",
       "        vertical-align: middle;\n",
       "    }\n",
       "\n",
       "    .dataframe tbody tr th {\n",
       "        vertical-align: top;\n",
       "    }\n",
       "\n",
       "    .dataframe thead th {\n",
       "        text-align: right;\n",
       "    }\n",
       "</style>\n",
       "<table border=\"1\" class=\"dataframe\">\n",
       "  <thead>\n",
       "    <tr style=\"text-align: right;\">\n",
       "      <th></th>\n",
       "      <th>Algoritmo</th>\n",
       "      <th>Accuracy</th>\n",
       "      <th>Precision</th>\n",
       "      <th>Recall</th>\n",
       "      <th>F1-Score</th>\n",
       "    </tr>\n",
       "  </thead>\n",
       "  <tbody>\n",
       "    <tr>\n",
       "      <th>0</th>\n",
       "      <td>Logistic Regression</td>\n",
       "      <td>0.875</td>\n",
       "      <td>0.87</td>\n",
       "      <td>0.836</td>\n",
       "      <td>0.853</td>\n",
       "    </tr>\n",
       "  </tbody>\n",
       "</table>\n",
       "</div>"
      ],
      "text/plain": [
       "             Algoritmo  Accuracy  Precision  Recall  F1-Score\n",
       "0  Logistic Regression     0.875       0.87   0.836     0.853"
      ]
     },
     "execution_count": 23,
     "metadata": {},
     "output_type": "execute_result"
    }
   ],
   "source": [
    "lr_result_train = get_ml_performance(best_model, X_train_c, y_train_c)\n",
    "lr_result_train"
   ]
  },
  {
   "cell_type": "markdown",
   "metadata": {},
   "source": [
    "#### Performance sobre os dados de validação"
   ]
  },
  {
   "cell_type": "code",
   "execution_count": 24,
   "metadata": {},
   "outputs": [
    {
     "data": {
      "text/html": [
       "<div>\n",
       "<style scoped>\n",
       "    .dataframe tbody tr th:only-of-type {\n",
       "        vertical-align: middle;\n",
       "    }\n",
       "\n",
       "    .dataframe tbody tr th {\n",
       "        vertical-align: top;\n",
       "    }\n",
       "\n",
       "    .dataframe thead th {\n",
       "        text-align: right;\n",
       "    }\n",
       "</style>\n",
       "<table border=\"1\" class=\"dataframe\">\n",
       "  <thead>\n",
       "    <tr style=\"text-align: right;\">\n",
       "      <th></th>\n",
       "      <th>Algoritmo</th>\n",
       "      <th>Accuracy</th>\n",
       "      <th>Precision</th>\n",
       "      <th>Recall</th>\n",
       "      <th>F1-Score</th>\n",
       "    </tr>\n",
       "  </thead>\n",
       "  <tbody>\n",
       "    <tr>\n",
       "      <th>0</th>\n",
       "      <td>Logistic Regression</td>\n",
       "      <td>0.874</td>\n",
       "      <td>0.869</td>\n",
       "      <td>0.835</td>\n",
       "      <td>0.851</td>\n",
       "    </tr>\n",
       "  </tbody>\n",
       "</table>\n",
       "</div>"
      ],
      "text/plain": [
       "             Algoritmo  Accuracy  Precision  Recall  F1-Score\n",
       "0  Logistic Regression     0.874      0.869   0.835     0.851"
      ]
     },
     "execution_count": 24,
     "metadata": {},
     "output_type": "execute_result"
    }
   ],
   "source": [
    "lr_result_val = get_ml_performance(best_model, X_val_c, y_val_c)\n",
    "lr_result_val"
   ]
  },
  {
   "cell_type": "markdown",
   "metadata": {},
   "source": [
    "#### Performance sobre os dados de teste"
   ]
  },
  {
   "cell_type": "code",
   "execution_count": 25,
   "metadata": {},
   "outputs": [
    {
     "data": {
      "text/html": [
       "<div>\n",
       "<style scoped>\n",
       "    .dataframe tbody tr th:only-of-type {\n",
       "        vertical-align: middle;\n",
       "    }\n",
       "\n",
       "    .dataframe tbody tr th {\n",
       "        vertical-align: top;\n",
       "    }\n",
       "\n",
       "    .dataframe thead th {\n",
       "        text-align: right;\n",
       "    }\n",
       "</style>\n",
       "<table border=\"1\" class=\"dataframe\">\n",
       "  <thead>\n",
       "    <tr style=\"text-align: right;\">\n",
       "      <th></th>\n",
       "      <th>Algoritmo</th>\n",
       "      <th>Accuracy</th>\n",
       "      <th>Precision</th>\n",
       "      <th>Recall</th>\n",
       "      <th>F1-Score</th>\n",
       "    </tr>\n",
       "  </thead>\n",
       "  <tbody>\n",
       "    <tr>\n",
       "      <th>0</th>\n",
       "      <td>Logistic Regression</td>\n",
       "      <td>0.871</td>\n",
       "      <td>0.869</td>\n",
       "      <td>0.832</td>\n",
       "      <td>0.85</td>\n",
       "    </tr>\n",
       "  </tbody>\n",
       "</table>\n",
       "</div>"
      ],
      "text/plain": [
       "             Algoritmo  Accuracy  Precision  Recall  F1-Score\n",
       "0  Logistic Regression     0.871      0.869   0.832      0.85"
      ]
     },
     "execution_count": 25,
     "metadata": {},
     "output_type": "execute_result"
    }
   ],
   "source": [
    "lr_result_test = get_ml_performance(best_model, X_test_c, y_test_c)\n",
    "lr_result_test"
   ]
  },
  {
   "cell_type": "markdown",
   "metadata": {},
   "source": [
    "## 1.5 Resultado Final"
   ]
  },
  {
   "cell_type": "markdown",
   "metadata": {},
   "source": [
    "### Dados de Treinamento"
   ]
  },
  {
   "cell_type": "code",
   "execution_count": 26,
   "metadata": {},
   "outputs": [
    {
     "data": {
      "text/html": [
       "<div>\n",
       "<style scoped>\n",
       "    .dataframe tbody tr th:only-of-type {\n",
       "        vertical-align: middle;\n",
       "    }\n",
       "\n",
       "    .dataframe tbody tr th {\n",
       "        vertical-align: top;\n",
       "    }\n",
       "\n",
       "    .dataframe thead th {\n",
       "        text-align: right;\n",
       "    }\n",
       "</style>\n",
       "<table border=\"1\" class=\"dataframe\">\n",
       "  <thead>\n",
       "    <tr style=\"text-align: right;\">\n",
       "      <th></th>\n",
       "      <th>Algoritmo</th>\n",
       "      <th>Accuracy</th>\n",
       "      <th>Precision</th>\n",
       "      <th>Recall</th>\n",
       "      <th>F1-Score</th>\n",
       "    </tr>\n",
       "  </thead>\n",
       "  <tbody>\n",
       "    <tr>\n",
       "      <th>0</th>\n",
       "      <td>K Neighbors Classifier</td>\n",
       "      <td>0.941</td>\n",
       "      <td>0.967</td>\n",
       "      <td>0.894</td>\n",
       "      <td>0.929</td>\n",
       "    </tr>\n",
       "    <tr>\n",
       "      <th>1</th>\n",
       "      <td>Decision Tree Classifier</td>\n",
       "      <td>0.971</td>\n",
       "      <td>0.979</td>\n",
       "      <td>0.953</td>\n",
       "      <td>0.966</td>\n",
       "    </tr>\n",
       "    <tr>\n",
       "      <th>2</th>\n",
       "      <td>Random Forest Classifier</td>\n",
       "      <td>0.999</td>\n",
       "      <td>1.000</td>\n",
       "      <td>0.998</td>\n",
       "      <td>0.999</td>\n",
       "    </tr>\n",
       "    <tr>\n",
       "      <th>3</th>\n",
       "      <td>Logistic Regression</td>\n",
       "      <td>0.875</td>\n",
       "      <td>0.870</td>\n",
       "      <td>0.836</td>\n",
       "      <td>0.853</td>\n",
       "    </tr>\n",
       "  </tbody>\n",
       "</table>\n",
       "</div>"
      ],
      "text/plain": [
       "                  Algoritmo  Accuracy  Precision  Recall  F1-Score\n",
       "0    K Neighbors Classifier     0.941      0.967   0.894     0.929\n",
       "1  Decision Tree Classifier     0.971      0.979   0.953     0.966\n",
       "2  Random Forest Classifier     0.999      1.000   0.998     0.999\n",
       "3       Logistic Regression     0.875      0.870   0.836     0.853"
      ]
     },
     "execution_count": 26,
     "metadata": {},
     "output_type": "execute_result"
    }
   ],
   "source": [
    "training_results_classification = pd.concat([knn_result_train, dt_result_train, rf_result_train, lr_result_train])\n",
    "training_results_classification = training_results_classification.reset_index(drop=True)\n",
    "training_results_classification"
   ]
  },
  {
   "cell_type": "markdown",
   "metadata": {},
   "source": [
    "### Dados de Validação"
   ]
  },
  {
   "cell_type": "code",
   "execution_count": 27,
   "metadata": {},
   "outputs": [
    {
     "data": {
      "text/html": [
       "<div>\n",
       "<style scoped>\n",
       "    .dataframe tbody tr th:only-of-type {\n",
       "        vertical-align: middle;\n",
       "    }\n",
       "\n",
       "    .dataframe tbody tr th {\n",
       "        vertical-align: top;\n",
       "    }\n",
       "\n",
       "    .dataframe thead th {\n",
       "        text-align: right;\n",
       "    }\n",
       "</style>\n",
       "<table border=\"1\" class=\"dataframe\">\n",
       "  <thead>\n",
       "    <tr style=\"text-align: right;\">\n",
       "      <th></th>\n",
       "      <th>Algoritmo</th>\n",
       "      <th>Accuracy</th>\n",
       "      <th>Precision</th>\n",
       "      <th>Recall</th>\n",
       "      <th>F1-Score</th>\n",
       "    </tr>\n",
       "  </thead>\n",
       "  <tbody>\n",
       "    <tr>\n",
       "      <th>0</th>\n",
       "      <td>K Neighbors Classifier</td>\n",
       "      <td>0.939</td>\n",
       "      <td>0.966</td>\n",
       "      <td>0.891</td>\n",
       "      <td>0.927</td>\n",
       "    </tr>\n",
       "    <tr>\n",
       "      <th>1</th>\n",
       "      <td>Decision Tree Classifier</td>\n",
       "      <td>0.971</td>\n",
       "      <td>0.979</td>\n",
       "      <td>0.953</td>\n",
       "      <td>0.966</td>\n",
       "    </tr>\n",
       "    <tr>\n",
       "      <th>2</th>\n",
       "      <td>Random Forest Classifier</td>\n",
       "      <td>0.999</td>\n",
       "      <td>1.000</td>\n",
       "      <td>0.998</td>\n",
       "      <td>0.999</td>\n",
       "    </tr>\n",
       "    <tr>\n",
       "      <th>3</th>\n",
       "      <td>Logistic Regression</td>\n",
       "      <td>0.874</td>\n",
       "      <td>0.869</td>\n",
       "      <td>0.835</td>\n",
       "      <td>0.851</td>\n",
       "    </tr>\n",
       "  </tbody>\n",
       "</table>\n",
       "</div>"
      ],
      "text/plain": [
       "                  Algoritmo  Accuracy  Precision  Recall  F1-Score\n",
       "0    K Neighbors Classifier     0.939      0.966   0.891     0.927\n",
       "1  Decision Tree Classifier     0.971      0.979   0.953     0.966\n",
       "2  Random Forest Classifier     0.999      1.000   0.998     0.999\n",
       "3       Logistic Regression     0.874      0.869   0.835     0.851"
      ]
     },
     "execution_count": 27,
     "metadata": {},
     "output_type": "execute_result"
    }
   ],
   "source": [
    "validation_results_classification = pd.concat([knn_result_val, dt_result_val, rf_result_val, lr_result_val])\n",
    "validation_results_classification = validation_results_classification.reset_index(drop=True)\n",
    "validation_results_classification"
   ]
  },
  {
   "cell_type": "markdown",
   "metadata": {},
   "source": [
    "### Dados de Teste"
   ]
  },
  {
   "cell_type": "code",
   "execution_count": 28,
   "metadata": {},
   "outputs": [
    {
     "data": {
      "text/html": [
       "<div>\n",
       "<style scoped>\n",
       "    .dataframe tbody tr th:only-of-type {\n",
       "        vertical-align: middle;\n",
       "    }\n",
       "\n",
       "    .dataframe tbody tr th {\n",
       "        vertical-align: top;\n",
       "    }\n",
       "\n",
       "    .dataframe thead th {\n",
       "        text-align: right;\n",
       "    }\n",
       "</style>\n",
       "<table border=\"1\" class=\"dataframe\">\n",
       "  <thead>\n",
       "    <tr style=\"text-align: right;\">\n",
       "      <th></th>\n",
       "      <th>Algoritmo</th>\n",
       "      <th>Accuracy</th>\n",
       "      <th>Precision</th>\n",
       "      <th>Recall</th>\n",
       "      <th>F1-Score</th>\n",
       "    </tr>\n",
       "  </thead>\n",
       "  <tbody>\n",
       "    <tr>\n",
       "      <th>0</th>\n",
       "      <td>K Neighbors Classifier</td>\n",
       "      <td>0.929</td>\n",
       "      <td>0.957</td>\n",
       "      <td>0.879</td>\n",
       "      <td>0.916</td>\n",
       "    </tr>\n",
       "    <tr>\n",
       "      <th>1</th>\n",
       "      <td>Decision Tree Classifier</td>\n",
       "      <td>0.956</td>\n",
       "      <td>0.961</td>\n",
       "      <td>0.937</td>\n",
       "      <td>0.949</td>\n",
       "    </tr>\n",
       "    <tr>\n",
       "      <th>2</th>\n",
       "      <td>Random Forest Classifier</td>\n",
       "      <td>0.963</td>\n",
       "      <td>0.972</td>\n",
       "      <td>0.942</td>\n",
       "      <td>0.957</td>\n",
       "    </tr>\n",
       "    <tr>\n",
       "      <th>3</th>\n",
       "      <td>Logistic Regression</td>\n",
       "      <td>0.871</td>\n",
       "      <td>0.869</td>\n",
       "      <td>0.832</td>\n",
       "      <td>0.850</td>\n",
       "    </tr>\n",
       "  </tbody>\n",
       "</table>\n",
       "</div>"
      ],
      "text/plain": [
       "                  Algoritmo  Accuracy  Precision  Recall  F1-Score\n",
       "0    K Neighbors Classifier     0.929      0.957   0.879     0.916\n",
       "1  Decision Tree Classifier     0.956      0.961   0.937     0.949\n",
       "2  Random Forest Classifier     0.963      0.972   0.942     0.957\n",
       "3       Logistic Regression     0.871      0.869   0.832     0.850"
      ]
     },
     "execution_count": 28,
     "metadata": {},
     "output_type": "execute_result"
    }
   ],
   "source": [
    "test_results_classification = pd.concat([knn_result_test, dt_result_test, rf_result_test, lr_result_test])\n",
    "test_results_classification = test_results_classification.reset_index(drop=True)\n",
    "test_results_classification"
   ]
  },
  {
   "cell_type": "markdown",
   "metadata": {},
   "source": [
    "# 2.0 Regressão"
   ]
  },
  {
   "cell_type": "markdown",
   "metadata": {},
   "source": [
    "## 2.1 Load Data"
   ]
  },
  {
   "cell_type": "code",
   "execution_count": 29,
   "metadata": {},
   "outputs": [],
   "source": [
    "X_train_r = pd.read_csv('./datasets/regression/X_training.csv')\n",
    "y_train_r = pd.read_csv('./datasets/regression/y_training.csv').squeeze(\"columns\")\n",
    "\n",
    "X_val_r = pd.read_csv('./datasets/regression/X_validation.csv')\n",
    "y_val_r = pd.read_csv('./datasets/regression/y_val.csv').squeeze(\"columns\")\n",
    "\n",
    "X_test_r = pd.read_csv('./datasets/regression/X_test.csv')\n",
    "y_test_r = pd.read_csv('./datasets/regression/y_test.csv').squeeze(\"columns\")"
   ]
  },
  {
   "cell_type": "code",
   "execution_count": 30,
   "metadata": {},
   "outputs": [
    {
     "data": {
      "text/html": [
       "<div>\n",
       "<style scoped>\n",
       "    .dataframe tbody tr th:only-of-type {\n",
       "        vertical-align: middle;\n",
       "    }\n",
       "\n",
       "    .dataframe tbody tr th {\n",
       "        vertical-align: top;\n",
       "    }\n",
       "\n",
       "    .dataframe thead th {\n",
       "        text-align: right;\n",
       "    }\n",
       "</style>\n",
       "<table border=\"1\" class=\"dataframe\">\n",
       "  <thead>\n",
       "    <tr style=\"text-align: right;\">\n",
       "      <th></th>\n",
       "      <th>song_duration_ms</th>\n",
       "      <th>acousticness</th>\n",
       "      <th>danceability</th>\n",
       "      <th>energy</th>\n",
       "      <th>instrumentalness</th>\n",
       "      <th>key</th>\n",
       "      <th>liveness</th>\n",
       "      <th>loudness</th>\n",
       "      <th>audio_mode</th>\n",
       "      <th>speechiness</th>\n",
       "      <th>tempo</th>\n",
       "      <th>time_signature</th>\n",
       "      <th>audio_valence</th>\n",
       "    </tr>\n",
       "  </thead>\n",
       "  <tbody>\n",
       "    <tr>\n",
       "      <th>0</th>\n",
       "      <td>0.205673</td>\n",
       "      <td>0.092100</td>\n",
       "      <td>0.720</td>\n",
       "      <td>0.802</td>\n",
       "      <td>0.000000</td>\n",
       "      <td>0.090909</td>\n",
       "      <td>0.694</td>\n",
       "      <td>0.431778</td>\n",
       "      <td>1</td>\n",
       "      <td>0.0582</td>\n",
       "      <td>0.103876</td>\n",
       "      <td>0.8</td>\n",
       "      <td>0.723</td>\n",
       "    </tr>\n",
       "    <tr>\n",
       "      <th>1</th>\n",
       "      <td>-0.240409</td>\n",
       "      <td>0.737000</td>\n",
       "      <td>0.483</td>\n",
       "      <td>0.412</td>\n",
       "      <td>0.000000</td>\n",
       "      <td>0.636364</td>\n",
       "      <td>0.116</td>\n",
       "      <td>-0.262732</td>\n",
       "      <td>1</td>\n",
       "      <td>0.0402</td>\n",
       "      <td>1.711532</td>\n",
       "      <td>0.6</td>\n",
       "      <td>0.247</td>\n",
       "    </tr>\n",
       "    <tr>\n",
       "      <th>2</th>\n",
       "      <td>-0.125770</td>\n",
       "      <td>0.274000</td>\n",
       "      <td>0.671</td>\n",
       "      <td>0.565</td>\n",
       "      <td>0.000065</td>\n",
       "      <td>1.000000</td>\n",
       "      <td>0.370</td>\n",
       "      <td>0.013612</td>\n",
       "      <td>0</td>\n",
       "      <td>0.1600</td>\n",
       "      <td>1.009176</td>\n",
       "      <td>0.8</td>\n",
       "      <td>0.561</td>\n",
       "    </tr>\n",
       "    <tr>\n",
       "      <th>3</th>\n",
       "      <td>-0.580967</td>\n",
       "      <td>0.002340</td>\n",
       "      <td>0.704</td>\n",
       "      <td>0.529</td>\n",
       "      <td>0.874000</td>\n",
       "      <td>1.000000</td>\n",
       "      <td>0.370</td>\n",
       "      <td>-0.266382</td>\n",
       "      <td>0</td>\n",
       "      <td>0.0416</td>\n",
       "      <td>0.666173</td>\n",
       "      <td>0.8</td>\n",
       "      <td>0.507</td>\n",
       "    </tr>\n",
       "    <tr>\n",
       "      <th>4</th>\n",
       "      <td>-0.688566</td>\n",
       "      <td>0.000414</td>\n",
       "      <td>0.354</td>\n",
       "      <td>0.910</td>\n",
       "      <td>0.205000</td>\n",
       "      <td>0.090909</td>\n",
       "      <td>0.456</td>\n",
       "      <td>0.422914</td>\n",
       "      <td>1</td>\n",
       "      <td>0.0430</td>\n",
       "      <td>1.182630</td>\n",
       "      <td>0.8</td>\n",
       "      <td>0.362</td>\n",
       "    </tr>\n",
       "  </tbody>\n",
       "</table>\n",
       "</div>"
      ],
      "text/plain": [
       "   song_duration_ms  acousticness  danceability  energy  instrumentalness  \\\n",
       "0          0.205673      0.092100         0.720   0.802          0.000000   \n",
       "1         -0.240409      0.737000         0.483   0.412          0.000000   \n",
       "2         -0.125770      0.274000         0.671   0.565          0.000065   \n",
       "3         -0.580967      0.002340         0.704   0.529          0.874000   \n",
       "4         -0.688566      0.000414         0.354   0.910          0.205000   \n",
       "\n",
       "        key  liveness  loudness  audio_mode  speechiness     tempo  \\\n",
       "0  0.090909     0.694  0.431778           1       0.0582  0.103876   \n",
       "1  0.636364     0.116 -0.262732           1       0.0402  1.711532   \n",
       "2  1.000000     0.370  0.013612           0       0.1600  1.009176   \n",
       "3  1.000000     0.370 -0.266382           0       0.0416  0.666173   \n",
       "4  0.090909     0.456  0.422914           1       0.0430  1.182630   \n",
       "\n",
       "   time_signature  audio_valence  \n",
       "0             0.8          0.723  \n",
       "1             0.6          0.247  \n",
       "2             0.8          0.561  \n",
       "3             0.8          0.507  \n",
       "4             0.8          0.362  "
      ]
     },
     "execution_count": 30,
     "metadata": {},
     "output_type": "execute_result"
    }
   ],
   "source": [
    "X_train_r.head()"
   ]
  },
  {
   "cell_type": "markdown",
   "metadata": {},
   "source": [
    "## 2.2 Data Diemsnion"
   ]
  },
  {
   "cell_type": "code",
   "execution_count": 31,
   "metadata": {},
   "outputs": [
    {
     "name": "stdout",
     "output_type": "stream",
     "text": [
      "Number of rows in X_train_c: 10547\n",
      "Number of cols in X_train_c: 13\n",
      "Number of rows in X_val_c: 4521\n",
      "Number of cols in X_val_c: 13\n",
      "Number of rows in X_test_c: 3767\n",
      "Number of cols in X_test_c: 13\n"
     ]
    }
   ],
   "source": [
    "print('Number of rows in X_train_c:', X_train_r.shape[0])\n",
    "print('Number of cols in X_train_c:', X_train_r.shape[1])\n",
    "\n",
    "print('Number of rows in X_val_c:', X_val_r.shape[0])\n",
    "print('Number of cols in X_val_c:', X_val_r.shape[1])\n",
    "\n",
    "print('Number of rows in X_test_c:', X_test_r.shape[0])\n",
    "print('Number of cols in X_test_c:', X_test_r.shape[1])"
   ]
  },
  {
   "cell_type": "markdown",
   "metadata": {},
   "source": [
    "## 2.3 Data Types"
   ]
  },
  {
   "cell_type": "code",
   "execution_count": 32,
   "metadata": {},
   "outputs": [
    {
     "data": {
      "text/plain": [
       "song_duration_ms    float64\n",
       "acousticness        float64\n",
       "danceability        float64\n",
       "energy              float64\n",
       "instrumentalness    float64\n",
       "key                 float64\n",
       "liveness            float64\n",
       "loudness            float64\n",
       "audio_mode            int64\n",
       "speechiness         float64\n",
       "tempo               float64\n",
       "time_signature      float64\n",
       "audio_valence       float64\n",
       "dtype: object"
      ]
     },
     "execution_count": 32,
     "metadata": {},
     "output_type": "execute_result"
    }
   ],
   "source": [
    "# Verifica os tipos de mtodas as colunas de X_train_r\n",
    "X_train_r.dtypes"
   ]
  },
  {
   "cell_type": "code",
   "execution_count": 33,
   "metadata": {},
   "outputs": [
    {
     "data": {
      "text/plain": [
       "dtype('float64')"
      ]
     },
     "execution_count": 33,
     "metadata": {},
     "output_type": "execute_result"
    }
   ],
   "source": [
    "y_train_r.dtype"
   ]
  },
  {
   "cell_type": "markdown",
   "metadata": {},
   "source": [
    "## 2.4 Check NA"
   ]
  },
  {
   "cell_type": "code",
   "execution_count": 34,
   "metadata": {},
   "outputs": [
    {
     "name": "stdout",
     "output_type": "stream",
     "text": [
      "Quantidade valores nulos em X_train_c: 0\n",
      "Quantidade valores nulos em y_train_c: 0\n",
      "Quantidade valores nulos em X_val_c: 0\n",
      "Quantidade valores nulos em y_val_c: 0\n",
      "Quantidade valores nulos em X_test_c: 0\n",
      "Quantidade valores nulos em y_test_c: 0\n"
     ]
    }
   ],
   "source": [
    "print('Quantidade valores nulos em X_train_c:',X_train_r.isna().sum().sum())\n",
    "print('Quantidade valores nulos em y_train_c:', y_train_r.isna().sum())\n",
    "print('Quantidade valores nulos em X_val_c:',X_val_r.isna().sum().sum())\n",
    "print('Quantidade valores nulos em y_val_c:', y_val_r.isna().sum())\n",
    "print('Quantidade valores nulos em X_test_c:',X_test_r.isna().sum().sum())\n",
    "print('Quantidade valores nulos em y_test_c:', y_test_r.isna().sum())"
   ]
  },
  {
   "cell_type": "markdown",
   "metadata": {},
   "source": [
    "## 2.5 Estatística Descritiva"
   ]
  },
  {
   "cell_type": "code",
   "execution_count": 35,
   "metadata": {},
   "outputs": [
    {
     "data": {
      "text/html": [
       "<div>\n",
       "<style scoped>\n",
       "    .dataframe tbody tr th:only-of-type {\n",
       "        vertical-align: middle;\n",
       "    }\n",
       "\n",
       "    .dataframe tbody tr th {\n",
       "        vertical-align: top;\n",
       "    }\n",
       "\n",
       "    .dataframe thead th {\n",
       "        text-align: right;\n",
       "    }\n",
       "</style>\n",
       "<table border=\"1\" class=\"dataframe\">\n",
       "  <thead>\n",
       "    <tr style=\"text-align: right;\">\n",
       "      <th></th>\n",
       "      <th>attributes</th>\n",
       "      <th>min</th>\n",
       "      <th>max</th>\n",
       "      <th>range</th>\n",
       "      <th>mean</th>\n",
       "      <th>median</th>\n",
       "      <th>std</th>\n",
       "      <th>skew</th>\n",
       "      <th>kurtosis</th>\n",
       "    </tr>\n",
       "  </thead>\n",
       "  <tbody>\n",
       "    <tr>\n",
       "      <th>0</th>\n",
       "      <td>song_duration_ms</td>\n",
       "      <td>-3.553790</td>\n",
       "      <td>19.690992</td>\n",
       "      <td>23.244783</td>\n",
       "      <td>5.995857e-17</td>\n",
       "      <td>-0.114649</td>\n",
       "      <td>1.000047</td>\n",
       "      <td>2.242482</td>\n",
       "      <td>21.496564</td>\n",
       "    </tr>\n",
       "    <tr>\n",
       "      <th>1</th>\n",
       "      <td>acousticness</td>\n",
       "      <td>0.000001</td>\n",
       "      <td>0.996000</td>\n",
       "      <td>0.995999</td>\n",
       "      <td>2.595024e-01</td>\n",
       "      <td>0.132000</td>\n",
       "      <td>0.290173</td>\n",
       "      <td>1.070440</td>\n",
       "      <td>-0.106567</td>\n",
       "    </tr>\n",
       "    <tr>\n",
       "      <th>2</th>\n",
       "      <td>danceability</td>\n",
       "      <td>0.000000</td>\n",
       "      <td>0.987000</td>\n",
       "      <td>0.987000</td>\n",
       "      <td>6.339740e-01</td>\n",
       "      <td>0.645000</td>\n",
       "      <td>0.156223</td>\n",
       "      <td>-0.371467</td>\n",
       "      <td>-0.126337</td>\n",
       "    </tr>\n",
       "    <tr>\n",
       "      <th>3</th>\n",
       "      <td>energy</td>\n",
       "      <td>0.001070</td>\n",
       "      <td>0.999000</td>\n",
       "      <td>0.997930</td>\n",
       "      <td>6.454382e-01</td>\n",
       "      <td>0.675000</td>\n",
       "      <td>0.214348</td>\n",
       "      <td>-0.642314</td>\n",
       "      <td>-0.100924</td>\n",
       "    </tr>\n",
       "    <tr>\n",
       "      <th>4</th>\n",
       "      <td>instrumentalness</td>\n",
       "      <td>0.000000</td>\n",
       "      <td>0.989000</td>\n",
       "      <td>0.989000</td>\n",
       "      <td>7.908867e-02</td>\n",
       "      <td>0.000011</td>\n",
       "      <td>0.222818</td>\n",
       "      <td>2.955467</td>\n",
       "      <td>7.381473</td>\n",
       "    </tr>\n",
       "    <tr>\n",
       "      <th>5</th>\n",
       "      <td>key</td>\n",
       "      <td>0.000000</td>\n",
       "      <td>1.000000</td>\n",
       "      <td>1.000000</td>\n",
       "      <td>4.831964e-01</td>\n",
       "      <td>0.454545</td>\n",
       "      <td>0.327242</td>\n",
       "      <td>-0.013645</td>\n",
       "      <td>-1.298911</td>\n",
       "    </tr>\n",
       "    <tr>\n",
       "      <th>6</th>\n",
       "      <td>liveness</td>\n",
       "      <td>0.015700</td>\n",
       "      <td>0.984000</td>\n",
       "      <td>0.968300</td>\n",
       "      <td>1.804160e-01</td>\n",
       "      <td>0.122000</td>\n",
       "      <td>0.144705</td>\n",
       "      <td>2.175439</td>\n",
       "      <td>5.533373</td>\n",
       "    </tr>\n",
       "    <tr>\n",
       "      <th>7</th>\n",
       "      <td>loudness</td>\n",
       "      <td>-7.632256</td>\n",
       "      <td>2.292930</td>\n",
       "      <td>9.925186</td>\n",
       "      <td>2.489291e-16</td>\n",
       "      <td>0.234688</td>\n",
       "      <td>1.000047</td>\n",
       "      <td>-1.912834</td>\n",
       "      <td>6.317610</td>\n",
       "    </tr>\n",
       "    <tr>\n",
       "      <th>8</th>\n",
       "      <td>audio_mode</td>\n",
       "      <td>0.000000</td>\n",
       "      <td>1.000000</td>\n",
       "      <td>1.000000</td>\n",
       "      <td>6.270978e-01</td>\n",
       "      <td>1.000000</td>\n",
       "      <td>0.483599</td>\n",
       "      <td>-0.525732</td>\n",
       "      <td>-1.723933</td>\n",
       "    </tr>\n",
       "    <tr>\n",
       "      <th>9</th>\n",
       "      <td>speechiness</td>\n",
       "      <td>0.000000</td>\n",
       "      <td>0.941000</td>\n",
       "      <td>0.941000</td>\n",
       "      <td>1.009372e-01</td>\n",
       "      <td>0.055200</td>\n",
       "      <td>0.103352</td>\n",
       "      <td>2.333375</td>\n",
       "      <td>6.955731</td>\n",
       "    </tr>\n",
       "    <tr>\n",
       "      <th>10</th>\n",
       "      <td>tempo</td>\n",
       "      <td>-4.220028</td>\n",
       "      <td>4.226719</td>\n",
       "      <td>8.446748</td>\n",
       "      <td>-9.499054e-17</td>\n",
       "      <td>-0.036567</td>\n",
       "      <td>1.000047</td>\n",
       "      <td>0.450400</td>\n",
       "      <td>-0.154508</td>\n",
       "    </tr>\n",
       "    <tr>\n",
       "      <th>11</th>\n",
       "      <td>time_signature</td>\n",
       "      <td>0.000000</td>\n",
       "      <td>1.000000</td>\n",
       "      <td>1.000000</td>\n",
       "      <td>7.915805e-01</td>\n",
       "      <td>0.800000</td>\n",
       "      <td>0.060822</td>\n",
       "      <td>-5.004475</td>\n",
       "      <td>45.871753</td>\n",
       "    </tr>\n",
       "    <tr>\n",
       "      <th>12</th>\n",
       "      <td>audio_valence</td>\n",
       "      <td>0.000000</td>\n",
       "      <td>0.982000</td>\n",
       "      <td>0.982000</td>\n",
       "      <td>5.298793e-01</td>\n",
       "      <td>0.532000</td>\n",
       "      <td>0.244461</td>\n",
       "      <td>-0.033314</td>\n",
       "      <td>-0.981200</td>\n",
       "    </tr>\n",
       "  </tbody>\n",
       "</table>\n",
       "</div>"
      ],
      "text/plain": [
       "          attributes       min        max      range          mean    median  \\\n",
       "0   song_duration_ms -3.553790  19.690992  23.244783  5.995857e-17 -0.114649   \n",
       "1       acousticness  0.000001   0.996000   0.995999  2.595024e-01  0.132000   \n",
       "2       danceability  0.000000   0.987000   0.987000  6.339740e-01  0.645000   \n",
       "3             energy  0.001070   0.999000   0.997930  6.454382e-01  0.675000   \n",
       "4   instrumentalness  0.000000   0.989000   0.989000  7.908867e-02  0.000011   \n",
       "5                key  0.000000   1.000000   1.000000  4.831964e-01  0.454545   \n",
       "6           liveness  0.015700   0.984000   0.968300  1.804160e-01  0.122000   \n",
       "7           loudness -7.632256   2.292930   9.925186  2.489291e-16  0.234688   \n",
       "8         audio_mode  0.000000   1.000000   1.000000  6.270978e-01  1.000000   \n",
       "9        speechiness  0.000000   0.941000   0.941000  1.009372e-01  0.055200   \n",
       "10             tempo -4.220028   4.226719   8.446748 -9.499054e-17 -0.036567   \n",
       "11    time_signature  0.000000   1.000000   1.000000  7.915805e-01  0.800000   \n",
       "12     audio_valence  0.000000   0.982000   0.982000  5.298793e-01  0.532000   \n",
       "\n",
       "         std      skew   kurtosis  \n",
       "0   1.000047  2.242482  21.496564  \n",
       "1   0.290173  1.070440  -0.106567  \n",
       "2   0.156223 -0.371467  -0.126337  \n",
       "3   0.214348 -0.642314  -0.100924  \n",
       "4   0.222818  2.955467   7.381473  \n",
       "5   0.327242 -0.013645  -1.298911  \n",
       "6   0.144705  2.175439   5.533373  \n",
       "7   1.000047 -1.912834   6.317610  \n",
       "8   0.483599 -0.525732  -1.723933  \n",
       "9   0.103352  2.333375   6.955731  \n",
       "10  1.000047  0.450400  -0.154508  \n",
       "11  0.060822 -5.004475  45.871753  \n",
       "12  0.244461 -0.033314  -0.981200  "
      ]
     },
     "execution_count": 35,
     "metadata": {},
     "output_type": "execute_result"
    }
   ],
   "source": [
    "get_descriptive_statistics(X_train_r)"
   ]
  },
  {
   "cell_type": "markdown",
   "metadata": {},
   "source": [
    "- Há uma diferença no intervalo em algumas independentes. Então, as variaveis independetes com maior range começam a desempenhar um papel mais decisivo ao treinar alguns modelos. É necessário aplicar algum tipo de transformação escala sobre essas colunas."
   ]
  },
  {
   "cell_type": "markdown",
   "metadata": {},
   "source": [
    "## 2.6 Análise Exploratória dos Dados"
   ]
  },
  {
   "cell_type": "markdown",
   "metadata": {},
   "source": [
    "### 2.6.1 Univariate Analysis"
   ]
  },
  {
   "cell_type": "code",
   "execution_count": 36,
   "metadata": {},
   "outputs": [
    {
     "data": {
      "image/png": "[encoded data removed]",
      "text/plain": [
       "<Figure size 800x400 with 1 Axes>"
      ]
     },
     "metadata": {},
     "output_type": "display_data"
    }
   ],
   "source": [
    "# Criando o histograma e a curva de densidade para a variável resposta\n",
    "plt.figure(figsize=(8, 4))\n",
    "sns.histplot(y_train_r, bins=30, kde=True, stat=\"density\", color='steelblue', edgecolor='black', linewidth=1.2)\n",
    "plt.xlabel('song_popularity')\n",
    "plt.ylabel('Frequência')\n",
    "plt.title('Histograma com Curva de Densidade')\n",
    "plt.grid(True, linestyle='--', alpha=0.7)\n",
    "plt.show()"
   ]
  },
  {
   "cell_type": "code",
   "execution_count": 37,
   "metadata": {},
   "outputs": [
    {
     "data": {
      "text/plain": [
       "<Axes: ylabel='song_popularity'>"
      ]
     },
     "execution_count": 37,
     "metadata": {},
     "output_type": "execute_result"
    },
    {
     "data": {
      "image/png": "[encoded data removed]",
      "text/plain": [
       "<Figure size 640x480 with 1 Axes>"
      ]
     },
     "metadata": {},
     "output_type": "display_data"
    }
   ],
   "source": [
    "# Boxplot da variável resposta\n",
    "sns.boxplot(y=y_train_r, color = 'magenta')"
   ]
  },
  {
   "cell_type": "code",
   "execution_count": 38,
   "metadata": {},
   "outputs": [
    {
     "data": {
      "image/png": "[encoded data removed]",
      "text/plain": [
       "<Figure size 2000x1200 with 13 Axes>"
      ]
     },
     "metadata": {},
     "output_type": "display_data"
    }
   ],
   "source": [
    "# Distribuição das variáveis independentes\n",
    "features = X_train_r.columns\n",
    "plt.figure(figsize = (20, 12))\n",
    "for i, feature in enumerate(features):\n",
    "    plt.subplot(3, int(len(features)/2), i+1)\n",
    "    sns.histplot(x=X_train_r[feature], kde=True, color='steelblue', edgecolor='black')\n",
    "    plt.xlabel(feature)\n",
    "    plt.tight_layout()\n",
    "plt.show()"
   ]
  },
  {
   "cell_type": "code",
   "execution_count": 39,
   "metadata": {},
   "outputs": [
    {
     "data": {
      "image/png": "[encoded data removed]",
      "text/plain": [
       "<Figure size 2000x1000 with 13 Axes>"
      ]
     },
     "metadata": {},
     "output_type": "display_data"
    }
   ],
   "source": [
    "# Plotando boxplots para cada variável independente em um único gráfico\n",
    "plt.figure(figsize=(20, 10))\n",
    "\n",
    "features = X_train_r.columns\n",
    "for i in range(0, len(features)):\n",
    "    plt.subplot(2, int(len(features)/2) + 1, i+1)\n",
    "    sns.boxplot(y=X_train_r[features[i]], color = 'magenta')\n",
    "    plt.tight_layout()\n",
    "plt.show()"
   ]
  },
  {
   "cell_type": "markdown",
   "metadata": {},
   "source": [
    "### 2.6.2 Bivariate Analysis"
   ]
  },
  {
   "cell_type": "code",
   "execution_count": 40,
   "metadata": {},
   "outputs": [
    {
     "data": {
      "text/plain": [
       "<Axes: >"
      ]
     },
     "execution_count": 40,
     "metadata": {},
     "output_type": "execute_result"
    },
    {
     "data": {
      "image/png": "[encoded data removed]",
      "text/plain": [
       "<Figure size 1000x800 with 2 Axes>"
      ]
     },
     "metadata": {},
     "output_type": "display_data"
    }
   ],
   "source": [
    "num_attributes_train = pd.concat([X_train_r, y_train_r], axis=1)\n",
    "\n",
    "corr_df = num_attributes_train.corr(method='spearman')\n",
    "\n",
    "plt.figure(figsize = (10, 8))\n",
    "sns.heatmap(corr_df, cmap = 'Blues', annot = True, fmt = '.2f')"
   ]
  },
  {
   "cell_type": "markdown",
   "metadata": {},
   "source": [
    "## 2.7 Transformação dos Dados"
   ]
  },
  {
   "cell_type": "code",
   "execution_count": 41,
   "metadata": {},
   "outputs": [],
   "source": [
    "# Cria uma cópia dos DataFrames\n",
    "X_train_r_scaled = X_train_r.copy()\n",
    "X_val_r_scaled = X_val_r.copy()\n",
    "X_test_r_scaled = X_test_r.copy()"
   ]
  },
  {
   "cell_type": "code",
   "execution_count": 42,
   "metadata": {},
   "outputs": [],
   "source": [
    "# Selecionar as colunas para aplicar o MinMaxScaler\n",
    "columns_min_max = ['key', 'audio_valence', 'acousticness', 'audio_mode']\n",
    "\n",
    "# Criar o MinMaxScaler\n",
    "scaler = MinMaxScaler()\n",
    "\n",
    "# Ajustar o scaler usando o conjunto de treinamento\n",
    "X_train_r_scaled[columns_min_max] = scaler.fit_transform(X_train_r[columns_min_max])\n",
    "\n",
    "# Transformar o conjunto de validação usando o scaler ajustado\n",
    "X_val_r_scaled[columns_min_max] = scaler.transform(X_val_r[columns_min_max])\n",
    "\n",
    "# Transformar o conjunto de teste usando o scaler ajustado\n",
    "X_test_r_scaled[columns_min_max] = scaler.transform(X_test_r[columns_min_max])"
   ]
  },
  {
   "cell_type": "code",
   "execution_count": 43,
   "metadata": {},
   "outputs": [],
   "source": [
    "# Selecione as colunas restantes para aplicar o RobustScaler\n",
    "columns_robust = X_train_r.columns.difference(columns_min_max)\n",
    "\n",
    "# Crie o RobustScaler\n",
    "robust_scaler = RobustScaler()\n",
    "\n",
    "# Ajuste o scaler com os dados de treinamento e transforme\n",
    "X_train_r_scaled[columns_robust] = robust_scaler.fit_transform(X_train_r[columns_robust])\n",
    "\n",
    "# Transformar o conjunto de validação usando o scaler ajustado\n",
    "X_val_r_scaled[columns_robust] = robust_scaler.transform(X_val_r[columns_robust])\n",
    "\n",
    "# Transformar o conjunto de teste usando o scaler ajustado\n",
    "X_test_r_scaled[columns_robust] = robust_scaler.transform(X_test_r[columns_robust])"
   ]
  },
  {
   "cell_type": "markdown",
   "metadata": {},
   "source": [
    "## 2.8 O Ensaio de Machine Learning - Regressão"
   ]
  },
  {
   "cell_type": "markdown",
   "metadata": {},
   "source": [
    "### 2.8.1 Linear Regression"
   ]
  },
  {
   "cell_type": "code",
   "execution_count": 44,
   "metadata": {},
   "outputs": [
    {
     "data": {
      "text/html": [
       "<style>#sk-container-id-1 {\n",
       "  /* Definition of color scheme common for light and dark mode */\n",
       "  --sklearn-color-text: black;\n",
       "  --sklearn-color-line: gray;\n",
       "  /* Definition of color scheme for unfitted estimators */\n",
       "  --sklearn-color-unfitted-level-0: #fff5e6;\n",
       "  --sklearn-color-unfitted-level-1: #f6e4d2;\n",
       "  --sklearn-color-unfitted-level-2: #ffe0b3;\n",
       "  --sklearn-color-unfitted-level-3: chocolate;\n",
       "  /* Definition of color scheme for fitted estimators */\n",
       "  --sklearn-color-fitted-level-0: #f0f8ff;\n",
       "  --sklearn-color-fitted-level-1: #d4ebff;\n",
       "  --sklearn-color-fitted-level-2: #b3dbfd;\n",
       "  --sklearn-color-fitted-level-3: cornflowerblue;\n",
       "\n",
       "  /* Specific color for light theme */\n",
       "  --sklearn-color-text-on-default-background: var(--sg-text-color, var(--theme-code-foreground, var(--jp-content-font-color1, black)));\n",
       "  --sklearn-color-background: var(--sg-background-color, var(--theme-background, var(--jp-layout-color0, white)));\n",
       "  --sklearn-color-border-box: var(--sg-text-color, var(--theme-code-foreground, var(--jp-content-font-color1, black)));\n",
       "  --sklearn-color-icon: #696969;\n",
       "\n",
       "  @media (prefers-color-scheme: dark) {\n",
       "    /* Redefinition of color scheme for dark theme */\n",
       "    --sklearn-color-text-on-default-background: var(--sg-text-color, var(--theme-code-foreground, var(--jp-content-font-color1, white)));\n",
       "    --sklearn-color-background: var(--sg-background-color, var(--theme-background, var(--jp-layout-color0, #111)));\n",
       "    --sklearn-color-border-box: var(--sg-text-color, var(--theme-code-foreground, var(--jp-content-font-color1, white)));\n",
       "    --sklearn-color-icon: #878787;\n",
       "  }\n",
       "}\n",
       "\n",
       "#sk-container-id-1 {\n",
       "  color: var(--sklearn-color-text);\n",
       "}\n",
       "\n",
       "#sk-container-id-1 pre {\n",
       "  padding: 0;\n",
       "}\n",
       "\n",
       "#sk-container-id-1 input.sk-hidden--visually {\n",
       "  border: 0;\n",
       "  clip: rect(1px 1px 1px 1px);\n",
       "  clip: rect(1px, 1px, 1px, 1px);\n",
       "  height: 1px;\n",
       "  margin: -1px;\n",
       "  overflow: hidden;\n",
       "  padding: 0;\n",
       "  position: absolute;\n",
       "  width: 1px;\n",
       "}\n",
       "\n",
       "#sk-container-id-1 div.sk-dashed-wrapped {\n",
       "  border: 1px dashed var(--sklearn-color-line);\n",
       "  margin: 0 0.4em 0.5em 0.4em;\n",
       "  box-sizing: border-box;\n",
       "  padding-bottom: 0.4em;\n",
       "  background-color: var(--sklearn-color-background);\n",
       "}\n",
       "\n",
       "#sk-container-id-1 div.sk-container {\n",
       "  /* jupyter's `normalize.less` sets `[hidden] { display: none; }`\n",
       "     but bootstrap.min.css set `[hidden] { display: none !important; }`\n",
       "     so we also need the `!important` here to be able to override the\n",
       "     default hidden behavior on the sphinx rendered scikit-learn.org.\n",
       "     See: https://github.com/scikit-learn/scikit-learn/issues/21755 */\n",
       "  display: inline-block !important;\n",
       "  position: relative;\n",
       "}\n",
       "\n",
       "#sk-container-id-1 div.sk-text-repr-fallback {\n",
       "  display: none;\n",
       "}\n",
       "\n",
       "div.sk-parallel-item,\n",
       "div.sk-serial,\n",
       "div.sk-item {\n",
       "  /* draw centered vertical line to link estimators */\n",
       "  background-image: linear-gradient(var(--sklearn-color-text-on-default-background), var(--sklearn-color-text-on-default-background));\n",
       "  background-size: 2px 100%;\n",
       "  background-repeat: no-repeat;\n",
       "  background-position: center center;\n",
       "}\n",
       "\n",
       "/* Parallel-specific style estimator block */\n",
       "\n",
       "#sk-container-id-1 div.sk-parallel-item::after {\n",
       "  content: \"\";\n",
       "  width: 100%;\n",
       "  border-bottom: 2px solid var(--sklearn-color-text-on-default-background);\n",
       "  flex-grow: 1;\n",
       "}\n",
       "\n",
       "#sk-container-id-1 div.sk-parallel {\n",
       "  display: flex;\n",
       "  align-items: stretch;\n",
       "  justify-content: center;\n",
       "  background-color: var(--sklearn-color-background);\n",
       "  position: relative;\n",
       "}\n",
       "\n",
       "#sk-container-id-1 div.sk-parallel-item {\n",
       "  display: flex;\n",
       "  flex-direction: column;\n",
       "}\n",
       "\n",
       "#sk-container-id-1 div.sk-parallel-item:first-child::after {\n",
       "  align-self: flex-end;\n",
       "  width: 50%;\n",
       "}\n",
       "\n",
       "#sk-container-id-1 div.sk-parallel-item:last-child::after {\n",
       "  align-self: flex-start;\n",
       "  width: 50%;\n",
       "}\n",
       "\n",
       "#sk-container-id-1 div.sk-parallel-item:only-child::after {\n",
       "  width: 0;\n",
       "}\n",
       "\n",
       "/* Serial-specific style estimator block */\n",
       "\n",
       "#sk-container-id-1 div.sk-serial {\n",
       "  display: flex;\n",
       "  flex-direction: column;\n",
       "  align-items: center;\n",
       "  background-color: var(--sklearn-color-background);\n",
       "  padding-right: 1em;\n",
       "  padding-left: 1em;\n",
       "}\n",
       "\n",
       "\n",
       "/* Toggleable style: style used for estimator/Pipeline/ColumnTransformer box that is\n",
       "clickable and can be expanded/collapsed.\n",
       "- Pipeline and ColumnTransformer use this feature and define the default style\n",
       "- Estimators will overwrite some part of the style using the `sk-estimator` class\n",
       "*/\n",
       "\n",
       "/* Pipeline and ColumnTransformer style (default) */\n",
       "\n",
       "#sk-container-id-1 div.sk-toggleable {\n",
       "  /* Default theme specific background. It is overwritten whether we have a\n",
       "  specific estimator or a Pipeline/ColumnTransformer */\n",
       "  background-color: var(--sklearn-color-background);\n",
       "}\n",
       "\n",
       "/* Toggleable label */\n",
       "#sk-container-id-1 label.sk-toggleable__label {\n",
       "  cursor: pointer;\n",
       "  display: block;\n",
       "  width: 100%;\n",
       "  margin-bottom: 0;\n",
       "  padding: 0.5em;\n",
       "  box-sizing: border-box;\n",
       "  text-align: center;\n",
       "}\n",
       "\n",
       "#sk-container-id-1 label.sk-toggleable__label-arrow:before {\n",
       "  /* Arrow on the left of the label */\n",
       "  content: \"▸\";\n",
       "  float: left;\n",
       "  margin-right: 0.25em;\n",
       "  color: var(--sklearn-color-icon);\n",
       "}\n",
       "\n",
       "#sk-container-id-1 label.sk-toggleable__label-arrow:hover:before {\n",
       "  color: var(--sklearn-color-text);\n",
       "}\n",
       "\n",
       "/* Toggleable content - dropdown */\n",
       "\n",
       "#sk-container-id-1 div.sk-toggleable__content {\n",
       "  max-height: 0;\n",
       "  max-width: 0;\n",
       "  overflow: hidden;\n",
       "  text-align: left;\n",
       "  /* unfitted */\n",
       "  background-color: var(--sklearn-color-unfitted-level-0);\n",
       "}\n",
       "\n",
       "#sk-container-id-1 div.sk-toggleable__content.fitted {\n",
       "  /* fitted */\n",
       "  background-color: var(--sklearn-color-fitted-level-0);\n",
       "}\n",
       "\n",
       "#sk-container-id-1 div.sk-toggleable__content pre {\n",
       "  margin: 0.2em;\n",
       "  border-radius: 0.25em;\n",
       "  color: var(--sklearn-color-text);\n",
       "  /* unfitted */\n",
       "  background-color: var(--sklearn-color-unfitted-level-0);\n",
       "}\n",
       "\n",
       "#sk-container-id-1 div.sk-toggleable__content.fitted pre {\n",
       "  /* unfitted */\n",
       "  background-color: var(--sklearn-color-fitted-level-0);\n",
       "}\n",
       "\n",
       "#sk-container-id-1 input.sk-toggleable__control:checked~div.sk-toggleable__content {\n",
       "  /* Expand drop-down */\n",
       "  max-height: 200px;\n",
       "  max-width: 100%;\n",
       "  overflow: auto;\n",
       "}\n",
       "\n",
       "#sk-container-id-1 input.sk-toggleable__control:checked~label.sk-toggleable__label-arrow:before {\n",
       "  content: \"▾\";\n",
       "}\n",
       "\n",
       "/* Pipeline/ColumnTransformer-specific style */\n",
       "\n",
       "#sk-container-id-1 div.sk-label input.sk-toggleable__control:checked~label.sk-toggleable__label {\n",
       "  color: var(--sklearn-color-text);\n",
       "  background-color: var(--sklearn-color-unfitted-level-2);\n",
       "}\n",
       "\n",
       "#sk-container-id-1 div.sk-label.fitted input.sk-toggleable__control:checked~label.sk-toggleable__label {\n",
       "  background-color: var(--sklearn-color-fitted-level-2);\n",
       "}\n",
       "\n",
       "/* Estimator-specific style */\n",
       "\n",
       "/* Colorize estimator box */\n",
       "#sk-container-id-1 div.sk-estimator input.sk-toggleable__control:checked~label.sk-toggleable__label {\n",
       "  /* unfitted */\n",
       "  background-color: var(--sklearn-color-unfitted-level-2);\n",
       "}\n",
       "\n",
       "#sk-container-id-1 div.sk-estimator.fitted input.sk-toggleable__control:checked~label.sk-toggleable__label {\n",
       "  /* fitted */\n",
       "  background-color: var(--sklearn-color-fitted-level-2);\n",
       "}\n",
       "\n",
       "#sk-container-id-1 div.sk-label label.sk-toggleable__label,\n",
       "#sk-container-id-1 div.sk-label label {\n",
       "  /* The background is the default theme color */\n",
       "  color: var(--sklearn-color-text-on-default-background);\n",
       "}\n",
       "\n",
       "/* On hover, darken the color of the background */\n",
       "#sk-container-id-1 div.sk-label:hover label.sk-toggleable__label {\n",
       "  color: var(--sklearn-color-text);\n",
       "  background-color: var(--sklearn-color-unfitted-level-2);\n",
       "}\n",
       "\n",
       "/* Label box, darken color on hover, fitted */\n",
       "#sk-container-id-1 div.sk-label.fitted:hover label.sk-toggleable__label.fitted {\n",
       "  color: var(--sklearn-color-text);\n",
       "  background-color: var(--sklearn-color-fitted-level-2);\n",
       "}\n",
       "\n",
       "/* Estimator label */\n",
       "\n",
       "#sk-container-id-1 div.sk-label label {\n",
       "  font-family: monospace;\n",
       "  font-weight: bold;\n",
       "  display: inline-block;\n",
       "  line-height: 1.2em;\n",
       "}\n",
       "\n",
       "#sk-container-id-1 div.sk-label-container {\n",
       "  text-align: center;\n",
       "}\n",
       "\n",
       "/* Estimator-specific */\n",
       "#sk-container-id-1 div.sk-estimator {\n",
       "  font-family: monospace;\n",
       "  border: 1px dotted var(--sklearn-color-border-box);\n",
       "  border-radius: 0.25em;\n",
       "  box-sizing: border-box;\n",
       "  margin-bottom: 0.5em;\n",
       "  /* unfitted */\n",
       "  background-color: var(--sklearn-color-unfitted-level-0);\n",
       "}\n",
       "\n",
       "#sk-container-id-1 div.sk-estimator.fitted {\n",
       "  /* fitted */\n",
       "  background-color: var(--sklearn-color-fitted-level-0);\n",
       "}\n",
       "\n",
       "/* on hover */\n",
       "#sk-container-id-1 div.sk-estimator:hover {\n",
       "  /* unfitted */\n",
       "  background-color: var(--sklearn-color-unfitted-level-2);\n",
       "}\n",
       "\n",
       "#sk-container-id-1 div.sk-estimator.fitted:hover {\n",
       "  /* fitted */\n",
       "  background-color: var(--sklearn-color-fitted-level-2);\n",
       "}\n",
       "\n",
       "/* Specification for estimator info (e.g. \"i\" and \"?\") */\n",
       "\n",
       "/* Common style for \"i\" and \"?\" */\n",
       "\n",
       ".sk-estimator-doc-link,\n",
       "a:link.sk-estimator-doc-link,\n",
       "a:visited.sk-estimator-doc-link {\n",
       "  float: right;\n",
       "  font-size: smaller;\n",
       "  line-height: 1em;\n",
       "  font-family: monospace;\n",
       "  background-color: var(--sklearn-color-background);\n",
       "  border-radius: 1em;\n",
       "  height: 1em;\n",
       "  width: 1em;\n",
       "  text-decoration: none !important;\n",
       "  margin-left: 1ex;\n",
       "  /* unfitted */\n",
       "  border: var(--sklearn-color-unfitted-level-1) 1pt solid;\n",
       "  color: var(--sklearn-color-unfitted-level-1);\n",
       "}\n",
       "\n",
       ".sk-estimator-doc-link.fitted,\n",
       "a:link.sk-estimator-doc-link.fitted,\n",
       "a:visited.sk-estimator-doc-link.fitted {\n",
       "  /* fitted */\n",
       "  border: var(--sklearn-color-fitted-level-1) 1pt solid;\n",
       "  color: var(--sklearn-color-fitted-level-1);\n",
       "}\n",
       "\n",
       "/* On hover */\n",
       "div.sk-estimator:hover .sk-estimator-doc-link:hover,\n",
       ".sk-estimator-doc-link:hover,\n",
       "div.sk-label-container:hover .sk-estimator-doc-link:hover,\n",
       ".sk-estimator-doc-link:hover {\n",
       "  /* unfitted */\n",
       "  background-color: var(--sklearn-color-unfitted-level-3);\n",
       "  color: var(--sklearn-color-background);\n",
       "  text-decoration: none;\n",
       "}\n",
       "\n",
       "div.sk-estimator.fitted:hover .sk-estimator-doc-link.fitted:hover,\n",
       ".sk-estimator-doc-link.fitted:hover,\n",
       "div.sk-label-container:hover .sk-estimator-doc-link.fitted:hover,\n",
       ".sk-estimator-doc-link.fitted:hover {\n",
       "  /* fitted */\n",
       "  background-color: var(--sklearn-color-fitted-level-3);\n",
       "  color: var(--sklearn-color-background);\n",
       "  text-decoration: none;\n",
       "}\n",
       "\n",
       "/* Span, style for the box shown on hovering the info icon */\n",
       ".sk-estimator-doc-link span {\n",
       "  display: none;\n",
       "  z-index: 9999;\n",
       "  position: relative;\n",
       "  font-weight: normal;\n",
       "  right: .2ex;\n",
       "  padding: .5ex;\n",
       "  margin: .5ex;\n",
       "  width: min-content;\n",
       "  min-width: 20ex;\n",
       "  max-width: 50ex;\n",
       "  color: var(--sklearn-color-text);\n",
       "  box-shadow: 2pt 2pt 4pt #999;\n",
       "  /* unfitted */\n",
       "  background: var(--sklearn-color-unfitted-level-0);\n",
       "  border: .5pt solid var(--sklearn-color-unfitted-level-3);\n",
       "}\n",
       "\n",
       ".sk-estimator-doc-link.fitted span {\n",
       "  /* fitted */\n",
       "  background: var(--sklearn-color-fitted-level-0);\n",
       "  border: var(--sklearn-color-fitted-level-3);\n",
       "}\n",
       "\n",
       ".sk-estimator-doc-link:hover span {\n",
       "  display: block;\n",
       "}\n",
       "\n",
       "/* \"?\"-specific style due to the `<a>` HTML tag */\n",
       "\n",
       "#sk-container-id-1 a.estimator_doc_link {\n",
       "  float: right;\n",
       "  font-size: 1rem;\n",
       "  line-height: 1em;\n",
       "  font-family: monospace;\n",
       "  background-color: var(--sklearn-color-background);\n",
       "  border-radius: 1rem;\n",
       "  height: 1rem;\n",
       "  width: 1rem;\n",
       "  text-decoration: none;\n",
       "  /* unfitted */\n",
       "  color: var(--sklearn-color-unfitted-level-1);\n",
       "  border: var(--sklearn-color-unfitted-level-1) 1pt solid;\n",
       "}\n",
       "\n",
       "#sk-container-id-1 a.estimator_doc_link.fitted {\n",
       "  /* fitted */\n",
       "  border: var(--sklearn-color-fitted-level-1) 1pt solid;\n",
       "  color: var(--sklearn-color-fitted-level-1);\n",
       "}\n",
       "\n",
       "/* On hover */\n",
       "#sk-container-id-1 a.estimator_doc_link:hover {\n",
       "  /* unfitted */\n",
       "  background-color: var(--sklearn-color-unfitted-level-3);\n",
       "  color: var(--sklearn-color-background);\n",
       "  text-decoration: none;\n",
       "}\n",
       "\n",
       "#sk-container-id-1 a.estimator_doc_link.fitted:hover {\n",
       "  /* fitted */\n",
       "  background-color: var(--sklearn-color-fitted-level-3);\n",
       "}\n",
       "</style><div id=\"sk-container-id-1\" class=\"sk-top-container\"><div class=\"sk-text-repr-fallback\"><pre>LinearRegression()</pre><b>In a Jupyter environment, please rerun this cell to show the HTML representation or trust the notebook. <br />On GitHub, the HTML representation is unable to render, please try loading this page with nbviewer.org.</b></div><div class=\"sk-container\" hidden><div class=\"sk-item\"><div class=\"sk-estimator fitted sk-toggleable\"><input class=\"sk-toggleable__control sk-hidden--visually\" id=\"sk-estimator-id-1\" type=\"checkbox\" checked><label for=\"sk-estimator-id-1\" class=\"sk-toggleable__label fitted sk-toggleable__label-arrow fitted\">&nbsp;&nbsp;LinearRegression<a class=\"sk-estimator-doc-link fitted\" rel=\"noreferrer\" target=\"_blank\" href=\"https://scikit-learn.org/1.4/modules/generated/sklearn.linear_model.LinearRegression.html\">?<span>Documentation for LinearRegression</span></a><span class=\"sk-estimator-doc-link fitted\">i<span>Fitted</span></span></label><div class=\"sk-toggleable__content fitted\"><pre>LinearRegression()</pre></div> </div></div></div></div>"
      ],
      "text/plain": [
       "LinearRegression()"
      ]
     },
     "execution_count": 44,
     "metadata": {},
     "output_type": "execute_result"
    }
   ],
   "source": [
    "# Define LinearRegression model\n",
    "lr = lm.LinearRegression()\n",
    "\n",
    "# Train model\n",
    "lr.fit(X_train_r_scaled, y_train_r)"
   ]
  },
  {
   "cell_type": "markdown",
   "metadata": {},
   "source": [
    "#### Performance sobre os dados de treino"
   ]
  },
  {
   "cell_type": "code",
   "execution_count": 45,
   "metadata": {},
   "outputs": [
    {
     "data": {
      "text/html": [
       "<div>\n",
       "<style scoped>\n",
       "    .dataframe tbody tr th:only-of-type {\n",
       "        vertical-align: middle;\n",
       "    }\n",
       "\n",
       "    .dataframe tbody tr th {\n",
       "        vertical-align: top;\n",
       "    }\n",
       "\n",
       "    .dataframe thead th {\n",
       "        text-align: right;\n",
       "    }\n",
       "</style>\n",
       "<table border=\"1\" class=\"dataframe\">\n",
       "  <thead>\n",
       "    <tr style=\"text-align: right;\">\n",
       "      <th></th>\n",
       "      <th>Algoritmo</th>\n",
       "      <th>R2</th>\n",
       "      <th>MSE</th>\n",
       "      <th>RMSE</th>\n",
       "      <th>MAE</th>\n",
       "      <th>MAPE</th>\n",
       "    </tr>\n",
       "  </thead>\n",
       "  <tbody>\n",
       "    <tr>\n",
       "      <th>0</th>\n",
       "      <td>Linear Regression</td>\n",
       "      <td>0.046</td>\n",
       "      <td>455.996</td>\n",
       "      <td>21.354</td>\n",
       "      <td>16.998</td>\n",
       "      <td>8.653</td>\n",
       "    </tr>\n",
       "  </tbody>\n",
       "</table>\n",
       "</div>"
      ],
      "text/plain": [
       "           Algoritmo     R2      MSE    RMSE     MAE   MAPE\n",
       "0  Linear Regression  0.046  455.996  21.354  16.998  8.653"
      ]
     },
     "execution_count": 45,
     "metadata": {},
     "output_type": "execute_result"
    }
   ],
   "source": [
    "lr_result_train = get_ml_performance(lr, X_train_r_scaled, y_train_r, classification=False)\n",
    "lr_result_train"
   ]
  },
  {
   "cell_type": "markdown",
   "metadata": {},
   "source": [
    "#### Performance sobre os dados de validação"
   ]
  },
  {
   "cell_type": "code",
   "execution_count": 46,
   "metadata": {},
   "outputs": [
    {
     "data": {
      "text/html": [
       "<div>\n",
       "<style scoped>\n",
       "    .dataframe tbody tr th:only-of-type {\n",
       "        vertical-align: middle;\n",
       "    }\n",
       "\n",
       "    .dataframe tbody tr th {\n",
       "        vertical-align: top;\n",
       "    }\n",
       "\n",
       "    .dataframe thead th {\n",
       "        text-align: right;\n",
       "    }\n",
       "</style>\n",
       "<table border=\"1\" class=\"dataframe\">\n",
       "  <thead>\n",
       "    <tr style=\"text-align: right;\">\n",
       "      <th></th>\n",
       "      <th>Algoritmo</th>\n",
       "      <th>R2</th>\n",
       "      <th>MSE</th>\n",
       "      <th>RMSE</th>\n",
       "      <th>MAE</th>\n",
       "      <th>MAPE</th>\n",
       "    </tr>\n",
       "  </thead>\n",
       "  <tbody>\n",
       "    <tr>\n",
       "      <th>0</th>\n",
       "      <td>Linear Regression</td>\n",
       "      <td>0.04</td>\n",
       "      <td>458.447</td>\n",
       "      <td>21.411</td>\n",
       "      <td>17.04</td>\n",
       "      <td>8.683</td>\n",
       "    </tr>\n",
       "  </tbody>\n",
       "</table>\n",
       "</div>"
      ],
      "text/plain": [
       "           Algoritmo    R2      MSE    RMSE    MAE   MAPE\n",
       "0  Linear Regression  0.04  458.447  21.411  17.04  8.683"
      ]
     },
     "execution_count": 46,
     "metadata": {},
     "output_type": "execute_result"
    }
   ],
   "source": [
    "lr_result_val = get_ml_performance(lr, X_val_r_scaled, y_val_r, classification=False)\n",
    "lr_result_val"
   ]
  },
  {
   "cell_type": "markdown",
   "metadata": {},
   "source": [
    "#### Performance sobre os dados de teste"
   ]
  },
  {
   "cell_type": "code",
   "execution_count": 47,
   "metadata": {},
   "outputs": [
    {
     "data": {
      "text/html": [
       "<div>\n",
       "<style scoped>\n",
       "    .dataframe tbody tr th:only-of-type {\n",
       "        vertical-align: middle;\n",
       "    }\n",
       "\n",
       "    .dataframe tbody tr th {\n",
       "        vertical-align: top;\n",
       "    }\n",
       "\n",
       "    .dataframe thead th {\n",
       "        text-align: right;\n",
       "    }\n",
       "</style>\n",
       "<table border=\"1\" class=\"dataframe\">\n",
       "  <thead>\n",
       "    <tr style=\"text-align: right;\">\n",
       "      <th></th>\n",
       "      <th>Algoritmo</th>\n",
       "      <th>R2</th>\n",
       "      <th>MSE</th>\n",
       "      <th>RMSE</th>\n",
       "      <th>MAE</th>\n",
       "      <th>MAPE</th>\n",
       "    </tr>\n",
       "  </thead>\n",
       "  <tbody>\n",
       "    <tr>\n",
       "      <th>0</th>\n",
       "      <td>Linear Regression</td>\n",
       "      <td>0.052</td>\n",
       "      <td>461.428</td>\n",
       "      <td>21.481</td>\n",
       "      <td>17.13</td>\n",
       "      <td>8.522</td>\n",
       "    </tr>\n",
       "  </tbody>\n",
       "</table>\n",
       "</div>"
      ],
      "text/plain": [
       "           Algoritmo     R2      MSE    RMSE    MAE   MAPE\n",
       "0  Linear Regression  0.052  461.428  21.481  17.13  8.522"
      ]
     },
     "execution_count": 47,
     "metadata": {},
     "output_type": "execute_result"
    }
   ],
   "source": [
    "lr_result_test = get_ml_performance(lr, X_test_r_scaled, y_test_r, classification=False)\n",
    "lr_result_test"
   ]
  },
  {
   "cell_type": "markdown",
   "metadata": {},
   "source": [
    "### 2.8.2 Decision Tree Regressor"
   ]
  },
  {
   "cell_type": "code",
   "execution_count": 48,
   "metadata": {},
   "outputs": [
    {
     "name": "stdout",
     "output_type": "stream",
     "text": [
      "{'max_depth': 5, 'random_state': 42}\n"
     ]
    }
   ],
   "source": [
    "# Defina a grade de hiperparâmetros a serem testados\n",
    "param_grid = {\n",
    "    'max_depth': [2, 3, 4, 5, 6, 7, 8, 9, 10, 15, 20, 25, 30, 32, 33, 34],\n",
    "    'random_state': [42]\n",
    "}\n",
    "\n",
    "best_model, best_params, _ = grid_search(DecisionTreeRegressor(), param_grid, \n",
    "                                         X_train_r_scaled, y_train_r, X_val_r_scaled, y_val_r, classification=False)\n",
    "print(best_params)"
   ]
  },
  {
   "cell_type": "markdown",
   "metadata": {},
   "source": [
    "#### Performance sobre os dados de treino"
   ]
  },
  {
   "cell_type": "code",
   "execution_count": 49,
   "metadata": {},
   "outputs": [
    {
     "data": {
      "text/html": [
       "<div>\n",
       "<style scoped>\n",
       "    .dataframe tbody tr th:only-of-type {\n",
       "        vertical-align: middle;\n",
       "    }\n",
       "\n",
       "    .dataframe tbody tr th {\n",
       "        vertical-align: top;\n",
       "    }\n",
       "\n",
       "    .dataframe thead th {\n",
       "        text-align: right;\n",
       "    }\n",
       "</style>\n",
       "<table border=\"1\" class=\"dataframe\">\n",
       "  <thead>\n",
       "    <tr style=\"text-align: right;\">\n",
       "      <th></th>\n",
       "      <th>Algoritmo</th>\n",
       "      <th>R2</th>\n",
       "      <th>MSE</th>\n",
       "      <th>RMSE</th>\n",
       "      <th>MAE</th>\n",
       "      <th>MAPE</th>\n",
       "    </tr>\n",
       "  </thead>\n",
       "  <tbody>\n",
       "    <tr>\n",
       "      <th>0</th>\n",
       "      <td>Decision Tree Regressor</td>\n",
       "      <td>0.104</td>\n",
       "      <td>428.127</td>\n",
       "      <td>20.691</td>\n",
       "      <td>16.46</td>\n",
       "      <td>8.184</td>\n",
       "    </tr>\n",
       "  </tbody>\n",
       "</table>\n",
       "</div>"
      ],
      "text/plain": [
       "                 Algoritmo     R2      MSE    RMSE    MAE   MAPE\n",
       "0  Decision Tree Regressor  0.104  428.127  20.691  16.46  8.184"
      ]
     },
     "execution_count": 49,
     "metadata": {},
     "output_type": "execute_result"
    }
   ],
   "source": [
    "dtr_result_train = get_ml_performance(best_model, X_train_r_scaled, y_train_r, classification=False)\n",
    "dtr_result_train"
   ]
  },
  {
   "cell_type": "markdown",
   "metadata": {},
   "source": [
    "#### Performance sobre os dados de validação"
   ]
  },
  {
   "cell_type": "code",
   "execution_count": 50,
   "metadata": {},
   "outputs": [
    {
     "data": {
      "text/html": [
       "<div>\n",
       "<style scoped>\n",
       "    .dataframe tbody tr th:only-of-type {\n",
       "        vertical-align: middle;\n",
       "    }\n",
       "\n",
       "    .dataframe tbody tr th {\n",
       "        vertical-align: top;\n",
       "    }\n",
       "\n",
       "    .dataframe thead th {\n",
       "        text-align: right;\n",
       "    }\n",
       "</style>\n",
       "<table border=\"1\" class=\"dataframe\">\n",
       "  <thead>\n",
       "    <tr style=\"text-align: right;\">\n",
       "      <th></th>\n",
       "      <th>Algoritmo</th>\n",
       "      <th>R2</th>\n",
       "      <th>MSE</th>\n",
       "      <th>RMSE</th>\n",
       "      <th>MAE</th>\n",
       "      <th>MAPE</th>\n",
       "    </tr>\n",
       "  </thead>\n",
       "  <tbody>\n",
       "    <tr>\n",
       "      <th>0</th>\n",
       "      <td>Decision Tree Regressor</td>\n",
       "      <td>0.1</td>\n",
       "      <td>429.538</td>\n",
       "      <td>20.725</td>\n",
       "      <td>16.541</td>\n",
       "      <td>8.329</td>\n",
       "    </tr>\n",
       "  </tbody>\n",
       "</table>\n",
       "</div>"
      ],
      "text/plain": [
       "                 Algoritmo   R2      MSE    RMSE     MAE   MAPE\n",
       "0  Decision Tree Regressor  0.1  429.538  20.725  16.541  8.329"
      ]
     },
     "execution_count": 50,
     "metadata": {},
     "output_type": "execute_result"
    }
   ],
   "source": [
    "dtr_result_val = get_ml_performance(best_model, X_val_r_scaled, y_val_r, classification=False)\n",
    "dtr_result_val"
   ]
  },
  {
   "cell_type": "markdown",
   "metadata": {},
   "source": [
    "#### Performance sobre os dados de teste"
   ]
  },
  {
   "cell_type": "code",
   "execution_count": 51,
   "metadata": {},
   "outputs": [
    {
     "data": {
      "text/html": [
       "<div>\n",
       "<style scoped>\n",
       "    .dataframe tbody tr th:only-of-type {\n",
       "        vertical-align: middle;\n",
       "    }\n",
       "\n",
       "    .dataframe tbody tr th {\n",
       "        vertical-align: top;\n",
       "    }\n",
       "\n",
       "    .dataframe thead th {\n",
       "        text-align: right;\n",
       "    }\n",
       "</style>\n",
       "<table border=\"1\" class=\"dataframe\">\n",
       "  <thead>\n",
       "    <tr style=\"text-align: right;\">\n",
       "      <th></th>\n",
       "      <th>Algoritmo</th>\n",
       "      <th>R2</th>\n",
       "      <th>MSE</th>\n",
       "      <th>RMSE</th>\n",
       "      <th>MAE</th>\n",
       "      <th>MAPE</th>\n",
       "    </tr>\n",
       "  </thead>\n",
       "  <tbody>\n",
       "    <tr>\n",
       "      <th>0</th>\n",
       "      <td>Decision Tree Regressor</td>\n",
       "      <td>0.09</td>\n",
       "      <td>443.296</td>\n",
       "      <td>21.055</td>\n",
       "      <td>16.83</td>\n",
       "      <td>7.886</td>\n",
       "    </tr>\n",
       "  </tbody>\n",
       "</table>\n",
       "</div>"
      ],
      "text/plain": [
       "                 Algoritmo    R2      MSE    RMSE    MAE   MAPE\n",
       "0  Decision Tree Regressor  0.09  443.296  21.055  16.83  7.886"
      ]
     },
     "execution_count": 51,
     "metadata": {},
     "output_type": "execute_result"
    }
   ],
   "source": [
    "dtr_result_test = get_ml_performance(best_model, X_test_r_scaled, y_test_r, classification=False)\n",
    "dtr_result_test"
   ]
  },
  {
   "cell_type": "markdown",
   "metadata": {},
   "source": [
    "### 2.8.3 Random Forest Regressor"
   ]
  },
  {
   "cell_type": "code",
   "execution_count": 52,
   "metadata": {},
   "outputs": [
    {
     "name": "stdout",
     "output_type": "stream",
     "text": [
      "{'n_estimators': 250, 'max_depth': 25, 'random_state': 42}\n"
     ]
    }
   ],
   "source": [
    "# Defina a grade de hiperparâmetros a serem testados\n",
    "# {'n_estimators': 250, 'max_depth': 25, 'random_state': 42}\n",
    "param_grid = {\n",
    "    'n_estimators': [ 175, 200, 225, 250],\n",
    "    'max_depth': [10, 15, 20, 25, 30, None],\n",
    "    'random_state': [42]\n",
    "}\n",
    "\n",
    "best_model, best_params, _ = grid_search(RandomForestRegressor(), param_grid, \n",
    "                                         X_train_r_scaled, y_train_r, \n",
    "                                         X_val_r_scaled, y_val_r, classification=False)\n",
    "print(best_params)"
   ]
  },
  {
   "cell_type": "markdown",
   "metadata": {},
   "source": [
    "#### Performance sobre os dados de treino"
   ]
  },
  {
   "cell_type": "code",
   "execution_count": 53,
   "metadata": {},
   "outputs": [
    {
     "data": {
      "text/html": [
       "<div>\n",
       "<style scoped>\n",
       "    .dataframe tbody tr th:only-of-type {\n",
       "        vertical-align: middle;\n",
       "    }\n",
       "\n",
       "    .dataframe tbody tr th {\n",
       "        vertical-align: top;\n",
       "    }\n",
       "\n",
       "    .dataframe thead th {\n",
       "        text-align: right;\n",
       "    }\n",
       "</style>\n",
       "<table border=\"1\" class=\"dataframe\">\n",
       "  <thead>\n",
       "    <tr style=\"text-align: right;\">\n",
       "      <th></th>\n",
       "      <th>Algoritmo</th>\n",
       "      <th>R2</th>\n",
       "      <th>MSE</th>\n",
       "      <th>RMSE</th>\n",
       "      <th>MAE</th>\n",
       "      <th>MAPE</th>\n",
       "    </tr>\n",
       "  </thead>\n",
       "  <tbody>\n",
       "    <tr>\n",
       "      <th>0</th>\n",
       "      <td>Random Forest Regressor</td>\n",
       "      <td>0.905</td>\n",
       "      <td>45.552</td>\n",
       "      <td>6.749</td>\n",
       "      <td>4.73</td>\n",
       "      <td>2.519</td>\n",
       "    </tr>\n",
       "  </tbody>\n",
       "</table>\n",
       "</div>"
      ],
      "text/plain": [
       "                 Algoritmo     R2     MSE   RMSE   MAE   MAPE\n",
       "0  Random Forest Regressor  0.905  45.552  6.749  4.73  2.519"
      ]
     },
     "execution_count": 53,
     "metadata": {},
     "output_type": "execute_result"
    }
   ],
   "source": [
    "rfr_result_train = get_ml_performance(best_model, X_train_r_scaled, y_train_r, classification=False)\n",
    "rfr_result_train"
   ]
  },
  {
   "cell_type": "markdown",
   "metadata": {},
   "source": [
    "#### Performance sobre os dados de validação"
   ]
  },
  {
   "cell_type": "code",
   "execution_count": 54,
   "metadata": {},
   "outputs": [
    {
     "data": {
      "text/html": [
       "<div>\n",
       "<style scoped>\n",
       "    .dataframe tbody tr th:only-of-type {\n",
       "        vertical-align: middle;\n",
       "    }\n",
       "\n",
       "    .dataframe tbody tr th {\n",
       "        vertical-align: top;\n",
       "    }\n",
       "\n",
       "    .dataframe thead th {\n",
       "        text-align: right;\n",
       "    }\n",
       "</style>\n",
       "<table border=\"1\" class=\"dataframe\">\n",
       "  <thead>\n",
       "    <tr style=\"text-align: right;\">\n",
       "      <th></th>\n",
       "      <th>Algoritmo</th>\n",
       "      <th>R2</th>\n",
       "      <th>MSE</th>\n",
       "      <th>RMSE</th>\n",
       "      <th>MAE</th>\n",
       "      <th>MAPE</th>\n",
       "    </tr>\n",
       "  </thead>\n",
       "  <tbody>\n",
       "    <tr>\n",
       "      <th>0</th>\n",
       "      <td>Random Forest Regressor</td>\n",
       "      <td>0.902</td>\n",
       "      <td>46.62</td>\n",
       "      <td>6.828</td>\n",
       "      <td>4.79</td>\n",
       "      <td>2.57</td>\n",
       "    </tr>\n",
       "  </tbody>\n",
       "</table>\n",
       "</div>"
      ],
      "text/plain": [
       "                 Algoritmo     R2    MSE   RMSE   MAE  MAPE\n",
       "0  Random Forest Regressor  0.902  46.62  6.828  4.79  2.57"
      ]
     },
     "execution_count": 54,
     "metadata": {},
     "output_type": "execute_result"
    }
   ],
   "source": [
    "rfr_result_val = get_ml_performance(best_model, X_val_r_scaled, y_val_r, classification=False)\n",
    "rfr_result_val"
   ]
  },
  {
   "cell_type": "markdown",
   "metadata": {},
   "source": [
    "#### Performance sobre os dados de teste"
   ]
  },
  {
   "cell_type": "code",
   "execution_count": 55,
   "metadata": {},
   "outputs": [
    {
     "data": {
      "text/html": [
       "<div>\n",
       "<style scoped>\n",
       "    .dataframe tbody tr th:only-of-type {\n",
       "        vertical-align: middle;\n",
       "    }\n",
       "\n",
       "    .dataframe tbody tr th {\n",
       "        vertical-align: top;\n",
       "    }\n",
       "\n",
       "    .dataframe thead th {\n",
       "        text-align: right;\n",
       "    }\n",
       "</style>\n",
       "<table border=\"1\" class=\"dataframe\">\n",
       "  <thead>\n",
       "    <tr style=\"text-align: right;\">\n",
       "      <th></th>\n",
       "      <th>Algoritmo</th>\n",
       "      <th>R2</th>\n",
       "      <th>MSE</th>\n",
       "      <th>RMSE</th>\n",
       "      <th>MAE</th>\n",
       "      <th>MAPE</th>\n",
       "    </tr>\n",
       "  </thead>\n",
       "  <tbody>\n",
       "    <tr>\n",
       "      <th>0</th>\n",
       "      <td>Random Forest Regressor</td>\n",
       "      <td>0.405</td>\n",
       "      <td>289.825</td>\n",
       "      <td>17.024</td>\n",
       "      <td>12.267</td>\n",
       "      <td>6.309</td>\n",
       "    </tr>\n",
       "  </tbody>\n",
       "</table>\n",
       "</div>"
      ],
      "text/plain": [
       "                 Algoritmo     R2      MSE    RMSE     MAE   MAPE\n",
       "0  Random Forest Regressor  0.405  289.825  17.024  12.267  6.309"
      ]
     },
     "execution_count": 55,
     "metadata": {},
     "output_type": "execute_result"
    }
   ],
   "source": [
    "rfr_result_test = get_ml_performance(best_model, X_test_r_scaled, y_test_r, classification=False)\n",
    "rfr_result_test"
   ]
  },
  {
   "cell_type": "markdown",
   "metadata": {},
   "source": [
    "### 2.8.4 Polinomial Regression"
   ]
  },
  {
   "cell_type": "code",
   "execution_count": 56,
   "metadata": {},
   "outputs": [
    {
     "name": "stdout",
     "output_type": "stream",
     "text": [
      "{'poly_features__degree': 2}\n"
     ]
    }
   ],
   "source": [
    "pipeline = Pipeline([\n",
    "    ('poly_features', PolynomialFeatures()),\n",
    "    ('linear_regression', lm.LinearRegression())\n",
    "])\n",
    "pipeline.__class__.__name__ = 'Polinomial Regression'\n",
    "param_grid = {\n",
    "    'poly_features__degree': [2, 3, 4]\n",
    "}\n",
    "\n",
    "best_model, best_params, _ = grid_search(pipeline, param_grid, \n",
    "                                         X_train_r_scaled, y_train_r, \n",
    "                                         X_val_r_scaled, y_val_r, classification=False)\n",
    "print(best_params)\n"
   ]
  },
  {
   "cell_type": "markdown",
   "metadata": {},
   "source": [
    "#### Performance sobre os dados de treino"
   ]
  },
  {
   "cell_type": "code",
   "execution_count": 57,
   "metadata": {},
   "outputs": [
    {
     "data": {
      "text/html": [
       "<div>\n",
       "<style scoped>\n",
       "    .dataframe tbody tr th:only-of-type {\n",
       "        vertical-align: middle;\n",
       "    }\n",
       "\n",
       "    .dataframe tbody tr th {\n",
       "        vertical-align: top;\n",
       "    }\n",
       "\n",
       "    .dataframe thead th {\n",
       "        text-align: right;\n",
       "    }\n",
       "</style>\n",
       "<table border=\"1\" class=\"dataframe\">\n",
       "  <thead>\n",
       "    <tr style=\"text-align: right;\">\n",
       "      <th></th>\n",
       "      <th>Algoritmo</th>\n",
       "      <th>R2</th>\n",
       "      <th>MSE</th>\n",
       "      <th>RMSE</th>\n",
       "      <th>MAE</th>\n",
       "      <th>MAPE</th>\n",
       "    </tr>\n",
       "  </thead>\n",
       "  <tbody>\n",
       "    <tr>\n",
       "      <th>0</th>\n",
       "      <td>Polinomial Regression</td>\n",
       "      <td>0.092</td>\n",
       "      <td>434.135</td>\n",
       "      <td>20.836</td>\n",
       "      <td>16.505</td>\n",
       "      <td>8.386</td>\n",
       "    </tr>\n",
       "  </tbody>\n",
       "</table>\n",
       "</div>"
      ],
      "text/plain": [
       "               Algoritmo     R2      MSE    RMSE     MAE   MAPE\n",
       "0  Polinomial Regression  0.092  434.135  20.836  16.505  8.386"
      ]
     },
     "execution_count": 57,
     "metadata": {},
     "output_type": "execute_result"
    }
   ],
   "source": [
    "pr_result_train = get_ml_performance(best_model, X_train_r_scaled, y_train_r, classification=False)\n",
    "pr_result_train"
   ]
  },
  {
   "cell_type": "markdown",
   "metadata": {},
   "source": [
    "#### Performance sobre os dados de validação"
   ]
  },
  {
   "cell_type": "code",
   "execution_count": 58,
   "metadata": {},
   "outputs": [
    {
     "data": {
      "text/html": [
       "<div>\n",
       "<style scoped>\n",
       "    .dataframe tbody tr th:only-of-type {\n",
       "        vertical-align: middle;\n",
       "    }\n",
       "\n",
       "    .dataframe tbody tr th {\n",
       "        vertical-align: top;\n",
       "    }\n",
       "\n",
       "    .dataframe thead th {\n",
       "        text-align: right;\n",
       "    }\n",
       "</style>\n",
       "<table border=\"1\" class=\"dataframe\">\n",
       "  <thead>\n",
       "    <tr style=\"text-align: right;\">\n",
       "      <th></th>\n",
       "      <th>Algoritmo</th>\n",
       "      <th>R2</th>\n",
       "      <th>MSE</th>\n",
       "      <th>RMSE</th>\n",
       "      <th>MAE</th>\n",
       "      <th>MAPE</th>\n",
       "    </tr>\n",
       "  </thead>\n",
       "  <tbody>\n",
       "    <tr>\n",
       "      <th>0</th>\n",
       "      <td>Polinomial Regression</td>\n",
       "      <td>0.081</td>\n",
       "      <td>439.046</td>\n",
       "      <td>20.953</td>\n",
       "      <td>16.62</td>\n",
       "      <td>8.508</td>\n",
       "    </tr>\n",
       "  </tbody>\n",
       "</table>\n",
       "</div>"
      ],
      "text/plain": [
       "               Algoritmo     R2      MSE    RMSE    MAE   MAPE\n",
       "0  Polinomial Regression  0.081  439.046  20.953  16.62  8.508"
      ]
     },
     "execution_count": 58,
     "metadata": {},
     "output_type": "execute_result"
    }
   ],
   "source": [
    "pr_result_val = get_ml_performance(best_model, X_val_r_scaled, y_val_r, classification=False)\n",
    "pr_result_val"
   ]
  },
  {
   "cell_type": "markdown",
   "metadata": {},
   "source": [
    "#### Performance sobre os dados de teste"
   ]
  },
  {
   "cell_type": "code",
   "execution_count": 59,
   "metadata": {},
   "outputs": [
    {
     "data": {
      "text/html": [
       "<div>\n",
       "<style scoped>\n",
       "    .dataframe tbody tr th:only-of-type {\n",
       "        vertical-align: middle;\n",
       "    }\n",
       "\n",
       "    .dataframe tbody tr th {\n",
       "        vertical-align: top;\n",
       "    }\n",
       "\n",
       "    .dataframe thead th {\n",
       "        text-align: right;\n",
       "    }\n",
       "</style>\n",
       "<table border=\"1\" class=\"dataframe\">\n",
       "  <thead>\n",
       "    <tr style=\"text-align: right;\">\n",
       "      <th></th>\n",
       "      <th>Algoritmo</th>\n",
       "      <th>R2</th>\n",
       "      <th>MSE</th>\n",
       "      <th>RMSE</th>\n",
       "      <th>MAE</th>\n",
       "      <th>MAPE</th>\n",
       "    </tr>\n",
       "  </thead>\n",
       "  <tbody>\n",
       "    <tr>\n",
       "      <th>0</th>\n",
       "      <td>Polinomial Regression</td>\n",
       "      <td>0.091</td>\n",
       "      <td>442.641</td>\n",
       "      <td>21.039</td>\n",
       "      <td>16.736</td>\n",
       "      <td>8.277</td>\n",
       "    </tr>\n",
       "  </tbody>\n",
       "</table>\n",
       "</div>"
      ],
      "text/plain": [
       "               Algoritmo     R2      MSE    RMSE     MAE   MAPE\n",
       "0  Polinomial Regression  0.091  442.641  21.039  16.736  8.277"
      ]
     },
     "execution_count": 59,
     "metadata": {},
     "output_type": "execute_result"
    }
   ],
   "source": [
    "pr_result_test = get_ml_performance(best_model, X_test_r_scaled, y_test_r, classification=False)\n",
    "pr_result_test"
   ]
  },
  {
   "cell_type": "markdown",
   "metadata": {},
   "source": [
    "### 2.8.5 Linear Regression Lasso"
   ]
  },
  {
   "cell_type": "code",
   "execution_count": 60,
   "metadata": {},
   "outputs": [
    {
     "name": "stdout",
     "output_type": "stream",
     "text": [
      "{'alpha': 1e-05, 'max_iter': 7}\n"
     ]
    }
   ],
   "source": [
    "# Defina a grade de hiperparâmetros a serem testados\n",
    "param_grid = {\n",
    "    'alpha': [0.00001, 0.0001, 0.001, 0.01, 0.1, 1, 10, 100],\n",
    "    'max_iter': [1, 6, 7, 8, 9, 10, 11, 15, 50, 100]\n",
    "}\n",
    "\n",
    "best_model, best_params, _ = grid_search(lm.Lasso(), param_grid, \n",
    "                                         X_train_r_scaled, y_train_r, X_val_r_scaled, y_val_r, classification=False)\n",
    "print(best_params)"
   ]
  },
  {
   "cell_type": "markdown",
   "metadata": {},
   "source": [
    "#### Performance sobre os dados de treino"
   ]
  },
  {
   "cell_type": "code",
   "execution_count": 61,
   "metadata": {},
   "outputs": [
    {
     "data": {
      "text/html": [
       "<div>\n",
       "<style scoped>\n",
       "    .dataframe tbody tr th:only-of-type {\n",
       "        vertical-align: middle;\n",
       "    }\n",
       "\n",
       "    .dataframe tbody tr th {\n",
       "        vertical-align: top;\n",
       "    }\n",
       "\n",
       "    .dataframe thead th {\n",
       "        text-align: right;\n",
       "    }\n",
       "</style>\n",
       "<table border=\"1\" class=\"dataframe\">\n",
       "  <thead>\n",
       "    <tr style=\"text-align: right;\">\n",
       "      <th></th>\n",
       "      <th>Algoritmo</th>\n",
       "      <th>R2</th>\n",
       "      <th>MSE</th>\n",
       "      <th>RMSE</th>\n",
       "      <th>MAE</th>\n",
       "      <th>MAPE</th>\n",
       "    </tr>\n",
       "  </thead>\n",
       "  <tbody>\n",
       "    <tr>\n",
       "      <th>0</th>\n",
       "      <td>Lasso</td>\n",
       "      <td>0.046</td>\n",
       "      <td>456.167</td>\n",
       "      <td>21.358</td>\n",
       "      <td>17.011</td>\n",
       "      <td>8.64</td>\n",
       "    </tr>\n",
       "  </tbody>\n",
       "</table>\n",
       "</div>"
      ],
      "text/plain": [
       "  Algoritmo     R2      MSE    RMSE     MAE  MAPE\n",
       "0     Lasso  0.046  456.167  21.358  17.011  8.64"
      ]
     },
     "execution_count": 61,
     "metadata": {},
     "output_type": "execute_result"
    }
   ],
   "source": [
    "lrl_result_train = get_ml_performance(best_model, X_train_r_scaled, y_train_r, classification=False)\n",
    "lrl_result_train"
   ]
  },
  {
   "cell_type": "markdown",
   "metadata": {},
   "source": [
    "#### Performance sobre os dados de validação"
   ]
  },
  {
   "cell_type": "code",
   "execution_count": 62,
   "metadata": {},
   "outputs": [
    {
     "data": {
      "text/html": [
       "<div>\n",
       "<style scoped>\n",
       "    .dataframe tbody tr th:only-of-type {\n",
       "        vertical-align: middle;\n",
       "    }\n",
       "\n",
       "    .dataframe tbody tr th {\n",
       "        vertical-align: top;\n",
       "    }\n",
       "\n",
       "    .dataframe thead th {\n",
       "        text-align: right;\n",
       "    }\n",
       "</style>\n",
       "<table border=\"1\" class=\"dataframe\">\n",
       "  <thead>\n",
       "    <tr style=\"text-align: right;\">\n",
       "      <th></th>\n",
       "      <th>Algoritmo</th>\n",
       "      <th>R2</th>\n",
       "      <th>MSE</th>\n",
       "      <th>RMSE</th>\n",
       "      <th>MAE</th>\n",
       "      <th>MAPE</th>\n",
       "    </tr>\n",
       "  </thead>\n",
       "  <tbody>\n",
       "    <tr>\n",
       "      <th>0</th>\n",
       "      <td>Lasso</td>\n",
       "      <td>0.041</td>\n",
       "      <td>457.794</td>\n",
       "      <td>21.396</td>\n",
       "      <td>17.035</td>\n",
       "      <td>8.667</td>\n",
       "    </tr>\n",
       "  </tbody>\n",
       "</table>\n",
       "</div>"
      ],
      "text/plain": [
       "  Algoritmo     R2      MSE    RMSE     MAE   MAPE\n",
       "0     Lasso  0.041  457.794  21.396  17.035  8.667"
      ]
     },
     "execution_count": 62,
     "metadata": {},
     "output_type": "execute_result"
    }
   ],
   "source": [
    "lrl_result_val = get_ml_performance(best_model, X_val_r_scaled, y_val_r, classification=False)\n",
    "lrl_result_val"
   ]
  },
  {
   "cell_type": "markdown",
   "metadata": {},
   "source": [
    "#### Performance sobre os dados de teste"
   ]
  },
  {
   "cell_type": "code",
   "execution_count": 63,
   "metadata": {},
   "outputs": [
    {
     "data": {
      "text/html": [
       "<div>\n",
       "<style scoped>\n",
       "    .dataframe tbody tr th:only-of-type {\n",
       "        vertical-align: middle;\n",
       "    }\n",
       "\n",
       "    .dataframe tbody tr th {\n",
       "        vertical-align: top;\n",
       "    }\n",
       "\n",
       "    .dataframe thead th {\n",
       "        text-align: right;\n",
       "    }\n",
       "</style>\n",
       "<table border=\"1\" class=\"dataframe\">\n",
       "  <thead>\n",
       "    <tr style=\"text-align: right;\">\n",
       "      <th></th>\n",
       "      <th>Algoritmo</th>\n",
       "      <th>R2</th>\n",
       "      <th>MSE</th>\n",
       "      <th>RMSE</th>\n",
       "      <th>MAE</th>\n",
       "      <th>MAPE</th>\n",
       "    </tr>\n",
       "  </thead>\n",
       "  <tbody>\n",
       "    <tr>\n",
       "      <th>0</th>\n",
       "      <td>Lasso</td>\n",
       "      <td>0.05</td>\n",
       "      <td>462.434</td>\n",
       "      <td>21.504</td>\n",
       "      <td>17.155</td>\n",
       "      <td>8.531</td>\n",
       "    </tr>\n",
       "  </tbody>\n",
       "</table>\n",
       "</div>"
      ],
      "text/plain": [
       "  Algoritmo    R2      MSE    RMSE     MAE   MAPE\n",
       "0     Lasso  0.05  462.434  21.504  17.155  8.531"
      ]
     },
     "execution_count": 63,
     "metadata": {},
     "output_type": "execute_result"
    }
   ],
   "source": [
    "lrl_result_test = get_ml_performance(best_model, X_test_r_scaled, y_test_r, classification=False)\n",
    "lrl_result_test"
   ]
  },
  {
   "cell_type": "markdown",
   "metadata": {},
   "source": [
    "### 2.8.6 Linear Regression Ridge"
   ]
  },
  {
   "cell_type": "code",
   "execution_count": 64,
   "metadata": {},
   "outputs": [
    {
     "name": "stdout",
     "output_type": "stream",
     "text": [
      "{'alpha': 1e-05, 'max_iter': 1}\n"
     ]
    }
   ],
   "source": [
    "# Defina a grade de hiperparâmetros a serem testados\n",
    "param_grid = {\n",
    "    'alpha': [0.00001, 0.0001, 0.001, 0.01, 0.1, 1, 10, 100],\n",
    "    'max_iter': [1, 6, 7, 8, 9, 10, 11, 15, 50, 100]\n",
    "}\n",
    "\n",
    "best_model, best_params, _ = grid_search(lm.Ridge(), param_grid, \n",
    "                                         X_train_r_scaled, y_train_r, X_val_r_scaled, y_val_r, classification=False)\n",
    "print(best_params)"
   ]
  },
  {
   "cell_type": "markdown",
   "metadata": {},
   "source": [
    "#### Performance sobre os dados de treino"
   ]
  },
  {
   "cell_type": "code",
   "execution_count": 65,
   "metadata": {},
   "outputs": [
    {
     "data": {
      "text/html": [
       "<div>\n",
       "<style scoped>\n",
       "    .dataframe tbody tr th:only-of-type {\n",
       "        vertical-align: middle;\n",
       "    }\n",
       "\n",
       "    .dataframe tbody tr th {\n",
       "        vertical-align: top;\n",
       "    }\n",
       "\n",
       "    .dataframe thead th {\n",
       "        text-align: right;\n",
       "    }\n",
       "</style>\n",
       "<table border=\"1\" class=\"dataframe\">\n",
       "  <thead>\n",
       "    <tr style=\"text-align: right;\">\n",
       "      <th></th>\n",
       "      <th>Algoritmo</th>\n",
       "      <th>R2</th>\n",
       "      <th>MSE</th>\n",
       "      <th>RMSE</th>\n",
       "      <th>MAE</th>\n",
       "      <th>MAPE</th>\n",
       "    </tr>\n",
       "  </thead>\n",
       "  <tbody>\n",
       "    <tr>\n",
       "      <th>0</th>\n",
       "      <td>Ridge</td>\n",
       "      <td>0.046</td>\n",
       "      <td>456.106</td>\n",
       "      <td>21.357</td>\n",
       "      <td>17.007</td>\n",
       "      <td>8.646</td>\n",
       "    </tr>\n",
       "  </tbody>\n",
       "</table>\n",
       "</div>"
      ],
      "text/plain": [
       "  Algoritmo     R2      MSE    RMSE     MAE   MAPE\n",
       "0     Ridge  0.046  456.106  21.357  17.007  8.646"
      ]
     },
     "execution_count": 65,
     "metadata": {},
     "output_type": "execute_result"
    }
   ],
   "source": [
    "lrr_result_train = get_ml_performance(best_model, X_train_r_scaled, y_train_r, classification=False)\n",
    "lrr_result_train"
   ]
  },
  {
   "cell_type": "markdown",
   "metadata": {},
   "source": [
    "#### Performance sobre os dados de validação"
   ]
  },
  {
   "cell_type": "code",
   "execution_count": 66,
   "metadata": {},
   "outputs": [
    {
     "data": {
      "text/html": [
       "<div>\n",
       "<style scoped>\n",
       "    .dataframe tbody tr th:only-of-type {\n",
       "        vertical-align: middle;\n",
       "    }\n",
       "\n",
       "    .dataframe tbody tr th {\n",
       "        vertical-align: top;\n",
       "    }\n",
       "\n",
       "    .dataframe thead th {\n",
       "        text-align: right;\n",
       "    }\n",
       "</style>\n",
       "<table border=\"1\" class=\"dataframe\">\n",
       "  <thead>\n",
       "    <tr style=\"text-align: right;\">\n",
       "      <th></th>\n",
       "      <th>Algoritmo</th>\n",
       "      <th>R2</th>\n",
       "      <th>MSE</th>\n",
       "      <th>RMSE</th>\n",
       "      <th>MAE</th>\n",
       "      <th>MAPE</th>\n",
       "    </tr>\n",
       "  </thead>\n",
       "  <tbody>\n",
       "    <tr>\n",
       "      <th>0</th>\n",
       "      <td>Ridge</td>\n",
       "      <td>0.041</td>\n",
       "      <td>457.823</td>\n",
       "      <td>21.397</td>\n",
       "      <td>17.034</td>\n",
       "      <td>8.673</td>\n",
       "    </tr>\n",
       "  </tbody>\n",
       "</table>\n",
       "</div>"
      ],
      "text/plain": [
       "  Algoritmo     R2      MSE    RMSE     MAE   MAPE\n",
       "0     Ridge  0.041  457.823  21.397  17.034  8.673"
      ]
     },
     "execution_count": 66,
     "metadata": {},
     "output_type": "execute_result"
    }
   ],
   "source": [
    "lrr_result_val = get_ml_performance(best_model, X_val_r_scaled, y_val_r, classification=False)\n",
    "lrr_result_val"
   ]
  },
  {
   "cell_type": "markdown",
   "metadata": {},
   "source": [
    "#### Performance sobre os dados de teste"
   ]
  },
  {
   "cell_type": "code",
   "execution_count": 67,
   "metadata": {},
   "outputs": [
    {
     "data": {
      "text/html": [
       "<div>\n",
       "<style scoped>\n",
       "    .dataframe tbody tr th:only-of-type {\n",
       "        vertical-align: middle;\n",
       "    }\n",
       "\n",
       "    .dataframe tbody tr th {\n",
       "        vertical-align: top;\n",
       "    }\n",
       "\n",
       "    .dataframe thead th {\n",
       "        text-align: right;\n",
       "    }\n",
       "</style>\n",
       "<table border=\"1\" class=\"dataframe\">\n",
       "  <thead>\n",
       "    <tr style=\"text-align: right;\">\n",
       "      <th></th>\n",
       "      <th>Algoritmo</th>\n",
       "      <th>R2</th>\n",
       "      <th>MSE</th>\n",
       "      <th>RMSE</th>\n",
       "      <th>MAE</th>\n",
       "      <th>MAPE</th>\n",
       "    </tr>\n",
       "  </thead>\n",
       "  <tbody>\n",
       "    <tr>\n",
       "      <th>0</th>\n",
       "      <td>Ridge</td>\n",
       "      <td>0.051</td>\n",
       "      <td>461.988</td>\n",
       "      <td>21.494</td>\n",
       "      <td>17.144</td>\n",
       "      <td>8.531</td>\n",
       "    </tr>\n",
       "  </tbody>\n",
       "</table>\n",
       "</div>"
      ],
      "text/plain": [
       "  Algoritmo     R2      MSE    RMSE     MAE   MAPE\n",
       "0     Ridge  0.051  461.988  21.494  17.144  8.531"
      ]
     },
     "execution_count": 67,
     "metadata": {},
     "output_type": "execute_result"
    }
   ],
   "source": [
    "lrr_result_test = get_ml_performance(best_model, X_test_r_scaled, y_test_r, classification=False)\n",
    "lrr_result_test"
   ]
  },
  {
   "cell_type": "markdown",
   "metadata": {},
   "source": [
    "### 2.8.7 Linear Regression Elastic Net"
   ]
  },
  {
   "cell_type": "code",
   "execution_count": 68,
   "metadata": {},
   "outputs": [
    {
     "name": "stdout",
     "output_type": "stream",
     "text": [
      "{'alpha': 1e-05, 'max_iter': 7, 'l1_ratio': 1}\n"
     ]
    }
   ],
   "source": [
    "# Defina a grade de hiperparâmetros a serem testados\n",
    "param_grid = {\n",
    "    'alpha': [0.00001, 0.0001, 0.001, 0.01, 0.1, 1, 10, 100],\n",
    "    'max_iter': [1, 6, 7, 8, 9, 10, 11, 15, 50, 100],\n",
    "    'l1_ratio': [0, 0.2, 0.4, 0.6, 0.8, 1]\n",
    "}\n",
    "\n",
    "best_model, best_params, _ = grid_search(lm.ElasticNet(), param_grid, \n",
    "                                         X_train_r_scaled, y_train_r, X_val_r_scaled, y_val_r, classification=False)\n",
    "print(best_params)"
   ]
  },
  {
   "cell_type": "markdown",
   "metadata": {},
   "source": [
    "#### Performance sobre os dados de treino"
   ]
  },
  {
   "cell_type": "code",
   "execution_count": 69,
   "metadata": {},
   "outputs": [
    {
     "data": {
      "text/html": [
       "<div>\n",
       "<style scoped>\n",
       "    .dataframe tbody tr th:only-of-type {\n",
       "        vertical-align: middle;\n",
       "    }\n",
       "\n",
       "    .dataframe tbody tr th {\n",
       "        vertical-align: top;\n",
       "    }\n",
       "\n",
       "    .dataframe thead th {\n",
       "        text-align: right;\n",
       "    }\n",
       "</style>\n",
       "<table border=\"1\" class=\"dataframe\">\n",
       "  <thead>\n",
       "    <tr style=\"text-align: right;\">\n",
       "      <th></th>\n",
       "      <th>Algoritmo</th>\n",
       "      <th>R2</th>\n",
       "      <th>MSE</th>\n",
       "      <th>RMSE</th>\n",
       "      <th>MAE</th>\n",
       "      <th>MAPE</th>\n",
       "    </tr>\n",
       "  </thead>\n",
       "  <tbody>\n",
       "    <tr>\n",
       "      <th>0</th>\n",
       "      <td>Elastic Net</td>\n",
       "      <td>0.046</td>\n",
       "      <td>456.167</td>\n",
       "      <td>21.358</td>\n",
       "      <td>17.011</td>\n",
       "      <td>8.64</td>\n",
       "    </tr>\n",
       "  </tbody>\n",
       "</table>\n",
       "</div>"
      ],
      "text/plain": [
       "     Algoritmo     R2      MSE    RMSE     MAE  MAPE\n",
       "0  Elastic Net  0.046  456.167  21.358  17.011  8.64"
      ]
     },
     "execution_count": 69,
     "metadata": {},
     "output_type": "execute_result"
    }
   ],
   "source": [
    "enr_result_train = get_ml_performance(best_model, X_train_r_scaled, y_train_r, classification=False)\n",
    "enr_result_train"
   ]
  },
  {
   "cell_type": "markdown",
   "metadata": {},
   "source": [
    "#### Performance sobre os dados de validação"
   ]
  },
  {
   "cell_type": "code",
   "execution_count": 70,
   "metadata": {},
   "outputs": [
    {
     "data": {
      "text/html": [
       "<div>\n",
       "<style scoped>\n",
       "    .dataframe tbody tr th:only-of-type {\n",
       "        vertical-align: middle;\n",
       "    }\n",
       "\n",
       "    .dataframe tbody tr th {\n",
       "        vertical-align: top;\n",
       "    }\n",
       "\n",
       "    .dataframe thead th {\n",
       "        text-align: right;\n",
       "    }\n",
       "</style>\n",
       "<table border=\"1\" class=\"dataframe\">\n",
       "  <thead>\n",
       "    <tr style=\"text-align: right;\">\n",
       "      <th></th>\n",
       "      <th>Algoritmo</th>\n",
       "      <th>R2</th>\n",
       "      <th>MSE</th>\n",
       "      <th>RMSE</th>\n",
       "      <th>MAE</th>\n",
       "      <th>MAPE</th>\n",
       "    </tr>\n",
       "  </thead>\n",
       "  <tbody>\n",
       "    <tr>\n",
       "      <th>0</th>\n",
       "      <td>Elastic Net</td>\n",
       "      <td>0.041</td>\n",
       "      <td>457.794</td>\n",
       "      <td>21.396</td>\n",
       "      <td>17.035</td>\n",
       "      <td>8.667</td>\n",
       "    </tr>\n",
       "  </tbody>\n",
       "</table>\n",
       "</div>"
      ],
      "text/plain": [
       "     Algoritmo     R2      MSE    RMSE     MAE   MAPE\n",
       "0  Elastic Net  0.041  457.794  21.396  17.035  8.667"
      ]
     },
     "execution_count": 70,
     "metadata": {},
     "output_type": "execute_result"
    }
   ],
   "source": [
    "enr_result_val = get_ml_performance(best_model, X_val_r_scaled, y_val_r, classification=False)\n",
    "enr_result_val"
   ]
  },
  {
   "cell_type": "markdown",
   "metadata": {},
   "source": [
    "#### Performance sobre os dados de teste"
   ]
  },
  {
   "cell_type": "code",
   "execution_count": 71,
   "metadata": {},
   "outputs": [
    {
     "data": {
      "text/html": [
       "<div>\n",
       "<style scoped>\n",
       "    .dataframe tbody tr th:only-of-type {\n",
       "        vertical-align: middle;\n",
       "    }\n",
       "\n",
       "    .dataframe tbody tr th {\n",
       "        vertical-align: top;\n",
       "    }\n",
       "\n",
       "    .dataframe thead th {\n",
       "        text-align: right;\n",
       "    }\n",
       "</style>\n",
       "<table border=\"1\" class=\"dataframe\">\n",
       "  <thead>\n",
       "    <tr style=\"text-align: right;\">\n",
       "      <th></th>\n",
       "      <th>Algoritmo</th>\n",
       "      <th>R2</th>\n",
       "      <th>MSE</th>\n",
       "      <th>RMSE</th>\n",
       "      <th>MAE</th>\n",
       "      <th>MAPE</th>\n",
       "    </tr>\n",
       "  </thead>\n",
       "  <tbody>\n",
       "    <tr>\n",
       "      <th>0</th>\n",
       "      <td>Elastic Net</td>\n",
       "      <td>0.05</td>\n",
       "      <td>462.434</td>\n",
       "      <td>21.504</td>\n",
       "      <td>17.155</td>\n",
       "      <td>8.531</td>\n",
       "    </tr>\n",
       "  </tbody>\n",
       "</table>\n",
       "</div>"
      ],
      "text/plain": [
       "     Algoritmo    R2      MSE    RMSE     MAE   MAPE\n",
       "0  Elastic Net  0.05  462.434  21.504  17.155  8.531"
      ]
     },
     "execution_count": 71,
     "metadata": {},
     "output_type": "execute_result"
    }
   ],
   "source": [
    "enr_result_test = get_ml_performance(best_model, X_test_r_scaled, y_test_r, classification=False)\n",
    "enr_result_test"
   ]
  },
  {
   "cell_type": "markdown",
   "metadata": {},
   "source": [
    "### 2.8.8 Polinomial Regression Lasso"
   ]
  },
  {
   "cell_type": "code",
   "execution_count": 72,
   "metadata": {},
   "outputs": [
    {
     "name": "stdout",
     "output_type": "stream",
     "text": [
      "{'poly_features__degree': 2, 'linear_regression_lasso__alpha': 0.01, 'linear_regression_lasso__max_iter': 200}\n"
     ]
    }
   ],
   "source": [
    "pipeline = Pipeline([\n",
    "    ('poly_features', PolynomialFeatures()),\n",
    "    ('linear_regression_lasso', lm.Lasso())\n",
    "])\n",
    "pipeline.__class__.__name__ = 'Polinomial Regression Lasso'\n",
    "param_grid = {\n",
    "    'poly_features__degree': [2, 3, 4],\n",
    "    'linear_regression_lasso__alpha': [0.00001, 0.0001, 0.001, 0.01],\n",
    "    'linear_regression_lasso__max_iter': [10, 50, 100, 200, 500, 1000]\n",
    "}\n",
    "\n",
    "best_model, best_params, _ = grid_search(pipeline, param_grid, \n",
    "                                         X_train_r_scaled, y_train_r, \n",
    "                                         X_val_r_scaled, y_val_r, classification=False)\n",
    "print(best_params)"
   ]
  },
  {
   "cell_type": "markdown",
   "metadata": {},
   "source": [
    "#### Performance sobre os dados de treinamento"
   ]
  },
  {
   "cell_type": "code",
   "execution_count": 73,
   "metadata": {},
   "outputs": [
    {
     "data": {
      "text/html": [
       "<div>\n",
       "<style scoped>\n",
       "    .dataframe tbody tr th:only-of-type {\n",
       "        vertical-align: middle;\n",
       "    }\n",
       "\n",
       "    .dataframe tbody tr th {\n",
       "        vertical-align: top;\n",
       "    }\n",
       "\n",
       "    .dataframe thead th {\n",
       "        text-align: right;\n",
       "    }\n",
       "</style>\n",
       "<table border=\"1\" class=\"dataframe\">\n",
       "  <thead>\n",
       "    <tr style=\"text-align: right;\">\n",
       "      <th></th>\n",
       "      <th>Algoritmo</th>\n",
       "      <th>R2</th>\n",
       "      <th>MSE</th>\n",
       "      <th>RMSE</th>\n",
       "      <th>MAE</th>\n",
       "      <th>MAPE</th>\n",
       "    </tr>\n",
       "  </thead>\n",
       "  <tbody>\n",
       "    <tr>\n",
       "      <th>0</th>\n",
       "      <td>Polinomial Regression Lasso</td>\n",
       "      <td>0.09</td>\n",
       "      <td>435.191</td>\n",
       "      <td>20.861</td>\n",
       "      <td>16.534</td>\n",
       "      <td>8.404</td>\n",
       "    </tr>\n",
       "  </tbody>\n",
       "</table>\n",
       "</div>"
      ],
      "text/plain": [
       "                     Algoritmo    R2      MSE    RMSE     MAE   MAPE\n",
       "0  Polinomial Regression Lasso  0.09  435.191  20.861  16.534  8.404"
      ]
     },
     "execution_count": 73,
     "metadata": {},
     "output_type": "execute_result"
    }
   ],
   "source": [
    "prl_result_train = get_ml_performance(best_model, X_train_r_scaled, y_train_r, classification=False)\n",
    "prl_result_train"
   ]
  },
  {
   "cell_type": "markdown",
   "metadata": {},
   "source": [
    "#### Performance sobre os dados de validação"
   ]
  },
  {
   "cell_type": "code",
   "execution_count": 74,
   "metadata": {},
   "outputs": [
    {
     "data": {
      "text/html": [
       "<div>\n",
       "<style scoped>\n",
       "    .dataframe tbody tr th:only-of-type {\n",
       "        vertical-align: middle;\n",
       "    }\n",
       "\n",
       "    .dataframe tbody tr th {\n",
       "        vertical-align: top;\n",
       "    }\n",
       "\n",
       "    .dataframe thead th {\n",
       "        text-align: right;\n",
       "    }\n",
       "</style>\n",
       "<table border=\"1\" class=\"dataframe\">\n",
       "  <thead>\n",
       "    <tr style=\"text-align: right;\">\n",
       "      <th></th>\n",
       "      <th>Algoritmo</th>\n",
       "      <th>R2</th>\n",
       "      <th>MSE</th>\n",
       "      <th>RMSE</th>\n",
       "      <th>MAE</th>\n",
       "      <th>MAPE</th>\n",
       "    </tr>\n",
       "  </thead>\n",
       "  <tbody>\n",
       "    <tr>\n",
       "      <th>0</th>\n",
       "      <td>Polinomial Regression Lasso</td>\n",
       "      <td>0.08</td>\n",
       "      <td>439.482</td>\n",
       "      <td>20.964</td>\n",
       "      <td>16.623</td>\n",
       "      <td>8.525</td>\n",
       "    </tr>\n",
       "  </tbody>\n",
       "</table>\n",
       "</div>"
      ],
      "text/plain": [
       "                     Algoritmo    R2      MSE    RMSE     MAE   MAPE\n",
       "0  Polinomial Regression Lasso  0.08  439.482  20.964  16.623  8.525"
      ]
     },
     "execution_count": 74,
     "metadata": {},
     "output_type": "execute_result"
    }
   ],
   "source": [
    "prl_result_val = get_ml_performance(best_model, X_val_r_scaled, y_val_r, classification=False)\n",
    "prl_result_val"
   ]
  },
  {
   "cell_type": "markdown",
   "metadata": {},
   "source": [
    "#### Performance sobre os dados de teste"
   ]
  },
  {
   "cell_type": "code",
   "execution_count": 75,
   "metadata": {},
   "outputs": [
    {
     "data": {
      "text/html": [
       "<div>\n",
       "<style scoped>\n",
       "    .dataframe tbody tr th:only-of-type {\n",
       "        vertical-align: middle;\n",
       "    }\n",
       "\n",
       "    .dataframe tbody tr th {\n",
       "        vertical-align: top;\n",
       "    }\n",
       "\n",
       "    .dataframe thead th {\n",
       "        text-align: right;\n",
       "    }\n",
       "</style>\n",
       "<table border=\"1\" class=\"dataframe\">\n",
       "  <thead>\n",
       "    <tr style=\"text-align: right;\">\n",
       "      <th></th>\n",
       "      <th>Algoritmo</th>\n",
       "      <th>R2</th>\n",
       "      <th>MSE</th>\n",
       "      <th>RMSE</th>\n",
       "      <th>MAE</th>\n",
       "      <th>MAPE</th>\n",
       "    </tr>\n",
       "  </thead>\n",
       "  <tbody>\n",
       "    <tr>\n",
       "      <th>0</th>\n",
       "      <td>Polinomial Regression Lasso</td>\n",
       "      <td>0.091</td>\n",
       "      <td>442.488</td>\n",
       "      <td>21.035</td>\n",
       "      <td>16.736</td>\n",
       "      <td>8.308</td>\n",
       "    </tr>\n",
       "  </tbody>\n",
       "</table>\n",
       "</div>"
      ],
      "text/plain": [
       "                     Algoritmo     R2      MSE    RMSE     MAE   MAPE\n",
       "0  Polinomial Regression Lasso  0.091  442.488  21.035  16.736  8.308"
      ]
     },
     "execution_count": 75,
     "metadata": {},
     "output_type": "execute_result"
    }
   ],
   "source": [
    "prl_result_test = get_ml_performance(best_model, X_test_r_scaled, y_test_r, classification=False)\n",
    "prl_result_test"
   ]
  },
  {
   "cell_type": "markdown",
   "metadata": {},
   "source": [
    "### 2.8.9 Polinomial Regression Ridge"
   ]
  },
  {
   "cell_type": "code",
   "execution_count": 76,
   "metadata": {},
   "outputs": [
    {
     "name": "stdout",
     "output_type": "stream",
     "text": [
      "{'poly_features__degree': 2, 'linear_regression_ridge__alpha': 0.01, 'linear_regression_ridge__max_iter': 10}\n"
     ]
    }
   ],
   "source": [
    "pipeline = Pipeline([\n",
    "    ('poly_features', PolynomialFeatures()),\n",
    "    ('linear_regression_ridge', lm.Ridge())\n",
    "])\n",
    "pipeline.__class__.__name__ = 'Polinomial Regression Ridge'\n",
    "param_grid = {\n",
    "    'poly_features__degree': [2, 3, 4],\n",
    "    'linear_regression_ridge__alpha': [0.00001, 0.0001, 0.001, 0.01],\n",
    "    'linear_regression_ridge__max_iter': [10, 50, 100, 200, 500, 1000]}\n",
    "\n",
    "# Suprimir warnings ao redor da chamada do grid_search\n",
    "with warnings.catch_warnings():\n",
    "    warnings.simplefilter(\"ignore\")\n",
    "    best_model, best_params, _ = grid_search(pipeline, param_grid, \n",
    "                                            X_train_r_scaled, y_train_r, \n",
    "                                            X_val_r_scaled, y_val_r, classification=False)\n",
    "print(best_params)"
   ]
  },
  {
   "cell_type": "markdown",
   "metadata": {},
   "source": [
    "#### Performance sobre os dados de treinamento"
   ]
  },
  {
   "cell_type": "code",
   "execution_count": 77,
   "metadata": {},
   "outputs": [
    {
     "data": {
      "text/html": [
       "<div>\n",
       "<style scoped>\n",
       "    .dataframe tbody tr th:only-of-type {\n",
       "        vertical-align: middle;\n",
       "    }\n",
       "\n",
       "    .dataframe tbody tr th {\n",
       "        vertical-align: top;\n",
       "    }\n",
       "\n",
       "    .dataframe thead th {\n",
       "        text-align: right;\n",
       "    }\n",
       "</style>\n",
       "<table border=\"1\" class=\"dataframe\">\n",
       "  <thead>\n",
       "    <tr style=\"text-align: right;\">\n",
       "      <th></th>\n",
       "      <th>Algoritmo</th>\n",
       "      <th>R2</th>\n",
       "      <th>MSE</th>\n",
       "      <th>RMSE</th>\n",
       "      <th>MAE</th>\n",
       "      <th>MAPE</th>\n",
       "    </tr>\n",
       "  </thead>\n",
       "  <tbody>\n",
       "    <tr>\n",
       "      <th>0</th>\n",
       "      <td>Polinomial Regression Ridge</td>\n",
       "      <td>0.092</td>\n",
       "      <td>434.135</td>\n",
       "      <td>20.836</td>\n",
       "      <td>16.505</td>\n",
       "      <td>8.386</td>\n",
       "    </tr>\n",
       "  </tbody>\n",
       "</table>\n",
       "</div>"
      ],
      "text/plain": [
       "                     Algoritmo     R2      MSE    RMSE     MAE   MAPE\n",
       "0  Polinomial Regression Ridge  0.092  434.135  20.836  16.505  8.386"
      ]
     },
     "execution_count": 77,
     "metadata": {},
     "output_type": "execute_result"
    }
   ],
   "source": [
    "prr_result_train = get_ml_performance(best_model, X_train_r_scaled, y_train_r, classification=False)\n",
    "prr_result_train"
   ]
  },
  {
   "cell_type": "markdown",
   "metadata": {},
   "source": [
    "#### Performance sobre os dados de validação"
   ]
  },
  {
   "cell_type": "code",
   "execution_count": 78,
   "metadata": {},
   "outputs": [
    {
     "data": {
      "text/html": [
       "<div>\n",
       "<style scoped>\n",
       "    .dataframe tbody tr th:only-of-type {\n",
       "        vertical-align: middle;\n",
       "    }\n",
       "\n",
       "    .dataframe tbody tr th {\n",
       "        vertical-align: top;\n",
       "    }\n",
       "\n",
       "    .dataframe thead th {\n",
       "        text-align: right;\n",
       "    }\n",
       "</style>\n",
       "<table border=\"1\" class=\"dataframe\">\n",
       "  <thead>\n",
       "    <tr style=\"text-align: right;\">\n",
       "      <th></th>\n",
       "      <th>Algoritmo</th>\n",
       "      <th>R2</th>\n",
       "      <th>MSE</th>\n",
       "      <th>RMSE</th>\n",
       "      <th>MAE</th>\n",
       "      <th>MAPE</th>\n",
       "    </tr>\n",
       "  </thead>\n",
       "  <tbody>\n",
       "    <tr>\n",
       "      <th>0</th>\n",
       "      <td>Polinomial Regression Ridge</td>\n",
       "      <td>0.081</td>\n",
       "      <td>439.046</td>\n",
       "      <td>20.953</td>\n",
       "      <td>16.62</td>\n",
       "      <td>8.508</td>\n",
       "    </tr>\n",
       "  </tbody>\n",
       "</table>\n",
       "</div>"
      ],
      "text/plain": [
       "                     Algoritmo     R2      MSE    RMSE    MAE   MAPE\n",
       "0  Polinomial Regression Ridge  0.081  439.046  20.953  16.62  8.508"
      ]
     },
     "execution_count": 78,
     "metadata": {},
     "output_type": "execute_result"
    }
   ],
   "source": [
    "prr_result_val = get_ml_performance(best_model, X_val_r_scaled, y_val_r, classification=False)\n",
    "prr_result_val"
   ]
  },
  {
   "cell_type": "markdown",
   "metadata": {},
   "source": [
    "#### Performance sobre os dados de teste"
   ]
  },
  {
   "cell_type": "code",
   "execution_count": 79,
   "metadata": {},
   "outputs": [
    {
     "data": {
      "text/html": [
       "<div>\n",
       "<style scoped>\n",
       "    .dataframe tbody tr th:only-of-type {\n",
       "        vertical-align: middle;\n",
       "    }\n",
       "\n",
       "    .dataframe tbody tr th {\n",
       "        vertical-align: top;\n",
       "    }\n",
       "\n",
       "    .dataframe thead th {\n",
       "        text-align: right;\n",
       "    }\n",
       "</style>\n",
       "<table border=\"1\" class=\"dataframe\">\n",
       "  <thead>\n",
       "    <tr style=\"text-align: right;\">\n",
       "      <th></th>\n",
       "      <th>Algoritmo</th>\n",
       "      <th>R2</th>\n",
       "      <th>MSE</th>\n",
       "      <th>RMSE</th>\n",
       "      <th>MAE</th>\n",
       "      <th>MAPE</th>\n",
       "    </tr>\n",
       "  </thead>\n",
       "  <tbody>\n",
       "    <tr>\n",
       "      <th>0</th>\n",
       "      <td>Polinomial Regression Ridge</td>\n",
       "      <td>0.091</td>\n",
       "      <td>442.639</td>\n",
       "      <td>21.039</td>\n",
       "      <td>16.736</td>\n",
       "      <td>8.277</td>\n",
       "    </tr>\n",
       "  </tbody>\n",
       "</table>\n",
       "</div>"
      ],
      "text/plain": [
       "                     Algoritmo     R2      MSE    RMSE     MAE   MAPE\n",
       "0  Polinomial Regression Ridge  0.091  442.639  21.039  16.736  8.277"
      ]
     },
     "execution_count": 79,
     "metadata": {},
     "output_type": "execute_result"
    }
   ],
   "source": [
    "prr_result_test = get_ml_performance(best_model, X_test_r_scaled, y_test_r, classification=False)\n",
    "prr_result_test"
   ]
  },
  {
   "cell_type": "markdown",
   "metadata": {},
   "source": [
    "### 2.8.10 Polinomial Regression Elastic Net"
   ]
  },
  {
   "cell_type": "code",
   "execution_count": 80,
   "metadata": {},
   "outputs": [
    {
     "name": "stdout",
     "output_type": "stream",
     "text": [
      "{'poly_features__degree': 2, 'linear_regression_elastic_net__alpha': 0.01, 'linear_regression_elastic_net__max_iter': 200, 'linear_regression_elastic_net__l1_ratio': 1}\n"
     ]
    }
   ],
   "source": [
    "pipeline = Pipeline([\n",
    "    ('poly_features', PolynomialFeatures()),\n",
    "    ('linear_regression_elastic_net', lm.ElasticNet())\n",
    "])\n",
    "pipeline.__class__.__name__ = 'Polinomial Regression Elastic Net'\n",
    "param_grid = {\n",
    "    'poly_features__degree': [2, 3, 4],\n",
    "    'linear_regression_elastic_net__alpha': [0.00001, 0.0001, 0.001, 0.01],\n",
    "    'linear_regression_elastic_net__max_iter': [10, 50, 100, 200, 500, 1000],\n",
    "    'linear_regression_elastic_net__l1_ratio': [0, 0.2, 0.4, 0.6, 0.8, 1]}\n",
    "\n",
    "# Suprimir warnings ao redor da chamada do grid_search\n",
    "with warnings.catch_warnings():\n",
    "    warnings.simplefilter(\"ignore\")\n",
    "    best_model, best_params, _ = grid_search(pipeline, param_grid, \n",
    "                                            X_train_r_scaled, y_train_r, \n",
    "                                            X_val_r_scaled, y_val_r, classification=False)\n",
    "print(best_params)"
   ]
  },
  {
   "cell_type": "markdown",
   "metadata": {},
   "source": [
    "#### Performance sobre os dados de treinamento"
   ]
  },
  {
   "cell_type": "code",
   "execution_count": 81,
   "metadata": {},
   "outputs": [
    {
     "data": {
      "text/html": [
       "<div>\n",
       "<style scoped>\n",
       "    .dataframe tbody tr th:only-of-type {\n",
       "        vertical-align: middle;\n",
       "    }\n",
       "\n",
       "    .dataframe tbody tr th {\n",
       "        vertical-align: top;\n",
       "    }\n",
       "\n",
       "    .dataframe thead th {\n",
       "        text-align: right;\n",
       "    }\n",
       "</style>\n",
       "<table border=\"1\" class=\"dataframe\">\n",
       "  <thead>\n",
       "    <tr style=\"text-align: right;\">\n",
       "      <th></th>\n",
       "      <th>Algoritmo</th>\n",
       "      <th>R2</th>\n",
       "      <th>MSE</th>\n",
       "      <th>RMSE</th>\n",
       "      <th>MAE</th>\n",
       "      <th>MAPE</th>\n",
       "    </tr>\n",
       "  </thead>\n",
       "  <tbody>\n",
       "    <tr>\n",
       "      <th>0</th>\n",
       "      <td>Polinomial Regression Elastic Net</td>\n",
       "      <td>0.09</td>\n",
       "      <td>435.191</td>\n",
       "      <td>20.861</td>\n",
       "      <td>16.534</td>\n",
       "      <td>8.404</td>\n",
       "    </tr>\n",
       "  </tbody>\n",
       "</table>\n",
       "</div>"
      ],
      "text/plain": [
       "                           Algoritmo    R2      MSE    RMSE     MAE   MAPE\n",
       "0  Polinomial Regression Elastic Net  0.09  435.191  20.861  16.534  8.404"
      ]
     },
     "execution_count": 81,
     "metadata": {},
     "output_type": "execute_result"
    }
   ],
   "source": [
    "pren_result_train = get_ml_performance(best_model, X_train_r_scaled, y_train_r, classification=False)\n",
    "pren_result_train"
   ]
  },
  {
   "cell_type": "markdown",
   "metadata": {},
   "source": [
    "#### Performance sobre os dados de validação"
   ]
  },
  {
   "cell_type": "code",
   "execution_count": 82,
   "metadata": {},
   "outputs": [
    {
     "data": {
      "text/html": [
       "<div>\n",
       "<style scoped>\n",
       "    .dataframe tbody tr th:only-of-type {\n",
       "        vertical-align: middle;\n",
       "    }\n",
       "\n",
       "    .dataframe tbody tr th {\n",
       "        vertical-align: top;\n",
       "    }\n",
       "\n",
       "    .dataframe thead th {\n",
       "        text-align: right;\n",
       "    }\n",
       "</style>\n",
       "<table border=\"1\" class=\"dataframe\">\n",
       "  <thead>\n",
       "    <tr style=\"text-align: right;\">\n",
       "      <th></th>\n",
       "      <th>Algoritmo</th>\n",
       "      <th>R2</th>\n",
       "      <th>MSE</th>\n",
       "      <th>RMSE</th>\n",
       "      <th>MAE</th>\n",
       "      <th>MAPE</th>\n",
       "    </tr>\n",
       "  </thead>\n",
       "  <tbody>\n",
       "    <tr>\n",
       "      <th>0</th>\n",
       "      <td>Polinomial Regression Elastic Net</td>\n",
       "      <td>0.08</td>\n",
       "      <td>439.482</td>\n",
       "      <td>20.964</td>\n",
       "      <td>16.623</td>\n",
       "      <td>8.525</td>\n",
       "    </tr>\n",
       "  </tbody>\n",
       "</table>\n",
       "</div>"
      ],
      "text/plain": [
       "                           Algoritmo    R2      MSE    RMSE     MAE   MAPE\n",
       "0  Polinomial Regression Elastic Net  0.08  439.482  20.964  16.623  8.525"
      ]
     },
     "execution_count": 82,
     "metadata": {},
     "output_type": "execute_result"
    }
   ],
   "source": [
    "pren_result_val = get_ml_performance(best_model, X_val_r_scaled, y_val_r, classification=False)\n",
    "pren_result_val"
   ]
  },
  {
   "cell_type": "markdown",
   "metadata": {},
   "source": [
    "#### Performance sobre os dados de teste"
   ]
  },
  {
   "cell_type": "code",
   "execution_count": 83,
   "metadata": {},
   "outputs": [
    {
     "data": {
      "text/html": [
       "<div>\n",
       "<style scoped>\n",
       "    .dataframe tbody tr th:only-of-type {\n",
       "        vertical-align: middle;\n",
       "    }\n",
       "\n",
       "    .dataframe tbody tr th {\n",
       "        vertical-align: top;\n",
       "    }\n",
       "\n",
       "    .dataframe thead th {\n",
       "        text-align: right;\n",
       "    }\n",
       "</style>\n",
       "<table border=\"1\" class=\"dataframe\">\n",
       "  <thead>\n",
       "    <tr style=\"text-align: right;\">\n",
       "      <th></th>\n",
       "      <th>Algoritmo</th>\n",
       "      <th>R2</th>\n",
       "      <th>MSE</th>\n",
       "      <th>RMSE</th>\n",
       "      <th>MAE</th>\n",
       "      <th>MAPE</th>\n",
       "    </tr>\n",
       "  </thead>\n",
       "  <tbody>\n",
       "    <tr>\n",
       "      <th>0</th>\n",
       "      <td>Polinomial Regression Elastic Net</td>\n",
       "      <td>0.091</td>\n",
       "      <td>442.488</td>\n",
       "      <td>21.035</td>\n",
       "      <td>16.736</td>\n",
       "      <td>8.308</td>\n",
       "    </tr>\n",
       "  </tbody>\n",
       "</table>\n",
       "</div>"
      ],
      "text/plain": [
       "                           Algoritmo     R2      MSE    RMSE     MAE   MAPE\n",
       "0  Polinomial Regression Elastic Net  0.091  442.488  21.035  16.736  8.308"
      ]
     },
     "execution_count": 83,
     "metadata": {},
     "output_type": "execute_result"
    }
   ],
   "source": [
    "pren_result_test = get_ml_performance(best_model, X_test_r_scaled, y_test_r, classification=False)\n",
    "pren_result_test"
   ]
  },
  {
   "cell_type": "markdown",
   "metadata": {},
   "source": [
    "## 2.9 Resultado Final"
   ]
  },
  {
   "cell_type": "markdown",
   "metadata": {},
   "source": [
    "### Dados de Treinamento"
   ]
  },
  {
   "cell_type": "code",
   "execution_count": 84,
   "metadata": {},
   "outputs": [
    {
     "data": {
      "text/html": [
       "<div>\n",
       "<style scoped>\n",
       "    .dataframe tbody tr th:only-of-type {\n",
       "        vertical-align: middle;\n",
       "    }\n",
       "\n",
       "    .dataframe tbody tr th {\n",
       "        vertical-align: top;\n",
       "    }\n",
       "\n",
       "    .dataframe thead th {\n",
       "        text-align: right;\n",
       "    }\n",
       "</style>\n",
       "<table border=\"1\" class=\"dataframe\">\n",
       "  <thead>\n",
       "    <tr style=\"text-align: right;\">\n",
       "      <th></th>\n",
       "      <th>Algoritmo</th>\n",
       "      <th>R2</th>\n",
       "      <th>MSE</th>\n",
       "      <th>RMSE</th>\n",
       "      <th>MAE</th>\n",
       "      <th>MAPE</th>\n",
       "    </tr>\n",
       "  </thead>\n",
       "  <tbody>\n",
       "    <tr>\n",
       "      <th>0</th>\n",
       "      <td>Linear Regression</td>\n",
       "      <td>0.046</td>\n",
       "      <td>455.996</td>\n",
       "      <td>21.354</td>\n",
       "      <td>16.998</td>\n",
       "      <td>8.653</td>\n",
       "    </tr>\n",
       "    <tr>\n",
       "      <th>1</th>\n",
       "      <td>Decision Tree Regressor</td>\n",
       "      <td>0.104</td>\n",
       "      <td>428.127</td>\n",
       "      <td>20.691</td>\n",
       "      <td>16.460</td>\n",
       "      <td>8.184</td>\n",
       "    </tr>\n",
       "    <tr>\n",
       "      <th>2</th>\n",
       "      <td>Random Forest Regressor</td>\n",
       "      <td>0.905</td>\n",
       "      <td>45.552</td>\n",
       "      <td>6.749</td>\n",
       "      <td>4.730</td>\n",
       "      <td>2.519</td>\n",
       "    </tr>\n",
       "    <tr>\n",
       "      <th>3</th>\n",
       "      <td>Polinomial Regression</td>\n",
       "      <td>0.092</td>\n",
       "      <td>434.135</td>\n",
       "      <td>20.836</td>\n",
       "      <td>16.505</td>\n",
       "      <td>8.386</td>\n",
       "    </tr>\n",
       "    <tr>\n",
       "      <th>4</th>\n",
       "      <td>Lasso</td>\n",
       "      <td>0.046</td>\n",
       "      <td>456.167</td>\n",
       "      <td>21.358</td>\n",
       "      <td>17.011</td>\n",
       "      <td>8.640</td>\n",
       "    </tr>\n",
       "    <tr>\n",
       "      <th>5</th>\n",
       "      <td>Ridge</td>\n",
       "      <td>0.046</td>\n",
       "      <td>456.106</td>\n",
       "      <td>21.357</td>\n",
       "      <td>17.007</td>\n",
       "      <td>8.646</td>\n",
       "    </tr>\n",
       "    <tr>\n",
       "      <th>6</th>\n",
       "      <td>Elastic Net</td>\n",
       "      <td>0.046</td>\n",
       "      <td>456.167</td>\n",
       "      <td>21.358</td>\n",
       "      <td>17.011</td>\n",
       "      <td>8.640</td>\n",
       "    </tr>\n",
       "    <tr>\n",
       "      <th>7</th>\n",
       "      <td>Polinomial Regression Lasso</td>\n",
       "      <td>0.090</td>\n",
       "      <td>435.191</td>\n",
       "      <td>20.861</td>\n",
       "      <td>16.534</td>\n",
       "      <td>8.404</td>\n",
       "    </tr>\n",
       "    <tr>\n",
       "      <th>8</th>\n",
       "      <td>Polinomial Regression Ridge</td>\n",
       "      <td>0.092</td>\n",
       "      <td>434.135</td>\n",
       "      <td>20.836</td>\n",
       "      <td>16.505</td>\n",
       "      <td>8.386</td>\n",
       "    </tr>\n",
       "    <tr>\n",
       "      <th>9</th>\n",
       "      <td>Polinomial Regression Elastic Net</td>\n",
       "      <td>0.090</td>\n",
       "      <td>435.191</td>\n",
       "      <td>20.861</td>\n",
       "      <td>16.534</td>\n",
       "      <td>8.404</td>\n",
       "    </tr>\n",
       "  </tbody>\n",
       "</table>\n",
       "</div>"
      ],
      "text/plain": [
       "                           Algoritmo     R2      MSE    RMSE     MAE   MAPE\n",
       "0                  Linear Regression  0.046  455.996  21.354  16.998  8.653\n",
       "1            Decision Tree Regressor  0.104  428.127  20.691  16.460  8.184\n",
       "2            Random Forest Regressor  0.905   45.552   6.749   4.730  2.519\n",
       "3              Polinomial Regression  0.092  434.135  20.836  16.505  8.386\n",
       "4                              Lasso  0.046  456.167  21.358  17.011  8.640\n",
       "5                              Ridge  0.046  456.106  21.357  17.007  8.646\n",
       "6                        Elastic Net  0.046  456.167  21.358  17.011  8.640\n",
       "7        Polinomial Regression Lasso  0.090  435.191  20.861  16.534  8.404\n",
       "8        Polinomial Regression Ridge  0.092  434.135  20.836  16.505  8.386\n",
       "9  Polinomial Regression Elastic Net  0.090  435.191  20.861  16.534  8.404"
      ]
     },
     "execution_count": 84,
     "metadata": {},
     "output_type": "execute_result"
    }
   ],
   "source": [
    "training_results_regression = pd.concat([lr_result_train, dtr_result_train, rfr_result_train, pr_result_train, \n",
    "                                         lrl_result_train, lrr_result_train, enr_result_train,\n",
    "                                         prl_result_train, prr_result_train, pren_result_train])\n",
    "training_results_regression = training_results_regression.reset_index(drop=True)\n",
    "training_results_regression"
   ]
  },
  {
   "cell_type": "markdown",
   "metadata": {},
   "source": [
    "### Dados de Validação"
   ]
  },
  {
   "cell_type": "code",
   "execution_count": 85,
   "metadata": {},
   "outputs": [
    {
     "data": {
      "text/html": [
       "<div>\n",
       "<style scoped>\n",
       "    .dataframe tbody tr th:only-of-type {\n",
       "        vertical-align: middle;\n",
       "    }\n",
       "\n",
       "    .dataframe tbody tr th {\n",
       "        vertical-align: top;\n",
       "    }\n",
       "\n",
       "    .dataframe thead th {\n",
       "        text-align: right;\n",
       "    }\n",
       "</style>\n",
       "<table border=\"1\" class=\"dataframe\">\n",
       "  <thead>\n",
       "    <tr style=\"text-align: right;\">\n",
       "      <th></th>\n",
       "      <th>Algoritmo</th>\n",
       "      <th>R2</th>\n",
       "      <th>MSE</th>\n",
       "      <th>RMSE</th>\n",
       "      <th>MAE</th>\n",
       "      <th>MAPE</th>\n",
       "    </tr>\n",
       "  </thead>\n",
       "  <tbody>\n",
       "    <tr>\n",
       "      <th>0</th>\n",
       "      <td>Linear Regression</td>\n",
       "      <td>0.040</td>\n",
       "      <td>458.447</td>\n",
       "      <td>21.411</td>\n",
       "      <td>17.040</td>\n",
       "      <td>8.683</td>\n",
       "    </tr>\n",
       "    <tr>\n",
       "      <th>1</th>\n",
       "      <td>Decision Tree Regressor</td>\n",
       "      <td>0.100</td>\n",
       "      <td>429.538</td>\n",
       "      <td>20.725</td>\n",
       "      <td>16.541</td>\n",
       "      <td>8.329</td>\n",
       "    </tr>\n",
       "    <tr>\n",
       "      <th>2</th>\n",
       "      <td>Random Forest Regressor</td>\n",
       "      <td>0.902</td>\n",
       "      <td>46.620</td>\n",
       "      <td>6.828</td>\n",
       "      <td>4.790</td>\n",
       "      <td>2.570</td>\n",
       "    </tr>\n",
       "    <tr>\n",
       "      <th>3</th>\n",
       "      <td>Polinomial Regression</td>\n",
       "      <td>0.081</td>\n",
       "      <td>439.046</td>\n",
       "      <td>20.953</td>\n",
       "      <td>16.620</td>\n",
       "      <td>8.508</td>\n",
       "    </tr>\n",
       "    <tr>\n",
       "      <th>4</th>\n",
       "      <td>Lasso</td>\n",
       "      <td>0.041</td>\n",
       "      <td>457.794</td>\n",
       "      <td>21.396</td>\n",
       "      <td>17.035</td>\n",
       "      <td>8.667</td>\n",
       "    </tr>\n",
       "    <tr>\n",
       "      <th>5</th>\n",
       "      <td>Ridge</td>\n",
       "      <td>0.041</td>\n",
       "      <td>457.823</td>\n",
       "      <td>21.397</td>\n",
       "      <td>17.034</td>\n",
       "      <td>8.673</td>\n",
       "    </tr>\n",
       "    <tr>\n",
       "      <th>6</th>\n",
       "      <td>Elastic Net</td>\n",
       "      <td>0.041</td>\n",
       "      <td>457.794</td>\n",
       "      <td>21.396</td>\n",
       "      <td>17.035</td>\n",
       "      <td>8.667</td>\n",
       "    </tr>\n",
       "    <tr>\n",
       "      <th>7</th>\n",
       "      <td>Polinomial Regression Lasso</td>\n",
       "      <td>0.080</td>\n",
       "      <td>439.482</td>\n",
       "      <td>20.964</td>\n",
       "      <td>16.623</td>\n",
       "      <td>8.525</td>\n",
       "    </tr>\n",
       "    <tr>\n",
       "      <th>8</th>\n",
       "      <td>Polinomial Regression Ridge</td>\n",
       "      <td>0.081</td>\n",
       "      <td>439.046</td>\n",
       "      <td>20.953</td>\n",
       "      <td>16.620</td>\n",
       "      <td>8.508</td>\n",
       "    </tr>\n",
       "    <tr>\n",
       "      <th>9</th>\n",
       "      <td>Polinomial Regression Elastic Net</td>\n",
       "      <td>0.080</td>\n",
       "      <td>439.482</td>\n",
       "      <td>20.964</td>\n",
       "      <td>16.623</td>\n",
       "      <td>8.525</td>\n",
       "    </tr>\n",
       "  </tbody>\n",
       "</table>\n",
       "</div>"
      ],
      "text/plain": [
       "                           Algoritmo     R2      MSE    RMSE     MAE   MAPE\n",
       "0                  Linear Regression  0.040  458.447  21.411  17.040  8.683\n",
       "1            Decision Tree Regressor  0.100  429.538  20.725  16.541  8.329\n",
       "2            Random Forest Regressor  0.902   46.620   6.828   4.790  2.570\n",
       "3              Polinomial Regression  0.081  439.046  20.953  16.620  8.508\n",
       "4                              Lasso  0.041  457.794  21.396  17.035  8.667\n",
       "5                              Ridge  0.041  457.823  21.397  17.034  8.673\n",
       "6                        Elastic Net  0.041  457.794  21.396  17.035  8.667\n",
       "7        Polinomial Regression Lasso  0.080  439.482  20.964  16.623  8.525\n",
       "8        Polinomial Regression Ridge  0.081  439.046  20.953  16.620  8.508\n",
       "9  Polinomial Regression Elastic Net  0.080  439.482  20.964  16.623  8.525"
      ]
     },
     "execution_count": 85,
     "metadata": {},
     "output_type": "execute_result"
    }
   ],
   "source": [
    "training_results_validation = pd.concat([lr_result_val, dtr_result_val, rfr_result_val, pr_result_val, \n",
    "                                         lrl_result_val, lrr_result_val, enr_result_val,\n",
    "                                         prl_result_val, prr_result_val, pren_result_val])\n",
    "training_results_validation = training_results_validation.reset_index(drop=True)\n",
    "training_results_validation"
   ]
  },
  {
   "cell_type": "markdown",
   "metadata": {},
   "source": [
    "### Dados de Teste"
   ]
  },
  {
   "cell_type": "code",
   "execution_count": 86,
   "metadata": {},
   "outputs": [
    {
     "data": {
      "text/html": [
       "<div>\n",
       "<style scoped>\n",
       "    .dataframe tbody tr th:only-of-type {\n",
       "        vertical-align: middle;\n",
       "    }\n",
       "\n",
       "    .dataframe tbody tr th {\n",
       "        vertical-align: top;\n",
       "    }\n",
       "\n",
       "    .dataframe thead th {\n",
       "        text-align: right;\n",
       "    }\n",
       "</style>\n",
       "<table border=\"1\" class=\"dataframe\">\n",
       "  <thead>\n",
       "    <tr style=\"text-align: right;\">\n",
       "      <th></th>\n",
       "      <th>Algoritmo</th>\n",
       "      <th>R2</th>\n",
       "      <th>MSE</th>\n",
       "      <th>RMSE</th>\n",
       "      <th>MAE</th>\n",
       "      <th>MAPE</th>\n",
       "    </tr>\n",
       "  </thead>\n",
       "  <tbody>\n",
       "    <tr>\n",
       "      <th>0</th>\n",
       "      <td>Linear Regression</td>\n",
       "      <td>0.052</td>\n",
       "      <td>461.428</td>\n",
       "      <td>21.481</td>\n",
       "      <td>17.130</td>\n",
       "      <td>8.522</td>\n",
       "    </tr>\n",
       "    <tr>\n",
       "      <th>1</th>\n",
       "      <td>Decision Tree Regressor</td>\n",
       "      <td>0.090</td>\n",
       "      <td>443.296</td>\n",
       "      <td>21.055</td>\n",
       "      <td>16.830</td>\n",
       "      <td>7.886</td>\n",
       "    </tr>\n",
       "    <tr>\n",
       "      <th>2</th>\n",
       "      <td>Random Forest Regressor</td>\n",
       "      <td>0.405</td>\n",
       "      <td>289.825</td>\n",
       "      <td>17.024</td>\n",
       "      <td>12.267</td>\n",
       "      <td>6.309</td>\n",
       "    </tr>\n",
       "    <tr>\n",
       "      <th>3</th>\n",
       "      <td>Polinomial Regression</td>\n",
       "      <td>0.091</td>\n",
       "      <td>442.641</td>\n",
       "      <td>21.039</td>\n",
       "      <td>16.736</td>\n",
       "      <td>8.277</td>\n",
       "    </tr>\n",
       "    <tr>\n",
       "      <th>4</th>\n",
       "      <td>Lasso</td>\n",
       "      <td>0.050</td>\n",
       "      <td>462.434</td>\n",
       "      <td>21.504</td>\n",
       "      <td>17.155</td>\n",
       "      <td>8.531</td>\n",
       "    </tr>\n",
       "    <tr>\n",
       "      <th>5</th>\n",
       "      <td>Ridge</td>\n",
       "      <td>0.051</td>\n",
       "      <td>461.988</td>\n",
       "      <td>21.494</td>\n",
       "      <td>17.144</td>\n",
       "      <td>8.531</td>\n",
       "    </tr>\n",
       "    <tr>\n",
       "      <th>6</th>\n",
       "      <td>Elastic Net</td>\n",
       "      <td>0.050</td>\n",
       "      <td>462.434</td>\n",
       "      <td>21.504</td>\n",
       "      <td>17.155</td>\n",
       "      <td>8.531</td>\n",
       "    </tr>\n",
       "    <tr>\n",
       "      <th>7</th>\n",
       "      <td>Polinomial Regression Lasso</td>\n",
       "      <td>0.091</td>\n",
       "      <td>442.488</td>\n",
       "      <td>21.035</td>\n",
       "      <td>16.736</td>\n",
       "      <td>8.308</td>\n",
       "    </tr>\n",
       "    <tr>\n",
       "      <th>8</th>\n",
       "      <td>Polinomial Regression Ridge</td>\n",
       "      <td>0.091</td>\n",
       "      <td>442.639</td>\n",
       "      <td>21.039</td>\n",
       "      <td>16.736</td>\n",
       "      <td>8.277</td>\n",
       "    </tr>\n",
       "    <tr>\n",
       "      <th>9</th>\n",
       "      <td>Polinomial Regression Elastic Net</td>\n",
       "      <td>0.091</td>\n",
       "      <td>442.488</td>\n",
       "      <td>21.035</td>\n",
       "      <td>16.736</td>\n",
       "      <td>8.308</td>\n",
       "    </tr>\n",
       "  </tbody>\n",
       "</table>\n",
       "</div>"
      ],
      "text/plain": [
       "                           Algoritmo     R2      MSE    RMSE     MAE   MAPE\n",
       "0                  Linear Regression  0.052  461.428  21.481  17.130  8.522\n",
       "1            Decision Tree Regressor  0.090  443.296  21.055  16.830  7.886\n",
       "2            Random Forest Regressor  0.405  289.825  17.024  12.267  6.309\n",
       "3              Polinomial Regression  0.091  442.641  21.039  16.736  8.277\n",
       "4                              Lasso  0.050  462.434  21.504  17.155  8.531\n",
       "5                              Ridge  0.051  461.988  21.494  17.144  8.531\n",
       "6                        Elastic Net  0.050  462.434  21.504  17.155  8.531\n",
       "7        Polinomial Regression Lasso  0.091  442.488  21.035  16.736  8.308\n",
       "8        Polinomial Regression Ridge  0.091  442.639  21.039  16.736  8.277\n",
       "9  Polinomial Regression Elastic Net  0.091  442.488  21.035  16.736  8.308"
      ]
     },
     "execution_count": 86,
     "metadata": {},
     "output_type": "execute_result"
    }
   ],
   "source": [
    "training_results_test = pd.concat([lr_result_test, dtr_result_test, rfr_result_test, pr_result_test, \n",
    "                                         lrl_result_test, lrr_result_test, enr_result_test,\n",
    "                                         prl_result_test, prr_result_test, pren_result_test])\n",
    "training_results_test = training_results_test.reset_index(drop=True)\n",
    "training_results_test"
   ]
  },
  {
   "cell_type": "markdown",
   "metadata": {},
   "source": [
    "# 3.0 Clusterização"
   ]
  },
  {
   "cell_type": "markdown",
   "metadata": {},
   "source": [
    "## 3.1 Load Data"
   ]
  },
  {
   "cell_type": "code",
   "execution_count": 87,
   "metadata": {},
   "outputs": [
    {
     "data": {
      "text/html": [
       "<div>\n",
       "<style scoped>\n",
       "    .dataframe tbody tr th:only-of-type {\n",
       "        vertical-align: middle;\n",
       "    }\n",
       "\n",
       "    .dataframe tbody tr th {\n",
       "        vertical-align: top;\n",
       "    }\n",
       "\n",
       "    .dataframe thead th {\n",
       "        text-align: right;\n",
       "    }\n",
       "</style>\n",
       "<table border=\"1\" class=\"dataframe\">\n",
       "  <thead>\n",
       "    <tr style=\"text-align: right;\">\n",
       "      <th></th>\n",
       "      <th>alcohol</th>\n",
       "      <th>malic_acid</th>\n",
       "      <th>ash</th>\n",
       "      <th>ash_alcanity</th>\n",
       "      <th>magnesium</th>\n",
       "      <th>total_phenols</th>\n",
       "      <th>flavanoids</th>\n",
       "      <th>nonflavanoid_phenols</th>\n",
       "      <th>proanthocyanins</th>\n",
       "      <th>color_intensity</th>\n",
       "      <th>hue</th>\n",
       "      <th>od280</th>\n",
       "      <th>proline</th>\n",
       "    </tr>\n",
       "  </thead>\n",
       "  <tbody>\n",
       "    <tr>\n",
       "      <th>0</th>\n",
       "      <td>1.518613</td>\n",
       "      <td>0.191700</td>\n",
       "      <td>0.232053</td>\n",
       "      <td>-1.169593</td>\n",
       "      <td>1.913905</td>\n",
       "      <td>0.627586</td>\n",
       "      <td>0.573840</td>\n",
       "      <td>-0.659563</td>\n",
       "      <td>1.224884</td>\n",
       "      <td>0.251717</td>\n",
       "      <td>0.455285</td>\n",
       "      <td>0.970696</td>\n",
       "      <td>0.561341</td>\n",
       "    </tr>\n",
       "    <tr>\n",
       "      <th>1</th>\n",
       "      <td>0.246290</td>\n",
       "      <td>0.205534</td>\n",
       "      <td>-0.827996</td>\n",
       "      <td>-2.490847</td>\n",
       "      <td>0.018145</td>\n",
       "      <td>0.575862</td>\n",
       "      <td>0.510549</td>\n",
       "      <td>-0.820719</td>\n",
       "      <td>-0.544721</td>\n",
       "      <td>-0.293321</td>\n",
       "      <td>0.463415</td>\n",
       "      <td>0.780220</td>\n",
       "      <td>0.550642</td>\n",
       "    </tr>\n",
       "    <tr>\n",
       "      <th>2</th>\n",
       "      <td>0.196879</td>\n",
       "      <td>0.320158</td>\n",
       "      <td>1.109334</td>\n",
       "      <td>-0.268738</td>\n",
       "      <td>0.088358</td>\n",
       "      <td>0.627586</td>\n",
       "      <td>0.611814</td>\n",
       "      <td>-0.498407</td>\n",
       "      <td>2.135968</td>\n",
       "      <td>0.269020</td>\n",
       "      <td>0.447154</td>\n",
       "      <td>0.695971</td>\n",
       "      <td>0.646933</td>\n",
       "    </tr>\n",
       "    <tr>\n",
       "      <th>3</th>\n",
       "      <td>1.691550</td>\n",
       "      <td>0.239130</td>\n",
       "      <td>0.487926</td>\n",
       "      <td>-0.809251</td>\n",
       "      <td>0.930918</td>\n",
       "      <td>0.989655</td>\n",
       "      <td>0.664557</td>\n",
       "      <td>-0.981875</td>\n",
       "      <td>1.032155</td>\n",
       "      <td>1.186068</td>\n",
       "      <td>0.308943</td>\n",
       "      <td>0.798535</td>\n",
       "      <td>0.857347</td>\n",
       "    </tr>\n",
       "    <tr>\n",
       "      <th>4</th>\n",
       "      <td>0.295700</td>\n",
       "      <td>0.365613</td>\n",
       "      <td>1.840403</td>\n",
       "      <td>0.451946</td>\n",
       "      <td>1.281985</td>\n",
       "      <td>0.627586</td>\n",
       "      <td>0.495781</td>\n",
       "      <td>0.226796</td>\n",
       "      <td>0.401404</td>\n",
       "      <td>-0.319276</td>\n",
       "      <td>0.455285</td>\n",
       "      <td>0.608059</td>\n",
       "      <td>0.325963</td>\n",
       "    </tr>\n",
       "  </tbody>\n",
       "</table>\n",
       "</div>"
      ],
      "text/plain": [
       "    alcohol  malic_acid       ash  ash_alcanity  magnesium  total_phenols  \\\n",
       "0  1.518613    0.191700  0.232053     -1.169593   1.913905       0.627586   \n",
       "1  0.246290    0.205534 -0.827996     -2.490847   0.018145       0.575862   \n",
       "2  0.196879    0.320158  1.109334     -0.268738   0.088358       0.627586   \n",
       "3  1.691550    0.239130  0.487926     -0.809251   0.930918       0.989655   \n",
       "4  0.295700    0.365613  1.840403      0.451946   1.281985       0.627586   \n",
       "\n",
       "   flavanoids  nonflavanoid_phenols  proanthocyanins  color_intensity  \\\n",
       "0    0.573840             -0.659563         1.224884         0.251717   \n",
       "1    0.510549             -0.820719        -0.544721        -0.293321   \n",
       "2    0.611814             -0.498407         2.135968         0.269020   \n",
       "3    0.664557             -0.981875         1.032155         1.186068   \n",
       "4    0.495781              0.226796         0.401404        -0.319276   \n",
       "\n",
       "        hue     od280   proline  \n",
       "0  0.455285  0.970696  0.561341  \n",
       "1  0.463415  0.780220  0.550642  \n",
       "2  0.447154  0.695971  0.646933  \n",
       "3  0.308943  0.798535  0.857347  \n",
       "4  0.455285  0.608059  0.325963  "
      ]
     },
     "execution_count": 87,
     "metadata": {},
     "output_type": "execute_result"
    }
   ],
   "source": [
    "X = pd.read_csv(\"./datasets/clustering/X_dataset.csv\")\n",
    "\n",
    "X.head()"
   ]
  },
  {
   "cell_type": "markdown",
   "metadata": {},
   "source": [
    "## 3.2 Data Dimension"
   ]
  },
  {
   "cell_type": "code",
   "execution_count": 88,
   "metadata": {},
   "outputs": [
    {
     "name": "stdout",
     "output_type": "stream",
     "text": [
      "Number of rows in X_: 178\n",
      "Number of cols in X: 13\n"
     ]
    }
   ],
   "source": [
    "print('Number of rows in X_:', X.shape[0])\n",
    "print('Number of cols in X:', X.shape[1])"
   ]
  },
  {
   "cell_type": "markdown",
   "metadata": {},
   "source": [
    "## 3.3 Data Types"
   ]
  },
  {
   "cell_type": "code",
   "execution_count": 89,
   "metadata": {},
   "outputs": [
    {
     "data": {
      "text/plain": [
       "alcohol                 float64\n",
       "malic_acid              float64\n",
       "ash                     float64\n",
       "ash_alcanity            float64\n",
       "magnesium               float64\n",
       "total_phenols           float64\n",
       "flavanoids              float64\n",
       "nonflavanoid_phenols    float64\n",
       "proanthocyanins         float64\n",
       "color_intensity         float64\n",
       "hue                     float64\n",
       "od280                   float64\n",
       "proline                 float64\n",
       "dtype: object"
      ]
     },
     "execution_count": 89,
     "metadata": {},
     "output_type": "execute_result"
    }
   ],
   "source": [
    "# Verifica os tipos de mtodas as colunas de X\n",
    "X.dtypes"
   ]
  },
  {
   "cell_type": "markdown",
   "metadata": {},
   "source": [
    "## 3.4 Check NA"
   ]
  },
  {
   "cell_type": "code",
   "execution_count": 90,
   "metadata": {},
   "outputs": [
    {
     "data": {
      "text/plain": [
       "alcohol                 0\n",
       "malic_acid              0\n",
       "ash                     0\n",
       "ash_alcanity            0\n",
       "magnesium               0\n",
       "total_phenols           0\n",
       "flavanoids              0\n",
       "nonflavanoid_phenols    0\n",
       "proanthocyanins         0\n",
       "color_intensity         0\n",
       "hue                     0\n",
       "od280                   0\n",
       "proline                 0\n",
       "dtype: int64"
      ]
     },
     "execution_count": 90,
     "metadata": {},
     "output_type": "execute_result"
    }
   ],
   "source": [
    "X.isna().sum()"
   ]
  },
  {
   "cell_type": "markdown",
   "metadata": {},
   "source": [
    "## 3.5 Estatística Descritiva"
   ]
  },
  {
   "cell_type": "code",
   "execution_count": 91,
   "metadata": {},
   "outputs": [
    {
     "data": {
      "text/html": [
       "<div>\n",
       "<style scoped>\n",
       "    .dataframe tbody tr th:only-of-type {\n",
       "        vertical-align: middle;\n",
       "    }\n",
       "\n",
       "    .dataframe tbody tr th {\n",
       "        vertical-align: top;\n",
       "    }\n",
       "\n",
       "    .dataframe thead th {\n",
       "        text-align: right;\n",
       "    }\n",
       "</style>\n",
       "<table border=\"1\" class=\"dataframe\">\n",
       "  <thead>\n",
       "    <tr style=\"text-align: right;\">\n",
       "      <th></th>\n",
       "      <th>attributes</th>\n",
       "      <th>min</th>\n",
       "      <th>max</th>\n",
       "      <th>range</th>\n",
       "      <th>mean</th>\n",
       "      <th>median</th>\n",
       "      <th>std</th>\n",
       "      <th>skew</th>\n",
       "      <th>kurtosis</th>\n",
       "    </tr>\n",
       "  </thead>\n",
       "  <tbody>\n",
       "    <tr>\n",
       "      <th>0</th>\n",
       "      <td>alcohol</td>\n",
       "      <td>-2.434235</td>\n",
       "      <td>2.259772</td>\n",
       "      <td>4.694007</td>\n",
       "      <td>-8.382808e-16</td>\n",
       "      <td>0.061000</td>\n",
       "      <td>1.002821</td>\n",
       "      <td>-0.051482</td>\n",
       "      <td>-0.852500</td>\n",
       "    </tr>\n",
       "    <tr>\n",
       "      <th>1</th>\n",
       "      <td>malic_acid</td>\n",
       "      <td>0.000000</td>\n",
       "      <td>1.000000</td>\n",
       "      <td>1.000000</td>\n",
       "      <td>3.154839e-01</td>\n",
       "      <td>0.222332</td>\n",
       "      <td>0.220780</td>\n",
       "      <td>1.039651</td>\n",
       "      <td>0.299207</td>\n",
       "    </tr>\n",
       "    <tr>\n",
       "      <th>2</th>\n",
       "      <td>ash</td>\n",
       "      <td>-3.679162</td>\n",
       "      <td>3.156325</td>\n",
       "      <td>6.835488</td>\n",
       "      <td>-8.170742e-16</td>\n",
       "      <td>-0.023821</td>\n",
       "      <td>1.002821</td>\n",
       "      <td>-0.176699</td>\n",
       "      <td>1.143978</td>\n",
       "    </tr>\n",
       "    <tr>\n",
       "      <th>3</th>\n",
       "      <td>ash_alcanity</td>\n",
       "      <td>-2.671018</td>\n",
       "      <td>3.154511</td>\n",
       "      <td>5.825529</td>\n",
       "      <td>-3.991813e-17</td>\n",
       "      <td>0.001518</td>\n",
       "      <td>1.002821</td>\n",
       "      <td>0.213047</td>\n",
       "      <td>0.487942</td>\n",
       "    </tr>\n",
       "    <tr>\n",
       "      <th>4</th>\n",
       "      <td>magnesium</td>\n",
       "      <td>-2.088255</td>\n",
       "      <td>4.371372</td>\n",
       "      <td>6.459627</td>\n",
       "      <td>-3.991813e-17</td>\n",
       "      <td>-0.122282</td>\n",
       "      <td>1.002821</td>\n",
       "      <td>1.098191</td>\n",
       "      <td>2.104991</td>\n",
       "    </tr>\n",
       "    <tr>\n",
       "      <th>5</th>\n",
       "      <td>total_phenols</td>\n",
       "      <td>0.000000</td>\n",
       "      <td>1.000000</td>\n",
       "      <td>1.000000</td>\n",
       "      <td>4.534870e-01</td>\n",
       "      <td>0.474138</td>\n",
       "      <td>0.215811</td>\n",
       "      <td>0.086639</td>\n",
       "      <td>-0.835627</td>\n",
       "    </tr>\n",
       "    <tr>\n",
       "      <th>6</th>\n",
       "      <td>flavanoids</td>\n",
       "      <td>0.000000</td>\n",
       "      <td>1.000000</td>\n",
       "      <td>1.000000</td>\n",
       "      <td>3.563860e-01</td>\n",
       "      <td>0.378692</td>\n",
       "      <td>0.210730</td>\n",
       "      <td>0.025344</td>\n",
       "      <td>-0.880382</td>\n",
       "    </tr>\n",
       "    <tr>\n",
       "      <th>7</th>\n",
       "      <td>nonflavanoid_phenols</td>\n",
       "      <td>-1.868234</td>\n",
       "      <td>2.402403</td>\n",
       "      <td>4.270637</td>\n",
       "      <td>3.592632e-16</td>\n",
       "      <td>-0.176095</td>\n",
       "      <td>1.002821</td>\n",
       "      <td>0.450151</td>\n",
       "      <td>-0.637191</td>\n",
       "    </tr>\n",
       "    <tr>\n",
       "      <th>8</th>\n",
       "      <td>proanthocyanins</td>\n",
       "      <td>-2.069034</td>\n",
       "      <td>3.485073</td>\n",
       "      <td>5.554107</td>\n",
       "      <td>-1.197544e-16</td>\n",
       "      <td>-0.062898</td>\n",
       "      <td>1.002821</td>\n",
       "      <td>0.517137</td>\n",
       "      <td>0.554649</td>\n",
       "    </tr>\n",
       "    <tr>\n",
       "      <th>9</th>\n",
       "      <td>color_intensity</td>\n",
       "      <td>-1.634288</td>\n",
       "      <td>3.435432</td>\n",
       "      <td>5.069720</td>\n",
       "      <td>3.991813e-17</td>\n",
       "      <td>-0.159225</td>\n",
       "      <td>1.002821</td>\n",
       "      <td>0.868585</td>\n",
       "      <td>0.381522</td>\n",
       "    </tr>\n",
       "    <tr>\n",
       "      <th>10</th>\n",
       "      <td>hue</td>\n",
       "      <td>0.000000</td>\n",
       "      <td>1.000000</td>\n",
       "      <td>1.000000</td>\n",
       "      <td>3.881703e-01</td>\n",
       "      <td>0.394309</td>\n",
       "      <td>0.185831</td>\n",
       "      <td>0.021091</td>\n",
       "      <td>-0.344096</td>\n",
       "    </tr>\n",
       "    <tr>\n",
       "      <th>11</th>\n",
       "      <td>od280</td>\n",
       "      <td>0.000000</td>\n",
       "      <td>1.000000</td>\n",
       "      <td>1.000000</td>\n",
       "      <td>4.914599e-01</td>\n",
       "      <td>0.553114</td>\n",
       "      <td>0.260070</td>\n",
       "      <td>-0.307285</td>\n",
       "      <td>-1.086435</td>\n",
       "    </tr>\n",
       "    <tr>\n",
       "      <th>12</th>\n",
       "      <td>proline</td>\n",
       "      <td>0.000000</td>\n",
       "      <td>1.000000</td>\n",
       "      <td>1.000000</td>\n",
       "      <td>3.344460e-01</td>\n",
       "      <td>0.282097</td>\n",
       "      <td>0.224613</td>\n",
       "      <td>0.767822</td>\n",
       "      <td>-0.248403</td>\n",
       "    </tr>\n",
       "  </tbody>\n",
       "</table>\n",
       "</div>"
      ],
      "text/plain": [
       "              attributes       min       max     range          mean  \\\n",
       "0                alcohol -2.434235  2.259772  4.694007 -8.382808e-16   \n",
       "1             malic_acid  0.000000  1.000000  1.000000  3.154839e-01   \n",
       "2                    ash -3.679162  3.156325  6.835488 -8.170742e-16   \n",
       "3           ash_alcanity -2.671018  3.154511  5.825529 -3.991813e-17   \n",
       "4              magnesium -2.088255  4.371372  6.459627 -3.991813e-17   \n",
       "5          total_phenols  0.000000  1.000000  1.000000  4.534870e-01   \n",
       "6             flavanoids  0.000000  1.000000  1.000000  3.563860e-01   \n",
       "7   nonflavanoid_phenols -1.868234  2.402403  4.270637  3.592632e-16   \n",
       "8        proanthocyanins -2.069034  3.485073  5.554107 -1.197544e-16   \n",
       "9        color_intensity -1.634288  3.435432  5.069720  3.991813e-17   \n",
       "10                   hue  0.000000  1.000000  1.000000  3.881703e-01   \n",
       "11                 od280  0.000000  1.000000  1.000000  4.914599e-01   \n",
       "12               proline  0.000000  1.000000  1.000000  3.344460e-01   \n",
       "\n",
       "      median       std      skew  kurtosis  \n",
       "0   0.061000  1.002821 -0.051482 -0.852500  \n",
       "1   0.222332  0.220780  1.039651  0.299207  \n",
       "2  -0.023821  1.002821 -0.176699  1.143978  \n",
       "3   0.001518  1.002821  0.213047  0.487942  \n",
       "4  -0.122282  1.002821  1.098191  2.104991  \n",
       "5   0.474138  0.215811  0.086639 -0.835627  \n",
       "6   0.378692  0.210730  0.025344 -0.880382  \n",
       "7  -0.176095  1.002821  0.450151 -0.637191  \n",
       "8  -0.062898  1.002821  0.517137  0.554649  \n",
       "9  -0.159225  1.002821  0.868585  0.381522  \n",
       "10  0.394309  0.185831  0.021091 -0.344096  \n",
       "11  0.553114  0.260070 -0.307285 -1.086435  \n",
       "12  0.282097  0.224613  0.767822 -0.248403  "
      ]
     },
     "execution_count": 91,
     "metadata": {},
     "output_type": "execute_result"
    }
   ],
   "source": [
    "get_descriptive_statistics(X)"
   ]
  },
  {
   "cell_type": "markdown",
   "metadata": {},
   "source": [
    "## 3.6 Transformação dos Dados"
   ]
  },
  {
   "cell_type": "code",
   "execution_count": 92,
   "metadata": {},
   "outputs": [],
   "source": [
    "scaler = MinMaxScaler()  \n",
    "\n",
    "# Ajusta o scaler aos dados de treinamento e transforma\n",
    "X_scaled = scaler.fit_transform(X)"
   ]
  },
  {
   "cell_type": "code",
   "execution_count": 93,
   "metadata": {},
   "outputs": [
    {
     "data": {
      "text/html": [
       "<div>\n",
       "<style scoped>\n",
       "    .dataframe tbody tr th:only-of-type {\n",
       "        vertical-align: middle;\n",
       "    }\n",
       "\n",
       "    .dataframe tbody tr th {\n",
       "        vertical-align: top;\n",
       "    }\n",
       "\n",
       "    .dataframe thead th {\n",
       "        text-align: right;\n",
       "    }\n",
       "</style>\n",
       "<table border=\"1\" class=\"dataframe\">\n",
       "  <thead>\n",
       "    <tr style=\"text-align: right;\">\n",
       "      <th></th>\n",
       "      <th>attributes</th>\n",
       "      <th>min</th>\n",
       "      <th>max</th>\n",
       "      <th>range</th>\n",
       "      <th>mean</th>\n",
       "      <th>median</th>\n",
       "      <th>std</th>\n",
       "      <th>skew</th>\n",
       "      <th>kurtosis</th>\n",
       "    </tr>\n",
       "  </thead>\n",
       "  <tbody>\n",
       "    <tr>\n",
       "      <th>0</th>\n",
       "      <td>alcohol</td>\n",
       "      <td>0.0</td>\n",
       "      <td>1.0</td>\n",
       "      <td>1.0</td>\n",
       "      <td>0.518584</td>\n",
       "      <td>0.531579</td>\n",
       "      <td>0.213639</td>\n",
       "      <td>-0.051482</td>\n",
       "      <td>-0.852500</td>\n",
       "    </tr>\n",
       "    <tr>\n",
       "      <th>1</th>\n",
       "      <td>malic_acid</td>\n",
       "      <td>0.0</td>\n",
       "      <td>1.0</td>\n",
       "      <td>1.0</td>\n",
       "      <td>0.315484</td>\n",
       "      <td>0.222332</td>\n",
       "      <td>0.220780</td>\n",
       "      <td>1.039651</td>\n",
       "      <td>0.299207</td>\n",
       "    </tr>\n",
       "    <tr>\n",
       "      <th>2</th>\n",
       "      <td>ash</td>\n",
       "      <td>0.0</td>\n",
       "      <td>1.0</td>\n",
       "      <td>1.0</td>\n",
       "      <td>0.538244</td>\n",
       "      <td>0.534759</td>\n",
       "      <td>0.146708</td>\n",
       "      <td>-0.176699</td>\n",
       "      <td>1.143978</td>\n",
       "    </tr>\n",
       "    <tr>\n",
       "      <th>3</th>\n",
       "      <td>ash_alcanity</td>\n",
       "      <td>0.0</td>\n",
       "      <td>1.0</td>\n",
       "      <td>1.0</td>\n",
       "      <td>0.458502</td>\n",
       "      <td>0.458763</td>\n",
       "      <td>0.172142</td>\n",
       "      <td>0.213047</td>\n",
       "      <td>0.487942</td>\n",
       "    </tr>\n",
       "    <tr>\n",
       "      <th>4</th>\n",
       "      <td>magnesium</td>\n",
       "      <td>0.0</td>\n",
       "      <td>1.0</td>\n",
       "      <td>1.0</td>\n",
       "      <td>0.323278</td>\n",
       "      <td>0.304348</td>\n",
       "      <td>0.155244</td>\n",
       "      <td>1.098191</td>\n",
       "      <td>2.104991</td>\n",
       "    </tr>\n",
       "    <tr>\n",
       "      <th>5</th>\n",
       "      <td>total_phenols</td>\n",
       "      <td>0.0</td>\n",
       "      <td>1.0</td>\n",
       "      <td>1.0</td>\n",
       "      <td>0.453487</td>\n",
       "      <td>0.474138</td>\n",
       "      <td>0.215811</td>\n",
       "      <td>0.086639</td>\n",
       "      <td>-0.835627</td>\n",
       "    </tr>\n",
       "    <tr>\n",
       "      <th>6</th>\n",
       "      <td>flavanoids</td>\n",
       "      <td>0.0</td>\n",
       "      <td>1.0</td>\n",
       "      <td>1.0</td>\n",
       "      <td>0.356386</td>\n",
       "      <td>0.378692</td>\n",
       "      <td>0.210730</td>\n",
       "      <td>0.025344</td>\n",
       "      <td>-0.880382</td>\n",
       "    </tr>\n",
       "    <tr>\n",
       "      <th>7</th>\n",
       "      <td>nonflavanoid_phenols</td>\n",
       "      <td>0.0</td>\n",
       "      <td>1.0</td>\n",
       "      <td>1.0</td>\n",
       "      <td>0.437460</td>\n",
       "      <td>0.396226</td>\n",
       "      <td>0.234818</td>\n",
       "      <td>0.450151</td>\n",
       "      <td>-0.637191</td>\n",
       "    </tr>\n",
       "    <tr>\n",
       "      <th>8</th>\n",
       "      <td>proanthocyanins</td>\n",
       "      <td>0.0</td>\n",
       "      <td>1.0</td>\n",
       "      <td>1.0</td>\n",
       "      <td>0.372523</td>\n",
       "      <td>0.361199</td>\n",
       "      <td>0.180555</td>\n",
       "      <td>0.517137</td>\n",
       "      <td>0.554649</td>\n",
       "    </tr>\n",
       "    <tr>\n",
       "      <th>9</th>\n",
       "      <td>color_intensity</td>\n",
       "      <td>0.0</td>\n",
       "      <td>1.0</td>\n",
       "      <td>1.0</td>\n",
       "      <td>0.322363</td>\n",
       "      <td>0.290956</td>\n",
       "      <td>0.197806</td>\n",
       "      <td>0.868585</td>\n",
       "      <td>0.381522</td>\n",
       "    </tr>\n",
       "    <tr>\n",
       "      <th>10</th>\n",
       "      <td>hue</td>\n",
       "      <td>0.0</td>\n",
       "      <td>1.0</td>\n",
       "      <td>1.0</td>\n",
       "      <td>0.388170</td>\n",
       "      <td>0.394309</td>\n",
       "      <td>0.185831</td>\n",
       "      <td>0.021091</td>\n",
       "      <td>-0.344096</td>\n",
       "    </tr>\n",
       "    <tr>\n",
       "      <th>11</th>\n",
       "      <td>od280</td>\n",
       "      <td>0.0</td>\n",
       "      <td>1.0</td>\n",
       "      <td>1.0</td>\n",
       "      <td>0.491460</td>\n",
       "      <td>0.553114</td>\n",
       "      <td>0.260070</td>\n",
       "      <td>-0.307285</td>\n",
       "      <td>-1.086435</td>\n",
       "    </tr>\n",
       "    <tr>\n",
       "      <th>12</th>\n",
       "      <td>proline</td>\n",
       "      <td>0.0</td>\n",
       "      <td>1.0</td>\n",
       "      <td>1.0</td>\n",
       "      <td>0.334446</td>\n",
       "      <td>0.282097</td>\n",
       "      <td>0.224613</td>\n",
       "      <td>0.767822</td>\n",
       "      <td>-0.248403</td>\n",
       "    </tr>\n",
       "  </tbody>\n",
       "</table>\n",
       "</div>"
      ],
      "text/plain": [
       "              attributes  min  max  range      mean    median       std  \\\n",
       "0                alcohol  0.0  1.0    1.0  0.518584  0.531579  0.213639   \n",
       "1             malic_acid  0.0  1.0    1.0  0.315484  0.222332  0.220780   \n",
       "2                    ash  0.0  1.0    1.0  0.538244  0.534759  0.146708   \n",
       "3           ash_alcanity  0.0  1.0    1.0  0.458502  0.458763  0.172142   \n",
       "4              magnesium  0.0  1.0    1.0  0.323278  0.304348  0.155244   \n",
       "5          total_phenols  0.0  1.0    1.0  0.453487  0.474138  0.215811   \n",
       "6             flavanoids  0.0  1.0    1.0  0.356386  0.378692  0.210730   \n",
       "7   nonflavanoid_phenols  0.0  1.0    1.0  0.437460  0.396226  0.234818   \n",
       "8        proanthocyanins  0.0  1.0    1.0  0.372523  0.361199  0.180555   \n",
       "9        color_intensity  0.0  1.0    1.0  0.322363  0.290956  0.197806   \n",
       "10                   hue  0.0  1.0    1.0  0.388170  0.394309  0.185831   \n",
       "11                 od280  0.0  1.0    1.0  0.491460  0.553114  0.260070   \n",
       "12               proline  0.0  1.0    1.0  0.334446  0.282097  0.224613   \n",
       "\n",
       "        skew  kurtosis  \n",
       "0  -0.051482 -0.852500  \n",
       "1   1.039651  0.299207  \n",
       "2  -0.176699  1.143978  \n",
       "3   0.213047  0.487942  \n",
       "4   1.098191  2.104991  \n",
       "5   0.086639 -0.835627  \n",
       "6   0.025344 -0.880382  \n",
       "7   0.450151 -0.637191  \n",
       "8   0.517137  0.554649  \n",
       "9   0.868585  0.381522  \n",
       "10  0.021091 -0.344096  \n",
       "11 -0.307285 -1.086435  \n",
       "12  0.767822 -0.248403  "
      ]
     },
     "execution_count": 93,
     "metadata": {},
     "output_type": "execute_result"
    }
   ],
   "source": [
    "get_descriptive_statistics(pd.DataFrame(X_scaled, columns=X.columns))"
   ]
  },
  {
   "cell_type": "markdown",
   "metadata": {},
   "source": [
    "## 3.7 O Ensaio de Machine Learning - Regressão"
   ]
  },
  {
   "cell_type": "markdown",
   "metadata": {},
   "source": [
    "### 3.7.1 K-Means"
   ]
  },
  {
   "cell_type": "code",
   "execution_count": 117,
   "metadata": {},
   "outputs": [],
   "source": [
    "n_cluster = np.arange(2,31)\n",
    "ss_avglist =[]\n",
    "\n",
    "for k in n_cluster:\n",
    "    #definition\n",
    "    kmeans = ct.KMeans( n_clusters = k,n_init=10)\n",
    "    \n",
    "    # fit\n",
    "    labels = kmeans.fit_predict( X_scaled )\n",
    "    \n",
    "    # performance\n",
    "    ss_avg = round(mt.silhouette_score( X_scaled, labels ),3)\n",
    "    ss_avglist.append(ss_avg)"
   ]
  },
  {
   "cell_type": "markdown",
   "metadata": {},
   "source": [
    "#### Performance Para o melhor valor de K"
   ]
  },
  {
   "cell_type": "code",
   "execution_count": 118,
   "metadata": {},
   "outputs": [
    {
     "name": "stdout",
     "output_type": "stream",
     "text": [
      " K:3 , Silhouette Score: 0.301\n"
     ]
    }
   ],
   "source": [
    "max_ss = max(ss_avglist)\n",
    "index_max = ss_avglist.index(max_ss)\n",
    "\n",
    "print (' K:{} , Silhouette Score: {}'.format(n_cluster[index_max], max_ss))"
   ]
  },
  {
   "cell_type": "code",
   "execution_count": 119,
   "metadata": {},
   "outputs": [
    {
     "data": {
      "text/plain": [
       "Text(0, 0.5, 'Silhouette Score')"
      ]
     },
     "execution_count": 119,
     "metadata": {},
     "output_type": "execute_result"
    },
    {
     "data": {
      "image/png": "[encoded data removed]",
      "text/plain": [
       "<Figure size 640x480 with 1 Axes>"
      ]
     },
     "metadata": {},
     "output_type": "display_data"
    }
   ],
   "source": [
    "# Elbow Method\n",
    "plt.plot( n_cluster, ss_avglist, marker='o')\n",
    "plt.xlabel('k value')\n",
    "plt.ylabel('Silhouette Score')"
   ]
  },
  {
   "cell_type": "code",
   "execution_count": 120,
   "metadata": {},
   "outputs": [
    {
     "data": {
      "text/html": [
       "<div>\n",
       "<style scoped>\n",
       "    .dataframe tbody tr th:only-of-type {\n",
       "        vertical-align: middle;\n",
       "    }\n",
       "\n",
       "    .dataframe tbody tr th {\n",
       "        vertical-align: top;\n",
       "    }\n",
       "\n",
       "    .dataframe thead th {\n",
       "        text-align: right;\n",
       "    }\n",
       "</style>\n",
       "<table border=\"1\" class=\"dataframe\">\n",
       "  <thead>\n",
       "    <tr style=\"text-align: right;\">\n",
       "      <th></th>\n",
       "      <th>Algoritmo</th>\n",
       "      <th>Número de clusters</th>\n",
       "      <th>Average Silhouette Score</th>\n",
       "    </tr>\n",
       "  </thead>\n",
       "  <tbody>\n",
       "    <tr>\n",
       "      <th>0</th>\n",
       "      <td>K-Means</td>\n",
       "      <td>3</td>\n",
       "      <td>0.301</td>\n",
       "    </tr>\n",
       "  </tbody>\n",
       "</table>\n",
       "</div>"
      ],
      "text/plain": [
       "  Algoritmo  Número de clusters  Average Silhouette Score\n",
       "0   K-Means                   3                     0.301"
      ]
     },
     "execution_count": 120,
     "metadata": {},
     "output_type": "execute_result"
    }
   ],
   "source": [
    "result_kmeans = pd.DataFrame({'Algoritmo': 'K-Means',\n",
    "                             'Número de clusters': n_cluster[index_max],\n",
    "                             'Average Silhouette Score': max_ss}, index=[0])\n",
    "result_kmeans"
   ]
  },
  {
   "cell_type": "markdown",
   "metadata": {},
   "source": [
    "### 3.7.2 Affinity Propagation"
   ]
  },
  {
   "cell_type": "code",
   "execution_count": 139,
   "metadata": {},
   "outputs": [],
   "source": [
    "p = np.arange( -1, -40, -1 )\n",
    "ss_avglist_ap = []\n",
    "for i in range( len( p ) ):\n",
    "\n",
    "    #definition\n",
    "    model = ct.AffinityPropagation( preference=p[i] )\n",
    "    \n",
    "    # fit\n",
    "    labels = model.fit_predict( X_scaled)\n",
    "    \n",
    "    if len( model.cluster_centers_indices_ ) == 1:\n",
    "        break\n",
    "\n",
    "    # performance\n",
    "    ss_avg = round(mt.silhouette_score( X_scaled, labels ),3)\n",
    "    ss_avglist_ap.append(ss_avg)"
   ]
  },
  {
   "cell_type": "markdown",
   "metadata": {},
   "source": [
    "#### Performance Para o melhor valor de preference"
   ]
  },
  {
   "cell_type": "code",
   "execution_count": 140,
   "metadata": {},
   "outputs": [
    {
     "data": {
      "image/png": "[encoded data removed]",
      "text/plain": [
       "<Figure size 640x480 with 1 Axes>"
      ]
     },
     "metadata": {},
     "output_type": "display_data"
    }
   ],
   "source": [
    "# Plot\n",
    "plt.plot( np.arange( -1, -len(ss_avglist_ap)-1, -1 ), ss_avglist_ap );\n",
    "plt.title( 'Affinity Propagation - Convergence' );\n",
    "plt.xlabel( 'Preference' );\n",
    "plt.ylabel( 'Silhouette Score' );\n",
    "plt.show();"
   ]
  },
  {
   "cell_type": "code",
   "execution_count": 141,
   "metadata": {},
   "outputs": [
    {
     "data": {
      "text/plain": [
       "1"
      ]
     },
     "execution_count": 141,
     "metadata": {},
     "output_type": "execute_result"
    }
   ],
   "source": [
    "ss_avglist.index( max( ss_avglist_ap ))"
   ]
  },
  {
   "cell_type": "code",
   "execution_count": 142,
   "metadata": {},
   "outputs": [
    {
     "name": "stdout",
     "output_type": "stream",
     "text": [
      "A melhor Silhouette Score media de valor igual a 0.301 foi obtida com preferencia igual a -18\n"
     ]
    }
   ],
   "source": [
    "best_preference = p[ ss_avglist_ap.index( max( ss_avglist_ap ) ) ]\n",
    "print(f\"A melhor Silhouette Score media de valor igual a {max( ss_avglist_ap )} foi obtida com preferencia igual a {best_preference}\")"
   ]
  },
  {
   "cell_type": "code",
   "execution_count": 144,
   "metadata": {},
   "outputs": [
    {
     "name": "stdout",
     "output_type": "stream",
     "text": [
      "Para o melhor modelo foram encontrados 2 clusters.\n"
     ]
    }
   ],
   "source": [
    "af_model = ct.AffinityPropagation( preference=best_preference )\n",
    "af_model.fit(X_scaled)\n",
    "\n",
    "print('Para o melhor modelo foram encontrados {} clusters.'.format( len( af_model.cluster_centers_indices_ )))"
   ]
  },
  {
   "cell_type": "code",
   "execution_count": 145,
   "metadata": {},
   "outputs": [
    {
     "data": {
      "text/html": [
       "<div>\n",
       "<style scoped>\n",
       "    .dataframe tbody tr th:only-of-type {\n",
       "        vertical-align: middle;\n",
       "    }\n",
       "\n",
       "    .dataframe tbody tr th {\n",
       "        vertical-align: top;\n",
       "    }\n",
       "\n",
       "    .dataframe thead th {\n",
       "        text-align: right;\n",
       "    }\n",
       "</style>\n",
       "<table border=\"1\" class=\"dataframe\">\n",
       "  <thead>\n",
       "    <tr style=\"text-align: right;\">\n",
       "      <th></th>\n",
       "      <th>Algoritmo</th>\n",
       "      <th>Número de clusters</th>\n",
       "      <th>Average Silhouette Score</th>\n",
       "    </tr>\n",
       "  </thead>\n",
       "  <tbody>\n",
       "    <tr>\n",
       "      <th>0</th>\n",
       "      <td>Affinity Propagation</td>\n",
       "      <td>2</td>\n",
       "      <td>0.301</td>\n",
       "    </tr>\n",
       "  </tbody>\n",
       "</table>\n",
       "</div>"
      ],
      "text/plain": [
       "              Algoritmo  Número de clusters  Average Silhouette Score\n",
       "0  Affinity Propagation                   2                     0.301"
      ]
     },
     "execution_count": 145,
     "metadata": {},
     "output_type": "execute_result"
    }
   ],
   "source": [
    "result_af = pd.DataFrame({'Algoritmo': 'Affinity Propagation',\n",
    "                             'Número de clusters': len( af_model.cluster_centers_indices_ ),\n",
    "                             'Average Silhouette Score': max( ss_avglist_ap )}, index=[0])\n",
    "\n",
    "result_af"
   ]
  },
  {
   "cell_type": "markdown",
   "metadata": {},
   "source": [
    "## 3.8 Resultado Final"
   ]
  },
  {
   "cell_type": "code",
   "execution_count": 146,
   "metadata": {},
   "outputs": [
    {
     "data": {
      "text/html": [
       "<div>\n",
       "<style scoped>\n",
       "    .dataframe tbody tr th:only-of-type {\n",
       "        vertical-align: middle;\n",
       "    }\n",
       "\n",
       "    .dataframe tbody tr th {\n",
       "        vertical-align: top;\n",
       "    }\n",
       "\n",
       "    .dataframe thead th {\n",
       "        text-align: right;\n",
       "    }\n",
       "</style>\n",
       "<table border=\"1\" class=\"dataframe\">\n",
       "  <thead>\n",
       "    <tr style=\"text-align: right;\">\n",
       "      <th></th>\n",
       "      <th>Algoritmo</th>\n",
       "      <th>Número de clusters</th>\n",
       "      <th>Average Silhouette Score</th>\n",
       "    </tr>\n",
       "  </thead>\n",
       "  <tbody>\n",
       "    <tr>\n",
       "      <th>0</th>\n",
       "      <td>K-Means</td>\n",
       "      <td>3</td>\n",
       "      <td>0.301</td>\n",
       "    </tr>\n",
       "    <tr>\n",
       "      <th>1</th>\n",
       "      <td>Affinity Propagation</td>\n",
       "      <td>2</td>\n",
       "      <td>0.301</td>\n",
       "    </tr>\n",
       "  </tbody>\n",
       "</table>\n",
       "</div>"
      ],
      "text/plain": [
       "              Algoritmo  Número de clusters  Average Silhouette Score\n",
       "0               K-Means                   3                     0.301\n",
       "1  Affinity Propagation                   2                     0.301"
      ]
     },
     "execution_count": 146,
     "metadata": {},
     "output_type": "execute_result"
    }
   ],
   "source": [
    "results_clustering = pd.concat([result_kmeans, result_af])\n",
    "results_clustering = results_clustering.reset_index(drop=True)\n",
    "results_clustering"
   ]
  }
 ],
 "metadata": {
  "kernelspec": {
   "display_name": "base",
   "language": "python",
   "name": "python3"
  },
  "language_info": {
   "codemirror_mode": {
    "name": "ipython",
    "version": 3
   },
   "file_extension": ".py",
   "mimetype": "text/x-python",
   "name": "python",
   "nbconvert_exporter": "python",
   "pygments_lexer": "ipython3",
   "version": "3.11.5"
  }
 },
 "nbformat": 4,
 "nbformat_minor": 2
}
